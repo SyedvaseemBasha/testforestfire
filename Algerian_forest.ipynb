{
  "cells": [
    {
      "cell_type": "markdown",
      "metadata": {
        "id": "w4m1Nx37ywvP"
      },
      "source": [
        "# Algerian_forest dataset"
      ]
    },
    {
      "cell_type": "markdown",
      "metadata": {
        "id": "_2hGCWVYvAf-"
      },
      "source": [
        "**Cleaning the Dataset**"
      ]
    },
    {
      "cell_type": "code",
      "execution_count": 1,
      "metadata": {
        "id": "BgKhp7WBUtsb"
      },
      "outputs": [],
      "source": [
        "import pandas as pd\n",
        "import numpy as np\n",
        "import matplotlib.pyplot as plt\n",
        "import seaborn as sns"
      ]
    },
    {
      "cell_type": "code",
      "execution_count": 2,
      "metadata": {
        "id": "sYe0BvGlvaVq"
      },
      "outputs": [],
      "source": [
        "dataset = pd.read_csv('P:\\ML_PROJECTS\\ML\\end_to_end_Linear_Regression\\Algerian_forest_fires_dataset (1).csv')"
      ]
    },
    {
      "cell_type": "code",
      "execution_count": 3,
      "metadata": {
        "colab": {
          "base_uri": "https://localhost:8080/",
          "height": 226
        },
        "id": "PoqtpH83vhYj",
        "outputId": "154666d3-1f04-4267-fb49-8a325cc62806"
      },
      "outputs": [
        {
          "data": {
            "text/html": [
              "<div>\n",
              "<style scoped>\n",
              "    .dataframe tbody tr th:only-of-type {\n",
              "        vertical-align: middle;\n",
              "    }\n",
              "\n",
              "    .dataframe tbody tr th {\n",
              "        vertical-align: top;\n",
              "    }\n",
              "\n",
              "    .dataframe thead th {\n",
              "        text-align: right;\n",
              "    }\n",
              "</style>\n",
              "<table border=\"1\" class=\"dataframe\">\n",
              "  <thead>\n",
              "    <tr style=\"text-align: right;\">\n",
              "      <th></th>\n",
              "      <th>day</th>\n",
              "      <th>month</th>\n",
              "      <th>year</th>\n",
              "      <th>Temperature</th>\n",
              "      <th>RH</th>\n",
              "      <th>Ws</th>\n",
              "      <th>Rain</th>\n",
              "      <th>FFMC</th>\n",
              "      <th>DMC</th>\n",
              "      <th>DC</th>\n",
              "      <th>ISI</th>\n",
              "      <th>BUI</th>\n",
              "      <th>FWI</th>\n",
              "      <th>Classes</th>\n",
              "    </tr>\n",
              "  </thead>\n",
              "  <tbody>\n",
              "    <tr>\n",
              "      <th>0</th>\n",
              "      <td>1</td>\n",
              "      <td>6</td>\n",
              "      <td>2012</td>\n",
              "      <td>29</td>\n",
              "      <td>57</td>\n",
              "      <td>18</td>\n",
              "      <td>0</td>\n",
              "      <td>65.7</td>\n",
              "      <td>3.4</td>\n",
              "      <td>7.6</td>\n",
              "      <td>1.3</td>\n",
              "      <td>3.4</td>\n",
              "      <td>0.5</td>\n",
              "      <td>not fire</td>\n",
              "    </tr>\n",
              "    <tr>\n",
              "      <th>1</th>\n",
              "      <td>2</td>\n",
              "      <td>6</td>\n",
              "      <td>2012</td>\n",
              "      <td>29</td>\n",
              "      <td>61</td>\n",
              "      <td>13</td>\n",
              "      <td>1.3</td>\n",
              "      <td>64.4</td>\n",
              "      <td>4.1</td>\n",
              "      <td>7.6</td>\n",
              "      <td>1</td>\n",
              "      <td>3.9</td>\n",
              "      <td>0.4</td>\n",
              "      <td>not fire</td>\n",
              "    </tr>\n",
              "    <tr>\n",
              "      <th>2</th>\n",
              "      <td>3</td>\n",
              "      <td>6</td>\n",
              "      <td>2012</td>\n",
              "      <td>26</td>\n",
              "      <td>82</td>\n",
              "      <td>22</td>\n",
              "      <td>13.1</td>\n",
              "      <td>47.1</td>\n",
              "      <td>2.5</td>\n",
              "      <td>7.1</td>\n",
              "      <td>0.3</td>\n",
              "      <td>2.7</td>\n",
              "      <td>0.1</td>\n",
              "      <td>not fire</td>\n",
              "    </tr>\n",
              "    <tr>\n",
              "      <th>3</th>\n",
              "      <td>4</td>\n",
              "      <td>6</td>\n",
              "      <td>2012</td>\n",
              "      <td>25</td>\n",
              "      <td>89</td>\n",
              "      <td>13</td>\n",
              "      <td>2.5</td>\n",
              "      <td>28.6</td>\n",
              "      <td>1.3</td>\n",
              "      <td>6.9</td>\n",
              "      <td>0</td>\n",
              "      <td>1.7</td>\n",
              "      <td>0</td>\n",
              "      <td>not fire</td>\n",
              "    </tr>\n",
              "    <tr>\n",
              "      <th>4</th>\n",
              "      <td>5</td>\n",
              "      <td>6</td>\n",
              "      <td>2012</td>\n",
              "      <td>27</td>\n",
              "      <td>77</td>\n",
              "      <td>16</td>\n",
              "      <td>0</td>\n",
              "      <td>64.8</td>\n",
              "      <td>3</td>\n",
              "      <td>14.2</td>\n",
              "      <td>1.2</td>\n",
              "      <td>3.9</td>\n",
              "      <td>0.5</td>\n",
              "      <td>not fire</td>\n",
              "    </tr>\n",
              "  </tbody>\n",
              "</table>\n",
              "</div>"
            ],
            "text/plain": [
              "  day month  year Temperature  RH  Ws Rain   FFMC  DMC    DC  ISI  BUI  FWI  \\\n",
              "0   1     6  2012          29  57  18     0  65.7  3.4   7.6  1.3  3.4  0.5   \n",
              "1   2     6  2012          29  61  13   1.3  64.4  4.1   7.6    1  3.9  0.4   \n",
              "2   3     6  2012          26  82  22  13.1  47.1  2.5   7.1  0.3  2.7  0.1   \n",
              "3   4     6  2012          25  89  13   2.5  28.6  1.3   6.9    0  1.7    0   \n",
              "4   5     6  2012          27  77  16     0  64.8    3  14.2  1.2  3.9  0.5   \n",
              "\n",
              "     Classes    \n",
              "0  not fire     \n",
              "1  not fire     \n",
              "2  not fire     \n",
              "3  not fire     \n",
              "4  not fire     "
            ]
          },
          "execution_count": 3,
          "metadata": {},
          "output_type": "execute_result"
        }
      ],
      "source": [
        "dataset.head()"
      ]
    },
    {
      "cell_type": "code",
      "execution_count": 4,
      "metadata": {
        "colab": {
          "base_uri": "https://localhost:8080/"
        },
        "id": "wbZy2uKVv6vr",
        "outputId": "0f9647f8-d24c-4a2c-93ad-620b7332d540"
      },
      "outputs": [
        {
          "name": "stdout",
          "output_type": "stream",
          "text": [
            "<class 'pandas.core.frame.DataFrame'>\n",
            "RangeIndex: 247 entries, 0 to 246\n",
            "Data columns (total 14 columns):\n",
            " #   Column       Non-Null Count  Dtype \n",
            "---  ------       --------------  ----- \n",
            " 0   day          246 non-null    object\n",
            " 1   month        245 non-null    object\n",
            " 2   year         245 non-null    object\n",
            " 3   Temperature  245 non-null    object\n",
            " 4    RH          245 non-null    object\n",
            " 5    Ws          245 non-null    object\n",
            " 6   Rain         245 non-null    object\n",
            " 7   FFMC         245 non-null    object\n",
            " 8   DMC          245 non-null    object\n",
            " 9   DC           245 non-null    object\n",
            " 10  ISI          245 non-null    object\n",
            " 11  BUI          245 non-null    object\n",
            " 12  FWI          245 non-null    object\n",
            " 13  Classes      244 non-null    object\n",
            "dtypes: object(14)\n",
            "memory usage: 27.1+ KB\n"
          ]
        }
      ],
      "source": [
        "dataset.info()"
      ]
    },
    {
      "cell_type": "markdown",
      "metadata": {
        "id": "EfwCkhmwwADA"
      },
      "source": [
        "**DATA CLEANING**"
      ]
    },
    {
      "cell_type": "code",
      "execution_count": 5,
      "metadata": {
        "colab": {
          "base_uri": "https://localhost:8080/",
          "height": 233
        },
        "id": "Pri0lgB-v9H_",
        "outputId": "b1de17c7-4586-4a74-c213-846bb8c7a164"
      },
      "outputs": [
        {
          "data": {
            "text/html": [
              "<div>\n",
              "<style scoped>\n",
              "    .dataframe tbody tr th:only-of-type {\n",
              "        vertical-align: middle;\n",
              "    }\n",
              "\n",
              "    .dataframe tbody tr th {\n",
              "        vertical-align: top;\n",
              "    }\n",
              "\n",
              "    .dataframe thead th {\n",
              "        text-align: right;\n",
              "    }\n",
              "</style>\n",
              "<table border=\"1\" class=\"dataframe\">\n",
              "  <thead>\n",
              "    <tr style=\"text-align: right;\">\n",
              "      <th></th>\n",
              "      <th>day</th>\n",
              "      <th>month</th>\n",
              "      <th>year</th>\n",
              "      <th>Temperature</th>\n",
              "      <th>RH</th>\n",
              "      <th>Ws</th>\n",
              "      <th>Rain</th>\n",
              "      <th>FFMC</th>\n",
              "      <th>DMC</th>\n",
              "      <th>DC</th>\n",
              "      <th>ISI</th>\n",
              "      <th>BUI</th>\n",
              "      <th>FWI</th>\n",
              "      <th>Classes</th>\n",
              "    </tr>\n",
              "  </thead>\n",
              "  <tbody>\n",
              "    <tr>\n",
              "      <th>122</th>\n",
              "      <td>NaN</td>\n",
              "      <td>NaN</td>\n",
              "      <td>NaN</td>\n",
              "      <td>NaN</td>\n",
              "      <td>NaN</td>\n",
              "      <td>NaN</td>\n",
              "      <td>NaN</td>\n",
              "      <td>NaN</td>\n",
              "      <td>NaN</td>\n",
              "      <td>NaN</td>\n",
              "      <td>NaN</td>\n",
              "      <td>NaN</td>\n",
              "      <td>NaN</td>\n",
              "      <td>NaN</td>\n",
              "    </tr>\n",
              "    <tr>\n",
              "      <th>123</th>\n",
              "      <td>Sidi-Bel Abbes Region Dataset</td>\n",
              "      <td>NaN</td>\n",
              "      <td>NaN</td>\n",
              "      <td>NaN</td>\n",
              "      <td>NaN</td>\n",
              "      <td>NaN</td>\n",
              "      <td>NaN</td>\n",
              "      <td>NaN</td>\n",
              "      <td>NaN</td>\n",
              "      <td>NaN</td>\n",
              "      <td>NaN</td>\n",
              "      <td>NaN</td>\n",
              "      <td>NaN</td>\n",
              "      <td>NaN</td>\n",
              "    </tr>\n",
              "    <tr>\n",
              "      <th>168</th>\n",
              "      <td>14</td>\n",
              "      <td>7</td>\n",
              "      <td>2012</td>\n",
              "      <td>37</td>\n",
              "      <td>37</td>\n",
              "      <td>18</td>\n",
              "      <td>0.2</td>\n",
              "      <td>88.9</td>\n",
              "      <td>12.9</td>\n",
              "      <td>14.6 9</td>\n",
              "      <td>12.5</td>\n",
              "      <td>10.4</td>\n",
              "      <td>fire</td>\n",
              "      <td>NaN</td>\n",
              "    </tr>\n",
              "  </tbody>\n",
              "</table>\n",
              "</div>"
            ],
            "text/plain": [
              "                               day month  year Temperature   RH   Ws Rain   \\\n",
              "122                            NaN   NaN   NaN         NaN  NaN  NaN   NaN   \n",
              "123  Sidi-Bel Abbes Region Dataset   NaN   NaN         NaN  NaN  NaN   NaN   \n",
              "168                             14     7  2012          37   37   18   0.2   \n",
              "\n",
              "     FFMC   DMC      DC   ISI   BUI      FWI Classes    \n",
              "122   NaN   NaN     NaN   NaN   NaN      NaN       NaN  \n",
              "123   NaN   NaN     NaN   NaN   NaN      NaN       NaN  \n",
              "168  88.9  12.9  14.6 9  12.5  10.4  fire          NaN  "
            ]
          },
          "execution_count": 5,
          "metadata": {},
          "output_type": "execute_result"
        }
      ],
      "source": [
        "#missing value\n",
        "dataset[dataset.isnull().any(axis=1)]"
      ]
    },
    {
      "cell_type": "code",
      "execution_count": 6,
      "metadata": {
        "colab": {
          "base_uri": "https://localhost:8080/"
        },
        "id": "MEPYPmbawUrT",
        "outputId": "ff31fbdf-3dde-4b0c-cc03-c26f0891241a"
      },
      "outputs": [
        {
          "name": "stdout",
          "output_type": "stream",
          "text": [
            "<class 'pandas.core.frame.DataFrame'>\n",
            "RangeIndex: 247 entries, 0 to 246\n",
            "Data columns (total 15 columns):\n",
            " #   Column       Non-Null Count  Dtype  \n",
            "---  ------       --------------  -----  \n",
            " 0   day          246 non-null    object \n",
            " 1   month        245 non-null    object \n",
            " 2   year         245 non-null    object \n",
            " 3   Temperature  245 non-null    object \n",
            " 4    RH          245 non-null    object \n",
            " 5    Ws          245 non-null    object \n",
            " 6   Rain         245 non-null    object \n",
            " 7   FFMC         245 non-null    object \n",
            " 8   DMC          245 non-null    object \n",
            " 9   DC           245 non-null    object \n",
            " 10  ISI          245 non-null    object \n",
            " 11  BUI          245 non-null    object \n",
            " 12  FWI          245 non-null    object \n",
            " 13  Classes      244 non-null    object \n",
            " 14  Region       247 non-null    float64\n",
            "dtypes: float64(1), object(14)\n",
            "memory usage: 29.1+ KB\n"
          ]
        }
      ],
      "source": [
        "dataset.loc[:122,'Region'] = 0\n",
        "dataset.loc[122:,'Region'] = 1\n",
        "df = dataset\n",
        "df.info()"
      ]
    },
    {
      "cell_type": "code",
      "execution_count": 7,
      "metadata": {
        "colab": {
          "base_uri": "https://localhost:8080/",
          "height": 226
        },
        "id": "c7ZGRfGPxF0x",
        "outputId": "0203e6f9-39e9-4d12-d750-9dc70039ee8f"
      },
      "outputs": [
        {
          "data": {
            "text/html": [
              "<div>\n",
              "<style scoped>\n",
              "    .dataframe tbody tr th:only-of-type {\n",
              "        vertical-align: middle;\n",
              "    }\n",
              "\n",
              "    .dataframe tbody tr th {\n",
              "        vertical-align: top;\n",
              "    }\n",
              "\n",
              "    .dataframe thead th {\n",
              "        text-align: right;\n",
              "    }\n",
              "</style>\n",
              "<table border=\"1\" class=\"dataframe\">\n",
              "  <thead>\n",
              "    <tr style=\"text-align: right;\">\n",
              "      <th></th>\n",
              "      <th>day</th>\n",
              "      <th>month</th>\n",
              "      <th>year</th>\n",
              "      <th>Temperature</th>\n",
              "      <th>RH</th>\n",
              "      <th>Ws</th>\n",
              "      <th>Rain</th>\n",
              "      <th>FFMC</th>\n",
              "      <th>DMC</th>\n",
              "      <th>DC</th>\n",
              "      <th>ISI</th>\n",
              "      <th>BUI</th>\n",
              "      <th>FWI</th>\n",
              "      <th>Classes</th>\n",
              "      <th>Region</th>\n",
              "    </tr>\n",
              "  </thead>\n",
              "  <tbody>\n",
              "    <tr>\n",
              "      <th>0</th>\n",
              "      <td>1</td>\n",
              "      <td>6</td>\n",
              "      <td>2012</td>\n",
              "      <td>29</td>\n",
              "      <td>57</td>\n",
              "      <td>18</td>\n",
              "      <td>0</td>\n",
              "      <td>65.7</td>\n",
              "      <td>3.4</td>\n",
              "      <td>7.6</td>\n",
              "      <td>1.3</td>\n",
              "      <td>3.4</td>\n",
              "      <td>0.5</td>\n",
              "      <td>not fire</td>\n",
              "      <td>0.0</td>\n",
              "    </tr>\n",
              "    <tr>\n",
              "      <th>1</th>\n",
              "      <td>2</td>\n",
              "      <td>6</td>\n",
              "      <td>2012</td>\n",
              "      <td>29</td>\n",
              "      <td>61</td>\n",
              "      <td>13</td>\n",
              "      <td>1.3</td>\n",
              "      <td>64.4</td>\n",
              "      <td>4.1</td>\n",
              "      <td>7.6</td>\n",
              "      <td>1</td>\n",
              "      <td>3.9</td>\n",
              "      <td>0.4</td>\n",
              "      <td>not fire</td>\n",
              "      <td>0.0</td>\n",
              "    </tr>\n",
              "    <tr>\n",
              "      <th>2</th>\n",
              "      <td>3</td>\n",
              "      <td>6</td>\n",
              "      <td>2012</td>\n",
              "      <td>26</td>\n",
              "      <td>82</td>\n",
              "      <td>22</td>\n",
              "      <td>13.1</td>\n",
              "      <td>47.1</td>\n",
              "      <td>2.5</td>\n",
              "      <td>7.1</td>\n",
              "      <td>0.3</td>\n",
              "      <td>2.7</td>\n",
              "      <td>0.1</td>\n",
              "      <td>not fire</td>\n",
              "      <td>0.0</td>\n",
              "    </tr>\n",
              "    <tr>\n",
              "      <th>3</th>\n",
              "      <td>4</td>\n",
              "      <td>6</td>\n",
              "      <td>2012</td>\n",
              "      <td>25</td>\n",
              "      <td>89</td>\n",
              "      <td>13</td>\n",
              "      <td>2.5</td>\n",
              "      <td>28.6</td>\n",
              "      <td>1.3</td>\n",
              "      <td>6.9</td>\n",
              "      <td>0</td>\n",
              "      <td>1.7</td>\n",
              "      <td>0</td>\n",
              "      <td>not fire</td>\n",
              "      <td>0.0</td>\n",
              "    </tr>\n",
              "    <tr>\n",
              "      <th>4</th>\n",
              "      <td>5</td>\n",
              "      <td>6</td>\n",
              "      <td>2012</td>\n",
              "      <td>27</td>\n",
              "      <td>77</td>\n",
              "      <td>16</td>\n",
              "      <td>0</td>\n",
              "      <td>64.8</td>\n",
              "      <td>3</td>\n",
              "      <td>14.2</td>\n",
              "      <td>1.2</td>\n",
              "      <td>3.9</td>\n",
              "      <td>0.5</td>\n",
              "      <td>not fire</td>\n",
              "      <td>0.0</td>\n",
              "    </tr>\n",
              "  </tbody>\n",
              "</table>\n",
              "</div>"
            ],
            "text/plain": [
              "  day month  year Temperature  RH  Ws Rain   FFMC  DMC    DC  ISI  BUI  FWI  \\\n",
              "0   1     6  2012          29  57  18     0  65.7  3.4   7.6  1.3  3.4  0.5   \n",
              "1   2     6  2012          29  61  13   1.3  64.4  4.1   7.6    1  3.9  0.4   \n",
              "2   3     6  2012          26  82  22  13.1  47.1  2.5   7.1  0.3  2.7  0.1   \n",
              "3   4     6  2012          25  89  13   2.5  28.6  1.3   6.9    0  1.7    0   \n",
              "4   5     6  2012          27  77  16     0  64.8    3  14.2  1.2  3.9  0.5   \n",
              "\n",
              "     Classes    Region  \n",
              "0  not fire        0.0  \n",
              "1  not fire        0.0  \n",
              "2  not fire        0.0  \n",
              "3  not fire        0.0  \n",
              "4  not fire        0.0  "
            ]
          },
          "execution_count": 7,
          "metadata": {},
          "output_type": "execute_result"
        }
      ],
      "source": [
        "df.head()"
      ]
    },
    {
      "cell_type": "code",
      "execution_count": 8,
      "metadata": {
        "id": "AK7u2BwFxK1G"
      },
      "outputs": [],
      "source": [
        "df[['Region']] = df[['Region']].astype(int)"
      ]
    },
    {
      "cell_type": "code",
      "execution_count": 9,
      "metadata": {
        "colab": {
          "base_uri": "https://localhost:8080/"
        },
        "id": "NDlq3A7Nxf8v",
        "outputId": "abc43c6d-bcb3-457b-bc15-aab73478d61e"
      },
      "outputs": [
        {
          "name": "stdout",
          "output_type": "stream",
          "text": [
            "<class 'pandas.core.frame.DataFrame'>\n",
            "RangeIndex: 247 entries, 0 to 246\n",
            "Data columns (total 15 columns):\n",
            " #   Column       Non-Null Count  Dtype \n",
            "---  ------       --------------  ----- \n",
            " 0   day          246 non-null    object\n",
            " 1   month        245 non-null    object\n",
            " 2   year         245 non-null    object\n",
            " 3   Temperature  245 non-null    object\n",
            " 4    RH          245 non-null    object\n",
            " 5    Ws          245 non-null    object\n",
            " 6   Rain         245 non-null    object\n",
            " 7   FFMC         245 non-null    object\n",
            " 8   DMC          245 non-null    object\n",
            " 9   DC           245 non-null    object\n",
            " 10  ISI          245 non-null    object\n",
            " 11  BUI          245 non-null    object\n",
            " 12  FWI          245 non-null    object\n",
            " 13  Classes      244 non-null    object\n",
            " 14  Region       247 non-null    int64 \n",
            "dtypes: int64(1), object(14)\n",
            "memory usage: 29.1+ KB\n"
          ]
        }
      ],
      "source": [
        "df.info()"
      ]
    },
    {
      "cell_type": "code",
      "execution_count": 10,
      "metadata": {
        "colab": {
          "base_uri": "https://localhost:8080/",
          "height": 226
        },
        "id": "_bnmM6a6xnF1",
        "outputId": "04722412-5147-4da2-a399-84b7968bf030"
      },
      "outputs": [
        {
          "data": {
            "text/html": [
              "<div>\n",
              "<style scoped>\n",
              "    .dataframe tbody tr th:only-of-type {\n",
              "        vertical-align: middle;\n",
              "    }\n",
              "\n",
              "    .dataframe tbody tr th {\n",
              "        vertical-align: top;\n",
              "    }\n",
              "\n",
              "    .dataframe thead th {\n",
              "        text-align: right;\n",
              "    }\n",
              "</style>\n",
              "<table border=\"1\" class=\"dataframe\">\n",
              "  <thead>\n",
              "    <tr style=\"text-align: right;\">\n",
              "      <th></th>\n",
              "      <th>day</th>\n",
              "      <th>month</th>\n",
              "      <th>year</th>\n",
              "      <th>Temperature</th>\n",
              "      <th>RH</th>\n",
              "      <th>Ws</th>\n",
              "      <th>Rain</th>\n",
              "      <th>FFMC</th>\n",
              "      <th>DMC</th>\n",
              "      <th>DC</th>\n",
              "      <th>ISI</th>\n",
              "      <th>BUI</th>\n",
              "      <th>FWI</th>\n",
              "      <th>Classes</th>\n",
              "      <th>Region</th>\n",
              "    </tr>\n",
              "  </thead>\n",
              "  <tbody>\n",
              "    <tr>\n",
              "      <th>0</th>\n",
              "      <td>1</td>\n",
              "      <td>6</td>\n",
              "      <td>2012</td>\n",
              "      <td>29</td>\n",
              "      <td>57</td>\n",
              "      <td>18</td>\n",
              "      <td>0</td>\n",
              "      <td>65.7</td>\n",
              "      <td>3.4</td>\n",
              "      <td>7.6</td>\n",
              "      <td>1.3</td>\n",
              "      <td>3.4</td>\n",
              "      <td>0.5</td>\n",
              "      <td>not fire</td>\n",
              "      <td>0</td>\n",
              "    </tr>\n",
              "    <tr>\n",
              "      <th>1</th>\n",
              "      <td>2</td>\n",
              "      <td>6</td>\n",
              "      <td>2012</td>\n",
              "      <td>29</td>\n",
              "      <td>61</td>\n",
              "      <td>13</td>\n",
              "      <td>1.3</td>\n",
              "      <td>64.4</td>\n",
              "      <td>4.1</td>\n",
              "      <td>7.6</td>\n",
              "      <td>1</td>\n",
              "      <td>3.9</td>\n",
              "      <td>0.4</td>\n",
              "      <td>not fire</td>\n",
              "      <td>0</td>\n",
              "    </tr>\n",
              "    <tr>\n",
              "      <th>2</th>\n",
              "      <td>3</td>\n",
              "      <td>6</td>\n",
              "      <td>2012</td>\n",
              "      <td>26</td>\n",
              "      <td>82</td>\n",
              "      <td>22</td>\n",
              "      <td>13.1</td>\n",
              "      <td>47.1</td>\n",
              "      <td>2.5</td>\n",
              "      <td>7.1</td>\n",
              "      <td>0.3</td>\n",
              "      <td>2.7</td>\n",
              "      <td>0.1</td>\n",
              "      <td>not fire</td>\n",
              "      <td>0</td>\n",
              "    </tr>\n",
              "    <tr>\n",
              "      <th>3</th>\n",
              "      <td>4</td>\n",
              "      <td>6</td>\n",
              "      <td>2012</td>\n",
              "      <td>25</td>\n",
              "      <td>89</td>\n",
              "      <td>13</td>\n",
              "      <td>2.5</td>\n",
              "      <td>28.6</td>\n",
              "      <td>1.3</td>\n",
              "      <td>6.9</td>\n",
              "      <td>0</td>\n",
              "      <td>1.7</td>\n",
              "      <td>0</td>\n",
              "      <td>not fire</td>\n",
              "      <td>0</td>\n",
              "    </tr>\n",
              "    <tr>\n",
              "      <th>4</th>\n",
              "      <td>5</td>\n",
              "      <td>6</td>\n",
              "      <td>2012</td>\n",
              "      <td>27</td>\n",
              "      <td>77</td>\n",
              "      <td>16</td>\n",
              "      <td>0</td>\n",
              "      <td>64.8</td>\n",
              "      <td>3</td>\n",
              "      <td>14.2</td>\n",
              "      <td>1.2</td>\n",
              "      <td>3.9</td>\n",
              "      <td>0.5</td>\n",
              "      <td>not fire</td>\n",
              "      <td>0</td>\n",
              "    </tr>\n",
              "  </tbody>\n",
              "</table>\n",
              "</div>"
            ],
            "text/plain": [
              "  day month  year Temperature  RH  Ws Rain   FFMC  DMC    DC  ISI  BUI  FWI  \\\n",
              "0   1     6  2012          29  57  18     0  65.7  3.4   7.6  1.3  3.4  0.5   \n",
              "1   2     6  2012          29  61  13   1.3  64.4  4.1   7.6    1  3.9  0.4   \n",
              "2   3     6  2012          26  82  22  13.1  47.1  2.5   7.1  0.3  2.7  0.1   \n",
              "3   4     6  2012          25  89  13   2.5  28.6  1.3   6.9    0  1.7    0   \n",
              "4   5     6  2012          27  77  16     0  64.8    3  14.2  1.2  3.9  0.5   \n",
              "\n",
              "     Classes    Region  \n",
              "0  not fire          0  \n",
              "1  not fire          0  \n",
              "2  not fire          0  \n",
              "3  not fire          0  \n",
              "4  not fire          0  "
            ]
          },
          "execution_count": 10,
          "metadata": {},
          "output_type": "execute_result"
        }
      ],
      "source": [
        "df.head()"
      ]
    },
    {
      "cell_type": "code",
      "execution_count": 11,
      "metadata": {
        "colab": {
          "base_uri": "https://localhost:8080/",
          "height": 554
        },
        "id": "dcqkk0X4xsTl",
        "outputId": "c526ffff-c72f-4e06-a695-c822b339b664"
      },
      "outputs": [
        {
          "data": {
            "text/plain": [
              "day            1\n",
              "month          2\n",
              "year           2\n",
              "Temperature    2\n",
              " RH            2\n",
              " Ws            2\n",
              "Rain           2\n",
              "FFMC           2\n",
              "DMC            2\n",
              "DC             2\n",
              "ISI            2\n",
              "BUI            2\n",
              "FWI            2\n",
              "Classes        3\n",
              "Region         0\n",
              "dtype: int64"
            ]
          },
          "execution_count": 11,
          "metadata": {},
          "output_type": "execute_result"
        }
      ],
      "source": [
        "df.isnull().sum()"
      ]
    },
    {
      "cell_type": "code",
      "execution_count": 12,
      "metadata": {
        "colab": {
          "base_uri": "https://localhost:8080/",
          "height": 226
        },
        "id": "6jy2N_tbxvAx",
        "outputId": "f4f6bf23-86c1-4267-f989-1322ba714c53"
      },
      "outputs": [
        {
          "data": {
            "text/html": [
              "<div>\n",
              "<style scoped>\n",
              "    .dataframe tbody tr th:only-of-type {\n",
              "        vertical-align: middle;\n",
              "    }\n",
              "\n",
              "    .dataframe tbody tr th {\n",
              "        vertical-align: top;\n",
              "    }\n",
              "\n",
              "    .dataframe thead th {\n",
              "        text-align: right;\n",
              "    }\n",
              "</style>\n",
              "<table border=\"1\" class=\"dataframe\">\n",
              "  <thead>\n",
              "    <tr style=\"text-align: right;\">\n",
              "      <th></th>\n",
              "      <th>day</th>\n",
              "      <th>month</th>\n",
              "      <th>year</th>\n",
              "      <th>Temperature</th>\n",
              "      <th>RH</th>\n",
              "      <th>Ws</th>\n",
              "      <th>Rain</th>\n",
              "      <th>FFMC</th>\n",
              "      <th>DMC</th>\n",
              "      <th>DC</th>\n",
              "      <th>ISI</th>\n",
              "      <th>BUI</th>\n",
              "      <th>FWI</th>\n",
              "      <th>Classes</th>\n",
              "      <th>Region</th>\n",
              "    </tr>\n",
              "  </thead>\n",
              "  <tbody>\n",
              "    <tr>\n",
              "      <th>0</th>\n",
              "      <td>1</td>\n",
              "      <td>6</td>\n",
              "      <td>2012</td>\n",
              "      <td>29</td>\n",
              "      <td>57</td>\n",
              "      <td>18</td>\n",
              "      <td>0</td>\n",
              "      <td>65.7</td>\n",
              "      <td>3.4</td>\n",
              "      <td>7.6</td>\n",
              "      <td>1.3</td>\n",
              "      <td>3.4</td>\n",
              "      <td>0.5</td>\n",
              "      <td>not fire</td>\n",
              "      <td>0</td>\n",
              "    </tr>\n",
              "    <tr>\n",
              "      <th>1</th>\n",
              "      <td>2</td>\n",
              "      <td>6</td>\n",
              "      <td>2012</td>\n",
              "      <td>29</td>\n",
              "      <td>61</td>\n",
              "      <td>13</td>\n",
              "      <td>1.3</td>\n",
              "      <td>64.4</td>\n",
              "      <td>4.1</td>\n",
              "      <td>7.6</td>\n",
              "      <td>1</td>\n",
              "      <td>3.9</td>\n",
              "      <td>0.4</td>\n",
              "      <td>not fire</td>\n",
              "      <td>0</td>\n",
              "    </tr>\n",
              "    <tr>\n",
              "      <th>2</th>\n",
              "      <td>3</td>\n",
              "      <td>6</td>\n",
              "      <td>2012</td>\n",
              "      <td>26</td>\n",
              "      <td>82</td>\n",
              "      <td>22</td>\n",
              "      <td>13.1</td>\n",
              "      <td>47.1</td>\n",
              "      <td>2.5</td>\n",
              "      <td>7.1</td>\n",
              "      <td>0.3</td>\n",
              "      <td>2.7</td>\n",
              "      <td>0.1</td>\n",
              "      <td>not fire</td>\n",
              "      <td>0</td>\n",
              "    </tr>\n",
              "    <tr>\n",
              "      <th>3</th>\n",
              "      <td>4</td>\n",
              "      <td>6</td>\n",
              "      <td>2012</td>\n",
              "      <td>25</td>\n",
              "      <td>89</td>\n",
              "      <td>13</td>\n",
              "      <td>2.5</td>\n",
              "      <td>28.6</td>\n",
              "      <td>1.3</td>\n",
              "      <td>6.9</td>\n",
              "      <td>0</td>\n",
              "      <td>1.7</td>\n",
              "      <td>0</td>\n",
              "      <td>not fire</td>\n",
              "      <td>0</td>\n",
              "    </tr>\n",
              "    <tr>\n",
              "      <th>4</th>\n",
              "      <td>5</td>\n",
              "      <td>6</td>\n",
              "      <td>2012</td>\n",
              "      <td>27</td>\n",
              "      <td>77</td>\n",
              "      <td>16</td>\n",
              "      <td>0</td>\n",
              "      <td>64.8</td>\n",
              "      <td>3</td>\n",
              "      <td>14.2</td>\n",
              "      <td>1.2</td>\n",
              "      <td>3.9</td>\n",
              "      <td>0.5</td>\n",
              "      <td>not fire</td>\n",
              "      <td>0</td>\n",
              "    </tr>\n",
              "  </tbody>\n",
              "</table>\n",
              "</div>"
            ],
            "text/plain": [
              "  day month  year Temperature  RH  Ws Rain   FFMC  DMC    DC  ISI  BUI  FWI  \\\n",
              "0   1     6  2012          29  57  18     0  65.7  3.4   7.6  1.3  3.4  0.5   \n",
              "1   2     6  2012          29  61  13   1.3  64.4  4.1   7.6    1  3.9  0.4   \n",
              "2   3     6  2012          26  82  22  13.1  47.1  2.5   7.1  0.3  2.7  0.1   \n",
              "3   4     6  2012          25  89  13   2.5  28.6  1.3   6.9    0  1.7    0   \n",
              "4   5     6  2012          27  77  16     0  64.8    3  14.2  1.2  3.9  0.5   \n",
              "\n",
              "     Classes    Region  \n",
              "0  not fire          0  \n",
              "1  not fire          0  \n",
              "2  not fire          0  \n",
              "3  not fire          0  \n",
              "4  not fire          0  "
            ]
          },
          "execution_count": 12,
          "metadata": {},
          "output_type": "execute_result"
        }
      ],
      "source": [
        "# Removing the null values\n",
        "df = df.dropna().reset_index(drop=True)\n",
        "df.head()\n"
      ]
    },
    {
      "cell_type": "code",
      "execution_count": 13,
      "metadata": {
        "colab": {
          "base_uri": "https://localhost:8080/",
          "height": 554
        },
        "id": "c8rpSFiOyA2C",
        "outputId": "e72ce3d3-d797-47c7-b44b-7e9791290deb"
      },
      "outputs": [
        {
          "data": {
            "text/plain": [
              "day            0\n",
              "month          0\n",
              "year           0\n",
              "Temperature    0\n",
              " RH            0\n",
              " Ws            0\n",
              "Rain           0\n",
              "FFMC           0\n",
              "DMC            0\n",
              "DC             0\n",
              "ISI            0\n",
              "BUI            0\n",
              "FWI            0\n",
              "Classes        0\n",
              "Region         0\n",
              "dtype: int64"
            ]
          },
          "execution_count": 13,
          "metadata": {},
          "output_type": "execute_result"
        }
      ],
      "source": [
        "df.isnull().sum()"
      ]
    },
    {
      "cell_type": "code",
      "execution_count": 14,
      "metadata": {
        "colab": {
          "base_uri": "https://localhost:8080/",
          "height": 554
        },
        "id": "Xm9JQdBTyOYY",
        "outputId": "5009fecc-27e4-4156-84b7-c8a3adf50978"
      },
      "outputs": [
        {
          "data": {
            "text/plain": [
              "day                    day\n",
              "month                month\n",
              "year                  year\n",
              "Temperature    Temperature\n",
              " RH                     RH\n",
              " Ws                     Ws\n",
              "Rain                 Rain \n",
              "FFMC                  FFMC\n",
              "DMC                    DMC\n",
              "DC                      DC\n",
              "ISI                    ISI\n",
              "BUI                    BUI\n",
              "FWI                    FWI\n",
              "Classes          Classes  \n",
              "Region                   1\n",
              "Name: 122, dtype: object"
            ]
          },
          "execution_count": 14,
          "metadata": {},
          "output_type": "execute_result"
        }
      ],
      "source": [
        "df.iloc[122]"
      ]
    },
    {
      "cell_type": "code",
      "execution_count": 15,
      "metadata": {
        "colab": {
          "base_uri": "https://localhost:8080/",
          "height": 554
        },
        "id": "AXKo0AM7yVp2",
        "outputId": "f2d1a27d-3971-4df6-ecfd-abb7b4dd0786"
      },
      "outputs": [
        {
          "data": {
            "text/plain": [
              "day                      1\n",
              "month                    6\n",
              "year                  2012\n",
              "Temperature             32\n",
              " RH                     71\n",
              " Ws                     12\n",
              "Rain                   0.7\n",
              "FFMC                  57.1\n",
              "DMC                    2.5\n",
              "DC                     8.2\n",
              "ISI                    0.6\n",
              "BUI                    2.8\n",
              "FWI                    0.2\n",
              "Classes        not fire   \n",
              "Region                   1\n",
              "Name: 122, dtype: object"
            ]
          },
          "execution_count": 15,
          "metadata": {},
          "output_type": "execute_result"
        }
      ],
      "source": [
        "# removing the 122nd row\n",
        "df = df.drop(122).reset_index(drop=True)\n",
        "df.iloc[122]"
      ]
    },
    {
      "cell_type": "code",
      "execution_count": 16,
      "metadata": {
        "colab": {
          "base_uri": "https://localhost:8080/"
        },
        "id": "8T9gwWeayb3q",
        "outputId": "776565a0-8d88-47bb-a071-1017c72642ce"
      },
      "outputs": [
        {
          "data": {
            "text/plain": [
              "Index(['day', 'month', 'year', 'Temperature', ' RH', ' Ws', 'Rain ', 'FFMC',\n",
              "       'DMC', 'DC', 'ISI', 'BUI', 'FWI', 'Classes  ', 'Region'],\n",
              "      dtype='object')"
            ]
          },
          "execution_count": 16,
          "metadata": {},
          "output_type": "execute_result"
        }
      ],
      "source": [
        "df.columns"
      ]
    },
    {
      "cell_type": "code",
      "execution_count": 17,
      "metadata": {
        "colab": {
          "base_uri": "https://localhost:8080/"
        },
        "id": "v_CMtuEvykDn",
        "outputId": "b0076714-fb9e-4cce-c82a-76a1889477aa"
      },
      "outputs": [
        {
          "data": {
            "text/plain": [
              "Index(['day', 'month', 'year', 'Temperature', 'RH', 'Ws', 'Rain', 'FFMC',\n",
              "       'DMC', 'DC', 'ISI', 'BUI', 'FWI', 'Classes', 'Region'],\n",
              "      dtype='object')"
            ]
          },
          "execution_count": 17,
          "metadata": {},
          "output_type": "execute_result"
        }
      ],
      "source": [
        "# fix spaces in columns names\n",
        "df.columns = df.columns.str.strip()\n",
        "df.columns"
      ]
    },
    {
      "cell_type": "code",
      "execution_count": 18,
      "metadata": {
        "colab": {
          "base_uri": "https://localhost:8080/"
        },
        "id": "Y0kVbWjly1p-",
        "outputId": "215d06ae-92f5-48ec-c4d6-ea1888ba86c8"
      },
      "outputs": [
        {
          "name": "stdout",
          "output_type": "stream",
          "text": [
            "<class 'pandas.core.frame.DataFrame'>\n",
            "RangeIndex: 243 entries, 0 to 242\n",
            "Data columns (total 15 columns):\n",
            " #   Column       Non-Null Count  Dtype \n",
            "---  ------       --------------  ----- \n",
            " 0   day          243 non-null    object\n",
            " 1   month        243 non-null    object\n",
            " 2   year         243 non-null    object\n",
            " 3   Temperature  243 non-null    object\n",
            " 4   RH           243 non-null    object\n",
            " 5   Ws           243 non-null    object\n",
            " 6   Rain         243 non-null    object\n",
            " 7   FFMC         243 non-null    object\n",
            " 8   DMC          243 non-null    object\n",
            " 9   DC           243 non-null    object\n",
            " 10  ISI          243 non-null    object\n",
            " 11  BUI          243 non-null    object\n",
            " 12  FWI          243 non-null    object\n",
            " 13  Classes      243 non-null    object\n",
            " 14  Region       243 non-null    int64 \n",
            "dtypes: int64(1), object(14)\n",
            "memory usage: 28.6+ KB\n"
          ]
        }
      ],
      "source": [
        "df.info()"
      ]
    },
    {
      "cell_type": "code",
      "execution_count": 19,
      "metadata": {
        "colab": {
          "base_uri": "https://localhost:8080/"
        },
        "id": "-nV3aaHQy5dj",
        "outputId": "f174d6d1-a617-4aed-d6af-65ae2ec692bb"
      },
      "outputs": [
        {
          "name": "stdout",
          "output_type": "stream",
          "text": [
            "<class 'pandas.core.frame.DataFrame'>\n",
            "RangeIndex: 243 entries, 0 to 242\n",
            "Data columns (total 15 columns):\n",
            " #   Column       Non-Null Count  Dtype \n",
            "---  ------       --------------  ----- \n",
            " 0   day          243 non-null    int64 \n",
            " 1   month        243 non-null    int64 \n",
            " 2   year         243 non-null    int64 \n",
            " 3   Temperature  243 non-null    int64 \n",
            " 4   RH           243 non-null    int64 \n",
            " 5   Ws           243 non-null    int64 \n",
            " 6   Rain         243 non-null    object\n",
            " 7   FFMC         243 non-null    object\n",
            " 8   DMC          243 non-null    object\n",
            " 9   DC           243 non-null    object\n",
            " 10  ISI          243 non-null    object\n",
            " 11  BUI          243 non-null    object\n",
            " 12  FWI          243 non-null    object\n",
            " 13  Classes      243 non-null    object\n",
            " 14  Region       243 non-null    int64 \n",
            "dtypes: int64(7), object(8)\n",
            "memory usage: 28.6+ KB\n"
          ]
        }
      ],
      "source": [
        "## Changes the required columns as integer data type\n",
        "df[['day','month','year','Temperature','RH','Ws']] = df[['day','month','year','Temperature','RH','Ws']].astype(int)\n",
        "df.info()"
      ]
    },
    {
      "cell_type": "code",
      "execution_count": 20,
      "metadata": {
        "id": "-ZL9fyjTzfbq"
      },
      "outputs": [],
      "source": [
        "# changing the other columns to float data type\n",
        "objects = [features for features in df.columns if df[features].dtypes=='O']"
      ]
    },
    {
      "cell_type": "code",
      "execution_count": 21,
      "metadata": {
        "id": "VTWNRct30Az-"
      },
      "outputs": [],
      "source": [
        "for i in objects:\n",
        "  if i!='Classes':\n",
        "     df[i] = df[i].astype(float)"
      ]
    },
    {
      "cell_type": "code",
      "execution_count": 22,
      "metadata": {
        "colab": {
          "base_uri": "https://localhost:8080/"
        },
        "id": "pTRktcGL0WGX",
        "outputId": "0f522ed5-8d8b-4b32-bc77-75443675c1de"
      },
      "outputs": [
        {
          "name": "stdout",
          "output_type": "stream",
          "text": [
            "<class 'pandas.core.frame.DataFrame'>\n",
            "RangeIndex: 243 entries, 0 to 242\n",
            "Data columns (total 15 columns):\n",
            " #   Column       Non-Null Count  Dtype  \n",
            "---  ------       --------------  -----  \n",
            " 0   day          243 non-null    int64  \n",
            " 1   month        243 non-null    int64  \n",
            " 2   year         243 non-null    int64  \n",
            " 3   Temperature  243 non-null    int64  \n",
            " 4   RH           243 non-null    int64  \n",
            " 5   Ws           243 non-null    int64  \n",
            " 6   Rain         243 non-null    float64\n",
            " 7   FFMC         243 non-null    float64\n",
            " 8   DMC          243 non-null    float64\n",
            " 9   DC           243 non-null    float64\n",
            " 10  ISI          243 non-null    float64\n",
            " 11  BUI          243 non-null    float64\n",
            " 12  FWI          243 non-null    float64\n",
            " 13  Classes      243 non-null    object \n",
            " 14  Region       243 non-null    int64  \n",
            "dtypes: float64(7), int64(7), object(1)\n",
            "memory usage: 28.6+ KB\n"
          ]
        }
      ],
      "source": [
        "df.info()"
      ]
    },
    {
      "cell_type": "code",
      "execution_count": 23,
      "metadata": {
        "colab": {
          "base_uri": "https://localhost:8080/",
          "height": 226
        },
        "id": "QzKRU3jq0azR",
        "outputId": "dac527be-9990-4d0d-f223-f0caee27bc90"
      },
      "outputs": [
        {
          "data": {
            "text/html": [
              "<div>\n",
              "<style scoped>\n",
              "    .dataframe tbody tr th:only-of-type {\n",
              "        vertical-align: middle;\n",
              "    }\n",
              "\n",
              "    .dataframe tbody tr th {\n",
              "        vertical-align: top;\n",
              "    }\n",
              "\n",
              "    .dataframe thead th {\n",
              "        text-align: right;\n",
              "    }\n",
              "</style>\n",
              "<table border=\"1\" class=\"dataframe\">\n",
              "  <thead>\n",
              "    <tr style=\"text-align: right;\">\n",
              "      <th></th>\n",
              "      <th>day</th>\n",
              "      <th>month</th>\n",
              "      <th>year</th>\n",
              "      <th>Temperature</th>\n",
              "      <th>RH</th>\n",
              "      <th>Ws</th>\n",
              "      <th>Rain</th>\n",
              "      <th>FFMC</th>\n",
              "      <th>DMC</th>\n",
              "      <th>DC</th>\n",
              "      <th>ISI</th>\n",
              "      <th>BUI</th>\n",
              "      <th>FWI</th>\n",
              "      <th>Classes</th>\n",
              "      <th>Region</th>\n",
              "    </tr>\n",
              "  </thead>\n",
              "  <tbody>\n",
              "    <tr>\n",
              "      <th>0</th>\n",
              "      <td>1</td>\n",
              "      <td>6</td>\n",
              "      <td>2012</td>\n",
              "      <td>29</td>\n",
              "      <td>57</td>\n",
              "      <td>18</td>\n",
              "      <td>0.0</td>\n",
              "      <td>65.7</td>\n",
              "      <td>3.4</td>\n",
              "      <td>7.6</td>\n",
              "      <td>1.3</td>\n",
              "      <td>3.4</td>\n",
              "      <td>0.5</td>\n",
              "      <td>not fire</td>\n",
              "      <td>0</td>\n",
              "    </tr>\n",
              "    <tr>\n",
              "      <th>1</th>\n",
              "      <td>2</td>\n",
              "      <td>6</td>\n",
              "      <td>2012</td>\n",
              "      <td>29</td>\n",
              "      <td>61</td>\n",
              "      <td>13</td>\n",
              "      <td>1.3</td>\n",
              "      <td>64.4</td>\n",
              "      <td>4.1</td>\n",
              "      <td>7.6</td>\n",
              "      <td>1.0</td>\n",
              "      <td>3.9</td>\n",
              "      <td>0.4</td>\n",
              "      <td>not fire</td>\n",
              "      <td>0</td>\n",
              "    </tr>\n",
              "    <tr>\n",
              "      <th>2</th>\n",
              "      <td>3</td>\n",
              "      <td>6</td>\n",
              "      <td>2012</td>\n",
              "      <td>26</td>\n",
              "      <td>82</td>\n",
              "      <td>22</td>\n",
              "      <td>13.1</td>\n",
              "      <td>47.1</td>\n",
              "      <td>2.5</td>\n",
              "      <td>7.1</td>\n",
              "      <td>0.3</td>\n",
              "      <td>2.7</td>\n",
              "      <td>0.1</td>\n",
              "      <td>not fire</td>\n",
              "      <td>0</td>\n",
              "    </tr>\n",
              "    <tr>\n",
              "      <th>3</th>\n",
              "      <td>4</td>\n",
              "      <td>6</td>\n",
              "      <td>2012</td>\n",
              "      <td>25</td>\n",
              "      <td>89</td>\n",
              "      <td>13</td>\n",
              "      <td>2.5</td>\n",
              "      <td>28.6</td>\n",
              "      <td>1.3</td>\n",
              "      <td>6.9</td>\n",
              "      <td>0.0</td>\n",
              "      <td>1.7</td>\n",
              "      <td>0.0</td>\n",
              "      <td>not fire</td>\n",
              "      <td>0</td>\n",
              "    </tr>\n",
              "    <tr>\n",
              "      <th>4</th>\n",
              "      <td>5</td>\n",
              "      <td>6</td>\n",
              "      <td>2012</td>\n",
              "      <td>27</td>\n",
              "      <td>77</td>\n",
              "      <td>16</td>\n",
              "      <td>0.0</td>\n",
              "      <td>64.8</td>\n",
              "      <td>3.0</td>\n",
              "      <td>14.2</td>\n",
              "      <td>1.2</td>\n",
              "      <td>3.9</td>\n",
              "      <td>0.5</td>\n",
              "      <td>not fire</td>\n",
              "      <td>0</td>\n",
              "    </tr>\n",
              "  </tbody>\n",
              "</table>\n",
              "</div>"
            ],
            "text/plain": [
              "   day  month  year  Temperature  RH  Ws  Rain  FFMC  DMC    DC  ISI  BUI  \\\n",
              "0    1      6  2012           29  57  18   0.0  65.7  3.4   7.6  1.3  3.4   \n",
              "1    2      6  2012           29  61  13   1.3  64.4  4.1   7.6  1.0  3.9   \n",
              "2    3      6  2012           26  82  22  13.1  47.1  2.5   7.1  0.3  2.7   \n",
              "3    4      6  2012           25  89  13   2.5  28.6  1.3   6.9  0.0  1.7   \n",
              "4    5      6  2012           27  77  16   0.0  64.8  3.0  14.2  1.2  3.9   \n",
              "\n",
              "   FWI      Classes  Region  \n",
              "0  0.5  not fire          0  \n",
              "1  0.4  not fire          0  \n",
              "2  0.1  not fire          0  \n",
              "3  0.0  not fire          0  \n",
              "4  0.5  not fire          0  "
            ]
          },
          "execution_count": 23,
          "metadata": {},
          "output_type": "execute_result"
        }
      ],
      "source": [
        "df.head()"
      ]
    },
    {
      "cell_type": "code",
      "execution_count": 24,
      "metadata": {
        "id": "fE6wHbjx0hTj"
      },
      "outputs": [],
      "source": [
        "## let ave the cleaned dataset\n",
        "df.to_csv('Algerian_forest_fires_cleaned_dataset.csv',index=False)"
      ]
    },
    {
      "cell_type": "markdown",
      "metadata": {
        "id": "Fhn6LnqCULuI"
      },
      "source": [
        "**Exploratory Data Analysis**"
      ]
    },
    {
      "cell_type": "code",
      "execution_count": 25,
      "metadata": {
        "colab": {
          "base_uri": "https://localhost:8080/",
          "height": 206
        },
        "id": "wtIETWs9UIwq",
        "outputId": "4d037473-e95c-45b9-b4b0-531cd7505e4e"
      },
      "outputs": [
        {
          "data": {
            "text/html": [
              "<div>\n",
              "<style scoped>\n",
              "    .dataframe tbody tr th:only-of-type {\n",
              "        vertical-align: middle;\n",
              "    }\n",
              "\n",
              "    .dataframe tbody tr th {\n",
              "        vertical-align: top;\n",
              "    }\n",
              "\n",
              "    .dataframe thead th {\n",
              "        text-align: right;\n",
              "    }\n",
              "</style>\n",
              "<table border=\"1\" class=\"dataframe\">\n",
              "  <thead>\n",
              "    <tr style=\"text-align: right;\">\n",
              "      <th></th>\n",
              "      <th>Temperature</th>\n",
              "      <th>RH</th>\n",
              "      <th>Ws</th>\n",
              "      <th>Rain</th>\n",
              "      <th>FFMC</th>\n",
              "      <th>DMC</th>\n",
              "      <th>DC</th>\n",
              "      <th>ISI</th>\n",
              "      <th>BUI</th>\n",
              "      <th>FWI</th>\n",
              "      <th>Classes</th>\n",
              "      <th>Region</th>\n",
              "    </tr>\n",
              "  </thead>\n",
              "  <tbody>\n",
              "    <tr>\n",
              "      <th>0</th>\n",
              "      <td>29</td>\n",
              "      <td>57</td>\n",
              "      <td>18</td>\n",
              "      <td>0.0</td>\n",
              "      <td>65.7</td>\n",
              "      <td>3.4</td>\n",
              "      <td>7.6</td>\n",
              "      <td>1.3</td>\n",
              "      <td>3.4</td>\n",
              "      <td>0.5</td>\n",
              "      <td>not fire</td>\n",
              "      <td>0</td>\n",
              "    </tr>\n",
              "    <tr>\n",
              "      <th>1</th>\n",
              "      <td>29</td>\n",
              "      <td>61</td>\n",
              "      <td>13</td>\n",
              "      <td>1.3</td>\n",
              "      <td>64.4</td>\n",
              "      <td>4.1</td>\n",
              "      <td>7.6</td>\n",
              "      <td>1.0</td>\n",
              "      <td>3.9</td>\n",
              "      <td>0.4</td>\n",
              "      <td>not fire</td>\n",
              "      <td>0</td>\n",
              "    </tr>\n",
              "    <tr>\n",
              "      <th>2</th>\n",
              "      <td>26</td>\n",
              "      <td>82</td>\n",
              "      <td>22</td>\n",
              "      <td>13.1</td>\n",
              "      <td>47.1</td>\n",
              "      <td>2.5</td>\n",
              "      <td>7.1</td>\n",
              "      <td>0.3</td>\n",
              "      <td>2.7</td>\n",
              "      <td>0.1</td>\n",
              "      <td>not fire</td>\n",
              "      <td>0</td>\n",
              "    </tr>\n",
              "    <tr>\n",
              "      <th>3</th>\n",
              "      <td>25</td>\n",
              "      <td>89</td>\n",
              "      <td>13</td>\n",
              "      <td>2.5</td>\n",
              "      <td>28.6</td>\n",
              "      <td>1.3</td>\n",
              "      <td>6.9</td>\n",
              "      <td>0.0</td>\n",
              "      <td>1.7</td>\n",
              "      <td>0.0</td>\n",
              "      <td>not fire</td>\n",
              "      <td>0</td>\n",
              "    </tr>\n",
              "    <tr>\n",
              "      <th>4</th>\n",
              "      <td>27</td>\n",
              "      <td>77</td>\n",
              "      <td>16</td>\n",
              "      <td>0.0</td>\n",
              "      <td>64.8</td>\n",
              "      <td>3.0</td>\n",
              "      <td>14.2</td>\n",
              "      <td>1.2</td>\n",
              "      <td>3.9</td>\n",
              "      <td>0.5</td>\n",
              "      <td>not fire</td>\n",
              "      <td>0</td>\n",
              "    </tr>\n",
              "  </tbody>\n",
              "</table>\n",
              "</div>"
            ],
            "text/plain": [
              "   Temperature  RH  Ws  Rain  FFMC  DMC    DC  ISI  BUI  FWI      Classes  \\\n",
              "0           29  57  18   0.0  65.7  3.4   7.6  1.3  3.4  0.5  not fire      \n",
              "1           29  61  13   1.3  64.4  4.1   7.6  1.0  3.9  0.4  not fire      \n",
              "2           26  82  22  13.1  47.1  2.5   7.1  0.3  2.7  0.1  not fire      \n",
              "3           25  89  13   2.5  28.6  1.3   6.9  0.0  1.7  0.0  not fire      \n",
              "4           27  77  16   0.0  64.8  3.0  14.2  1.2  3.9  0.5  not fire      \n",
              "\n",
              "   Region  \n",
              "0       0  \n",
              "1       0  \n",
              "2       0  \n",
              "3       0  \n",
              "4       0  "
            ]
          },
          "execution_count": 25,
          "metadata": {},
          "output_type": "execute_result"
        }
      ],
      "source": [
        "# drop 'day','month','year'\n",
        "df_copy = df.drop(['day','month','year'],axis=1)\n",
        "df_copy.head()"
      ]
    },
    {
      "cell_type": "code",
      "execution_count": 26,
      "metadata": {
        "colab": {
          "base_uri": "https://localhost:8080/",
          "height": 366
        },
        "id": "GeMSnRq8VuaE",
        "outputId": "55f8841c-955d-4b52-91ce-b8fe9c891ebb"
      },
      "outputs": [
        {
          "data": {
            "text/plain": [
              "Classes\n",
              "fire             131\n",
              "not fire         101\n",
              "fire               4\n",
              "fire               2\n",
              "not fire           2\n",
              "not fire           1\n",
              "not fire           1\n",
              "not fire           1\n",
              "Name: count, dtype: int64"
            ]
          },
          "execution_count": 26,
          "metadata": {},
          "output_type": "execute_result"
        }
      ],
      "source": [
        "# categories in classes\n",
        "df_copy['Classes'].value_counts()"
      ]
    },
    {
      "cell_type": "code",
      "execution_count": 27,
      "metadata": {
        "colab": {
          "base_uri": "https://localhost:8080/",
          "height": 206
        },
        "id": "xvpGzG3-UmLl",
        "outputId": "c94eb6a6-a673-416c-bff5-2cdf4e2285e2"
      },
      "outputs": [
        {
          "data": {
            "text/html": [
              "<div>\n",
              "<style scoped>\n",
              "    .dataframe tbody tr th:only-of-type {\n",
              "        vertical-align: middle;\n",
              "    }\n",
              "\n",
              "    .dataframe tbody tr th {\n",
              "        vertical-align: top;\n",
              "    }\n",
              "\n",
              "    .dataframe thead th {\n",
              "        text-align: right;\n",
              "    }\n",
              "</style>\n",
              "<table border=\"1\" class=\"dataframe\">\n",
              "  <thead>\n",
              "    <tr style=\"text-align: right;\">\n",
              "      <th></th>\n",
              "      <th>Temperature</th>\n",
              "      <th>RH</th>\n",
              "      <th>Ws</th>\n",
              "      <th>Rain</th>\n",
              "      <th>FFMC</th>\n",
              "      <th>DMC</th>\n",
              "      <th>DC</th>\n",
              "      <th>ISI</th>\n",
              "      <th>BUI</th>\n",
              "      <th>FWI</th>\n",
              "      <th>Classes</th>\n",
              "      <th>Region</th>\n",
              "    </tr>\n",
              "  </thead>\n",
              "  <tbody>\n",
              "    <tr>\n",
              "      <th>0</th>\n",
              "      <td>29</td>\n",
              "      <td>57</td>\n",
              "      <td>18</td>\n",
              "      <td>0.0</td>\n",
              "      <td>65.7</td>\n",
              "      <td>3.4</td>\n",
              "      <td>7.6</td>\n",
              "      <td>1.3</td>\n",
              "      <td>3.4</td>\n",
              "      <td>0.5</td>\n",
              "      <td>0</td>\n",
              "      <td>0</td>\n",
              "    </tr>\n",
              "    <tr>\n",
              "      <th>1</th>\n",
              "      <td>29</td>\n",
              "      <td>61</td>\n",
              "      <td>13</td>\n",
              "      <td>1.3</td>\n",
              "      <td>64.4</td>\n",
              "      <td>4.1</td>\n",
              "      <td>7.6</td>\n",
              "      <td>1.0</td>\n",
              "      <td>3.9</td>\n",
              "      <td>0.4</td>\n",
              "      <td>0</td>\n",
              "      <td>0</td>\n",
              "    </tr>\n",
              "    <tr>\n",
              "      <th>2</th>\n",
              "      <td>26</td>\n",
              "      <td>82</td>\n",
              "      <td>22</td>\n",
              "      <td>13.1</td>\n",
              "      <td>47.1</td>\n",
              "      <td>2.5</td>\n",
              "      <td>7.1</td>\n",
              "      <td>0.3</td>\n",
              "      <td>2.7</td>\n",
              "      <td>0.1</td>\n",
              "      <td>0</td>\n",
              "      <td>0</td>\n",
              "    </tr>\n",
              "    <tr>\n",
              "      <th>3</th>\n",
              "      <td>25</td>\n",
              "      <td>89</td>\n",
              "      <td>13</td>\n",
              "      <td>2.5</td>\n",
              "      <td>28.6</td>\n",
              "      <td>1.3</td>\n",
              "      <td>6.9</td>\n",
              "      <td>0.0</td>\n",
              "      <td>1.7</td>\n",
              "      <td>0.0</td>\n",
              "      <td>0</td>\n",
              "      <td>0</td>\n",
              "    </tr>\n",
              "    <tr>\n",
              "      <th>4</th>\n",
              "      <td>27</td>\n",
              "      <td>77</td>\n",
              "      <td>16</td>\n",
              "      <td>0.0</td>\n",
              "      <td>64.8</td>\n",
              "      <td>3.0</td>\n",
              "      <td>14.2</td>\n",
              "      <td>1.2</td>\n",
              "      <td>3.9</td>\n",
              "      <td>0.5</td>\n",
              "      <td>0</td>\n",
              "      <td>0</td>\n",
              "    </tr>\n",
              "  </tbody>\n",
              "</table>\n",
              "</div>"
            ],
            "text/plain": [
              "   Temperature  RH  Ws  Rain  FFMC  DMC    DC  ISI  BUI  FWI  Classes  Region\n",
              "0           29  57  18   0.0  65.7  3.4   7.6  1.3  3.4  0.5        0       0\n",
              "1           29  61  13   1.3  64.4  4.1   7.6  1.0  3.9  0.4        0       0\n",
              "2           26  82  22  13.1  47.1  2.5   7.1  0.3  2.7  0.1        0       0\n",
              "3           25  89  13   2.5  28.6  1.3   6.9  0.0  1.7  0.0        0       0\n",
              "4           27  77  16   0.0  64.8  3.0  14.2  1.2  3.9  0.5        0       0"
            ]
          },
          "execution_count": 27,
          "metadata": {},
          "output_type": "execute_result"
        }
      ],
      "source": [
        "# Encoding of the categories in class\n",
        "df_copy['Classes'] = np.where(df_copy['Classes'].str.contains('not fire'),0,1)\n",
        "df_copy.head()"
      ]
    },
    {
      "cell_type": "code",
      "execution_count": 28,
      "metadata": {
        "colab": {
          "base_uri": "https://localhost:8080/",
          "height": 178
        },
        "id": "cR8J5dxQVcsI",
        "outputId": "8e6c161c-65ca-4ea8-80de-9714960a5038"
      },
      "outputs": [
        {
          "data": {
            "text/plain": [
              "Classes\n",
              "1    137\n",
              "0    106\n",
              "Name: count, dtype: int64"
            ]
          },
          "execution_count": 28,
          "metadata": {},
          "output_type": "execute_result"
        }
      ],
      "source": [
        "df_copy['Classes'].value_counts()"
      ]
    },
    {
      "cell_type": "code",
      "execution_count": 29,
      "metadata": {},
      "outputs": [
        {
          "name": "stdout",
          "output_type": "stream",
          "text": [
            "['Solarize_Light2', '_classic_test_patch', '_mpl-gallery', '_mpl-gallery-nogrid', 'bmh', 'classic', 'dark_background', 'fast', 'fivethirtyeight', 'ggplot', 'grayscale', 'seaborn-v0_8', 'seaborn-v0_8-bright', 'seaborn-v0_8-colorblind', 'seaborn-v0_8-dark', 'seaborn-v0_8-dark-palette', 'seaborn-v0_8-darkgrid', 'seaborn-v0_8-deep', 'seaborn-v0_8-muted', 'seaborn-v0_8-notebook', 'seaborn-v0_8-paper', 'seaborn-v0_8-pastel', 'seaborn-v0_8-poster', 'seaborn-v0_8-talk', 'seaborn-v0_8-ticks', 'seaborn-v0_8-white', 'seaborn-v0_8-whitegrid', 'tableau-colorblind10']\n"
          ]
        }
      ],
      "source": [
        "import matplotlib.pyplot as plt\n",
        "print(plt.style.available)"
      ]
    },
    {
      "cell_type": "code",
      "execution_count": 30,
      "metadata": {
        "colab": {
          "base_uri": "https://localhost:8080/",
          "height": 754
        },
        "id": "OBTG8IC-Vgy4",
        "outputId": "37c48732-3f2a-426f-8050-d46d3184fe10"
      },
      "outputs": [
        {
          "data": {
            "image/png": "[encoded data removed]",
            "text/plain": [
              "<Figure size 1500x1500 with 12 Axes>"
            ]
          },
          "metadata": {},
          "output_type": "display_data"
        }
      ],
      "source": [
        "# plot desnity plot for all features\n",
        "plt.style.use('Solarize_Light2')\n",
        "df_copy.hist(figsize=(15,15))\n",
        "plt.show()"
      ]
    },
    {
      "cell_type": "code",
      "execution_count": 31,
      "metadata": {
        "id": "F5ql8m4VWy60"
      },
      "outputs": [],
      "source": [
        "# percentage for pie chart\n",
        "percentage = df_copy['Classes'].value_counts(normalize=True)*100"
      ]
    },
    {
      "cell_type": "code",
      "execution_count": 32,
      "metadata": {
        "colab": {
          "base_uri": "https://localhost:8080/",
          "height": 804
        },
        "id": "Zkqs3WUcWy3a",
        "outputId": "07a6289e-9729-4108-e67d-433723e2d105"
      },
      "outputs": [
        {
          "data": {
            "text/plain": [
              "([<matplotlib.patches.Wedge at 0x1ac36047990>,\n",
              "  <matplotlib.patches.Wedge at 0x1ac36cdc750>],\n",
              " [Text(-0.2189564657232264, 1.0779879712306597, 'Fire'),\n",
              "  Text(0.21895655996393085, -1.0779879520888727, 'Not Fire')],\n",
              " [Text(-0.11943079948539621, 0.5879934388530871, '56.38%'),\n",
              "  Text(0.11943085088941681, -0.5879934284121123, '43.62%')])"
            ]
          },
          "execution_count": 32,
          "metadata": {},
          "output_type": "execute_result"
        },
        {
          "data": {
            "image/png": "[encoded data removed]",
            "text/plain": [
              "<Figure size 1000x1000 with 1 Axes>"
            ]
          },
          "metadata": {},
          "output_type": "display_data"
        }
      ],
      "source": [
        "# plotting piechart\n",
        "classlabels = ['Fire','Not Fire']\n",
        "plt.figure(figsize=(10,10))\n",
        "plt.pie(percentage,labels=classlabels,autopct='%1.2f%%')"
      ]
    },
    {
      "cell_type": "code",
      "execution_count": 33,
      "metadata": {
        "colab": {
          "base_uri": "https://localhost:8080/",
          "height": 445
        },
        "id": "gsILwvkgXXh2",
        "outputId": "1b25a50b-ce4f-42a9-bf1b-12159e302f14"
      },
      "outputs": [
        {
          "data": {
            "text/html": [
              "<div>\n",
              "<style scoped>\n",
              "    .dataframe tbody tr th:only-of-type {\n",
              "        vertical-align: middle;\n",
              "    }\n",
              "\n",
              "    .dataframe tbody tr th {\n",
              "        vertical-align: top;\n",
              "    }\n",
              "\n",
              "    .dataframe thead th {\n",
              "        text-align: right;\n",
              "    }\n",
              "</style>\n",
              "<table border=\"1\" class=\"dataframe\">\n",
              "  <thead>\n",
              "    <tr style=\"text-align: right;\">\n",
              "      <th></th>\n",
              "      <th>Temperature</th>\n",
              "      <th>RH</th>\n",
              "      <th>Ws</th>\n",
              "      <th>Rain</th>\n",
              "      <th>FFMC</th>\n",
              "      <th>DMC</th>\n",
              "      <th>DC</th>\n",
              "      <th>ISI</th>\n",
              "      <th>BUI</th>\n",
              "      <th>FWI</th>\n",
              "      <th>Classes</th>\n",
              "      <th>Region</th>\n",
              "    </tr>\n",
              "  </thead>\n",
              "  <tbody>\n",
              "    <tr>\n",
              "      <th>Temperature</th>\n",
              "      <td>1.000000</td>\n",
              "      <td>-0.651400</td>\n",
              "      <td>-0.284510</td>\n",
              "      <td>-0.326492</td>\n",
              "      <td>0.676568</td>\n",
              "      <td>0.485687</td>\n",
              "      <td>0.376284</td>\n",
              "      <td>0.603871</td>\n",
              "      <td>0.459789</td>\n",
              "      <td>0.566670</td>\n",
              "      <td>0.516015</td>\n",
              "      <td>0.269555</td>\n",
              "    </tr>\n",
              "    <tr>\n",
              "      <th>RH</th>\n",
              "      <td>-0.651400</td>\n",
              "      <td>1.000000</td>\n",
              "      <td>0.244048</td>\n",
              "      <td>0.222356</td>\n",
              "      <td>-0.644873</td>\n",
              "      <td>-0.408519</td>\n",
              "      <td>-0.226941</td>\n",
              "      <td>-0.686667</td>\n",
              "      <td>-0.353841</td>\n",
              "      <td>-0.580957</td>\n",
              "      <td>-0.432161</td>\n",
              "      <td>-0.402682</td>\n",
              "    </tr>\n",
              "    <tr>\n",
              "      <th>Ws</th>\n",
              "      <td>-0.284510</td>\n",
              "      <td>0.244048</td>\n",
              "      <td>1.000000</td>\n",
              "      <td>0.171506</td>\n",
              "      <td>-0.166548</td>\n",
              "      <td>-0.000721</td>\n",
              "      <td>0.079135</td>\n",
              "      <td>0.008532</td>\n",
              "      <td>0.031438</td>\n",
              "      <td>0.032368</td>\n",
              "      <td>-0.069964</td>\n",
              "      <td>-0.181160</td>\n",
              "    </tr>\n",
              "    <tr>\n",
              "      <th>Rain</th>\n",
              "      <td>-0.326492</td>\n",
              "      <td>0.222356</td>\n",
              "      <td>0.171506</td>\n",
              "      <td>1.000000</td>\n",
              "      <td>-0.543906</td>\n",
              "      <td>-0.288773</td>\n",
              "      <td>-0.298023</td>\n",
              "      <td>-0.347484</td>\n",
              "      <td>-0.299852</td>\n",
              "      <td>-0.324422</td>\n",
              "      <td>-0.379097</td>\n",
              "      <td>-0.040013</td>\n",
              "    </tr>\n",
              "    <tr>\n",
              "      <th>FFMC</th>\n",
              "      <td>0.676568</td>\n",
              "      <td>-0.644873</td>\n",
              "      <td>-0.166548</td>\n",
              "      <td>-0.543906</td>\n",
              "      <td>1.000000</td>\n",
              "      <td>0.603608</td>\n",
              "      <td>0.507397</td>\n",
              "      <td>0.740007</td>\n",
              "      <td>0.592011</td>\n",
              "      <td>0.691132</td>\n",
              "      <td>0.769492</td>\n",
              "      <td>0.222241</td>\n",
              "    </tr>\n",
              "    <tr>\n",
              "      <th>DMC</th>\n",
              "      <td>0.485687</td>\n",
              "      <td>-0.408519</td>\n",
              "      <td>-0.000721</td>\n",
              "      <td>-0.288773</td>\n",
              "      <td>0.603608</td>\n",
              "      <td>1.000000</td>\n",
              "      <td>0.875925</td>\n",
              "      <td>0.680454</td>\n",
              "      <td>0.982248</td>\n",
              "      <td>0.875864</td>\n",
              "      <td>0.585658</td>\n",
              "      <td>0.192089</td>\n",
              "    </tr>\n",
              "    <tr>\n",
              "      <th>DC</th>\n",
              "      <td>0.376284</td>\n",
              "      <td>-0.226941</td>\n",
              "      <td>0.079135</td>\n",
              "      <td>-0.298023</td>\n",
              "      <td>0.507397</td>\n",
              "      <td>0.875925</td>\n",
              "      <td>1.000000</td>\n",
              "      <td>0.508643</td>\n",
              "      <td>0.941988</td>\n",
              "      <td>0.739521</td>\n",
              "      <td>0.511123</td>\n",
              "      <td>-0.078734</td>\n",
              "    </tr>\n",
              "    <tr>\n",
              "      <th>ISI</th>\n",
              "      <td>0.603871</td>\n",
              "      <td>-0.686667</td>\n",
              "      <td>0.008532</td>\n",
              "      <td>-0.347484</td>\n",
              "      <td>0.740007</td>\n",
              "      <td>0.680454</td>\n",
              "      <td>0.508643</td>\n",
              "      <td>1.000000</td>\n",
              "      <td>0.644093</td>\n",
              "      <td>0.922895</td>\n",
              "      <td>0.735197</td>\n",
              "      <td>0.263197</td>\n",
              "    </tr>\n",
              "    <tr>\n",
              "      <th>BUI</th>\n",
              "      <td>0.459789</td>\n",
              "      <td>-0.353841</td>\n",
              "      <td>0.031438</td>\n",
              "      <td>-0.299852</td>\n",
              "      <td>0.592011</td>\n",
              "      <td>0.982248</td>\n",
              "      <td>0.941988</td>\n",
              "      <td>0.644093</td>\n",
              "      <td>1.000000</td>\n",
              "      <td>0.857973</td>\n",
              "      <td>0.586639</td>\n",
              "      <td>0.089408</td>\n",
              "    </tr>\n",
              "    <tr>\n",
              "      <th>FWI</th>\n",
              "      <td>0.566670</td>\n",
              "      <td>-0.580957</td>\n",
              "      <td>0.032368</td>\n",
              "      <td>-0.324422</td>\n",
              "      <td>0.691132</td>\n",
              "      <td>0.875864</td>\n",
              "      <td>0.739521</td>\n",
              "      <td>0.922895</td>\n",
              "      <td>0.857973</td>\n",
              "      <td>1.000000</td>\n",
              "      <td>0.719216</td>\n",
              "      <td>0.197102</td>\n",
              "    </tr>\n",
              "    <tr>\n",
              "      <th>Classes</th>\n",
              "      <td>0.516015</td>\n",
              "      <td>-0.432161</td>\n",
              "      <td>-0.069964</td>\n",
              "      <td>-0.379097</td>\n",
              "      <td>0.769492</td>\n",
              "      <td>0.585658</td>\n",
              "      <td>0.511123</td>\n",
              "      <td>0.735197</td>\n",
              "      <td>0.586639</td>\n",
              "      <td>0.719216</td>\n",
              "      <td>1.000000</td>\n",
              "      <td>0.162347</td>\n",
              "    </tr>\n",
              "    <tr>\n",
              "      <th>Region</th>\n",
              "      <td>0.269555</td>\n",
              "      <td>-0.402682</td>\n",
              "      <td>-0.181160</td>\n",
              "      <td>-0.040013</td>\n",
              "      <td>0.222241</td>\n",
              "      <td>0.192089</td>\n",
              "      <td>-0.078734</td>\n",
              "      <td>0.263197</td>\n",
              "      <td>0.089408</td>\n",
              "      <td>0.197102</td>\n",
              "      <td>0.162347</td>\n",
              "      <td>1.000000</td>\n",
              "    </tr>\n",
              "  </tbody>\n",
              "</table>\n",
              "</div>"
            ],
            "text/plain": [
              "             Temperature        RH        Ws      Rain      FFMC       DMC  \\\n",
              "Temperature     1.000000 -0.651400 -0.284510 -0.326492  0.676568  0.485687   \n",
              "RH             -0.651400  1.000000  0.244048  0.222356 -0.644873 -0.408519   \n",
              "Ws             -0.284510  0.244048  1.000000  0.171506 -0.166548 -0.000721   \n",
              "Rain           -0.326492  0.222356  0.171506  1.000000 -0.543906 -0.288773   \n",
              "FFMC            0.676568 -0.644873 -0.166548 -0.543906  1.000000  0.603608   \n",
              "DMC             0.485687 -0.408519 -0.000721 -0.288773  0.603608  1.000000   \n",
              "DC              0.376284 -0.226941  0.079135 -0.298023  0.507397  0.875925   \n",
              "ISI             0.603871 -0.686667  0.008532 -0.347484  0.740007  0.680454   \n",
              "BUI             0.459789 -0.353841  0.031438 -0.299852  0.592011  0.982248   \n",
              "FWI             0.566670 -0.580957  0.032368 -0.324422  0.691132  0.875864   \n",
              "Classes         0.516015 -0.432161 -0.069964 -0.379097  0.769492  0.585658   \n",
              "Region          0.269555 -0.402682 -0.181160 -0.040013  0.222241  0.192089   \n",
              "\n",
              "                   DC       ISI       BUI       FWI   Classes    Region  \n",
              "Temperature  0.376284  0.603871  0.459789  0.566670  0.516015  0.269555  \n",
              "RH          -0.226941 -0.686667 -0.353841 -0.580957 -0.432161 -0.402682  \n",
              "Ws           0.079135  0.008532  0.031438  0.032368 -0.069964 -0.181160  \n",
              "Rain        -0.298023 -0.347484 -0.299852 -0.324422 -0.379097 -0.040013  \n",
              "FFMC         0.507397  0.740007  0.592011  0.691132  0.769492  0.222241  \n",
              "DMC          0.875925  0.680454  0.982248  0.875864  0.585658  0.192089  \n",
              "DC           1.000000  0.508643  0.941988  0.739521  0.511123 -0.078734  \n",
              "ISI          0.508643  1.000000  0.644093  0.922895  0.735197  0.263197  \n",
              "BUI          0.941988  0.644093  1.000000  0.857973  0.586639  0.089408  \n",
              "FWI          0.739521  0.922895  0.857973  1.000000  0.719216  0.197102  \n",
              "Classes      0.511123  0.735197  0.586639  0.719216  1.000000  0.162347  \n",
              "Region      -0.078734  0.263197  0.089408  0.197102  0.162347  1.000000  "
            ]
          },
          "execution_count": 33,
          "metadata": {},
          "output_type": "execute_result"
        }
      ],
      "source": [
        "# correlation\n",
        "df_copy.corr()"
      ]
    },
    {
      "cell_type": "code",
      "execution_count": 34,
      "metadata": {
        "colab": {
          "base_uri": "https://localhost:8080/",
          "height": 564
        },
        "id": "tQUZ1EMvXdQT",
        "outputId": "d6eb91df-c759-45d5-ba5f-da377844c69c"
      },
      "outputs": [
        {
          "data": {
            "text/plain": [
              "<Axes: >"
            ]
          },
          "execution_count": 34,
          "metadata": {},
          "output_type": "execute_result"
        },
        {
          "data": {
            "image/png": "[encoded data removed]",
            "text/plain": [
              "<Figure size 640x480 with 2 Axes>"
            ]
          },
          "metadata": {},
          "output_type": "display_data"
        }
      ],
      "source": [
        "sns.heatmap(df_copy.corr(),annot=True)"
      ]
    },
    {
      "cell_type": "code",
      "execution_count": 35,
      "metadata": {
        "colab": {
          "base_uri": "https://localhost:8080/",
          "height": 477
        },
        "id": "i_vjiEKfXvag",
        "outputId": "be742be0-5872-4c1d-97cc-0aca36445817"
      },
      "outputs": [
        {
          "data": {
            "text/plain": [
              "<Axes: ylabel='FWI'>"
            ]
          },
          "execution_count": 35,
          "metadata": {},
          "output_type": "execute_result"
        },
        {
          "data": {
            "image/png": "[encoded data removed]",
            "text/plain": [
              "<Figure size 640x480 with 1 Axes>"
            ]
          },
          "metadata": {},
          "output_type": "display_data"
        }
      ],
      "source": [
        "# Sox Plots\n",
        "sns.boxplot(df['FWI'],color='red')"
      ]
    },
    {
      "cell_type": "code",
      "execution_count": 36,
      "metadata": {
        "colab": {
          "base_uri": "https://localhost:8080/",
          "height": 226
        },
        "id": "Ri9nEQDOb1YY",
        "outputId": "2e35deaf-b526-4474-9d4f-8f3e6690eeee"
      },
      "outputs": [
        {
          "data": {
            "text/html": [
              "<div>\n",
              "<style scoped>\n",
              "    .dataframe tbody tr th:only-of-type {\n",
              "        vertical-align: middle;\n",
              "    }\n",
              "\n",
              "    .dataframe tbody tr th {\n",
              "        vertical-align: top;\n",
              "    }\n",
              "\n",
              "    .dataframe thead th {\n",
              "        text-align: right;\n",
              "    }\n",
              "</style>\n",
              "<table border=\"1\" class=\"dataframe\">\n",
              "  <thead>\n",
              "    <tr style=\"text-align: right;\">\n",
              "      <th></th>\n",
              "      <th>day</th>\n",
              "      <th>month</th>\n",
              "      <th>year</th>\n",
              "      <th>Temperature</th>\n",
              "      <th>RH</th>\n",
              "      <th>Ws</th>\n",
              "      <th>Rain</th>\n",
              "      <th>FFMC</th>\n",
              "      <th>DMC</th>\n",
              "      <th>DC</th>\n",
              "      <th>ISI</th>\n",
              "      <th>BUI</th>\n",
              "      <th>FWI</th>\n",
              "      <th>Classes</th>\n",
              "      <th>Region</th>\n",
              "    </tr>\n",
              "  </thead>\n",
              "  <tbody>\n",
              "    <tr>\n",
              "      <th>0</th>\n",
              "      <td>1</td>\n",
              "      <td>6</td>\n",
              "      <td>2012</td>\n",
              "      <td>29</td>\n",
              "      <td>57</td>\n",
              "      <td>18</td>\n",
              "      <td>0.0</td>\n",
              "      <td>65.7</td>\n",
              "      <td>3.4</td>\n",
              "      <td>7.6</td>\n",
              "      <td>1.3</td>\n",
              "      <td>3.4</td>\n",
              "      <td>0.5</td>\n",
              "      <td>not fire</td>\n",
              "      <td>0</td>\n",
              "    </tr>\n",
              "    <tr>\n",
              "      <th>1</th>\n",
              "      <td>2</td>\n",
              "      <td>6</td>\n",
              "      <td>2012</td>\n",
              "      <td>29</td>\n",
              "      <td>61</td>\n",
              "      <td>13</td>\n",
              "      <td>1.3</td>\n",
              "      <td>64.4</td>\n",
              "      <td>4.1</td>\n",
              "      <td>7.6</td>\n",
              "      <td>1.0</td>\n",
              "      <td>3.9</td>\n",
              "      <td>0.4</td>\n",
              "      <td>not fire</td>\n",
              "      <td>0</td>\n",
              "    </tr>\n",
              "    <tr>\n",
              "      <th>2</th>\n",
              "      <td>3</td>\n",
              "      <td>6</td>\n",
              "      <td>2012</td>\n",
              "      <td>26</td>\n",
              "      <td>82</td>\n",
              "      <td>22</td>\n",
              "      <td>13.1</td>\n",
              "      <td>47.1</td>\n",
              "      <td>2.5</td>\n",
              "      <td>7.1</td>\n",
              "      <td>0.3</td>\n",
              "      <td>2.7</td>\n",
              "      <td>0.1</td>\n",
              "      <td>not fire</td>\n",
              "      <td>0</td>\n",
              "    </tr>\n",
              "    <tr>\n",
              "      <th>3</th>\n",
              "      <td>4</td>\n",
              "      <td>6</td>\n",
              "      <td>2012</td>\n",
              "      <td>25</td>\n",
              "      <td>89</td>\n",
              "      <td>13</td>\n",
              "      <td>2.5</td>\n",
              "      <td>28.6</td>\n",
              "      <td>1.3</td>\n",
              "      <td>6.9</td>\n",
              "      <td>0.0</td>\n",
              "      <td>1.7</td>\n",
              "      <td>0.0</td>\n",
              "      <td>not fire</td>\n",
              "      <td>0</td>\n",
              "    </tr>\n",
              "    <tr>\n",
              "      <th>4</th>\n",
              "      <td>5</td>\n",
              "      <td>6</td>\n",
              "      <td>2012</td>\n",
              "      <td>27</td>\n",
              "      <td>77</td>\n",
              "      <td>16</td>\n",
              "      <td>0.0</td>\n",
              "      <td>64.8</td>\n",
              "      <td>3.0</td>\n",
              "      <td>14.2</td>\n",
              "      <td>1.2</td>\n",
              "      <td>3.9</td>\n",
              "      <td>0.5</td>\n",
              "      <td>not fire</td>\n",
              "      <td>0</td>\n",
              "    </tr>\n",
              "  </tbody>\n",
              "</table>\n",
              "</div>"
            ],
            "text/plain": [
              "   day  month  year  Temperature  RH  Ws  Rain  FFMC  DMC    DC  ISI  BUI  \\\n",
              "0    1      6  2012           29  57  18   0.0  65.7  3.4   7.6  1.3  3.4   \n",
              "1    2      6  2012           29  61  13   1.3  64.4  4.1   7.6  1.0  3.9   \n",
              "2    3      6  2012           26  82  22  13.1  47.1  2.5   7.1  0.3  2.7   \n",
              "3    4      6  2012           25  89  13   2.5  28.6  1.3   6.9  0.0  1.7   \n",
              "4    5      6  2012           27  77  16   0.0  64.8  3.0  14.2  1.2  3.9   \n",
              "\n",
              "   FWI      Classes  Region  \n",
              "0  0.5  not fire          0  \n",
              "1  0.4  not fire          0  \n",
              "2  0.1  not fire          0  \n",
              "3  0.0  not fire          0  \n",
              "4  0.5  not fire          0  "
            ]
          },
          "execution_count": 36,
          "metadata": {},
          "output_type": "execute_result"
        }
      ],
      "source": [
        "df.head()"
      ]
    },
    {
      "cell_type": "code",
      "execution_count": 37,
      "metadata": {
        "id": "tXpFapUpdqj4"
      },
      "outputs": [],
      "source": [
        "df['Classes'] = np.where(df['Classes'].str.contains('not fire'),'not fire','fire')\n"
      ]
    },
    {
      "cell_type": "code",
      "execution_count": 38,
      "metadata": {
        "colab": {
          "base_uri": "https://localhost:8080/",
          "height": 365
        },
        "id": "AQEV9X_rccSc",
        "outputId": "4a652a05-d09c-4988-da1e-6809b9879c66"
      },
      "outputs": [
        {
          "data": {
            "image/png": "[encoded data removed]",
            "text/plain": [
              "<Figure size 1300x600 with 1 Axes>"
            ]
          },
          "metadata": {},
          "output_type": "display_data"
        }
      ],
      "source": [
        "# Monthly Fire Analysis\n",
        "dftemp = df.loc[df['Region']==1]\n",
        "plt.subplots(figsize=(13,6))\n",
        "sns.set_style('whitegrid')\n",
        "sns.countplot(x='month',hue='Classes',data=df)\n",
        "plt.ylabel('Number of Fires',weight='bold')\n",
        "plt.xlabel('Month',weight='bold')\n",
        "plt.title('Monthly Fire Analysis',weight='bold')\n",
        "plt.show()"
      ]
    },
    {
      "cell_type": "code",
      "execution_count": 39,
      "metadata": {
        "colab": {
          "base_uri": "https://localhost:8080/",
          "height": 365
        },
        "id": "9em-N3_mdFfi",
        "outputId": "a96c3319-5ddd-45b3-c451-b0afcd619b45"
      },
      "outputs": [
        {
          "data": {
            "image/png": "[encoded data removed]",
            "text/plain": [
              "<Figure size 1300x600 with 1 Axes>"
            ]
          },
          "metadata": {},
          "output_type": "display_data"
        }
      ],
      "source": [
        "dftemp = df.loc[df['Region']==0]\n",
        "plt.subplots(figsize=(13,6))\n",
        "sns.set_style('whitegrid')\n",
        "sns.countplot(x='month',hue='Classes',data=df)\n",
        "plt.ylabel('Number of Fires',weight='bold')\n",
        "plt.xlabel('Month',weight='bold')\n",
        "plt.title('Monthly Fire Analysis',weight='bold')\n",
        "plt.show()"
      ]
    },
    {
      "cell_type": "markdown",
      "metadata": {
        "id": "lXCE983vxDcN"
      },
      "source": [
        "**Model Trainig**"
      ]
    },
    {
      "cell_type": "code",
      "execution_count": 40,
      "metadata": {
        "id": "gu1bPTSSexWk"
      },
      "outputs": [],
      "source": [
        "import pandas as pd\n",
        "import numpy as np\n",
        "import matplotlib.pyplot as plt\n",
        "import seaborn as sns\n",
        "from sklearn.model_selection import train_test_split"
      ]
    },
    {
      "cell_type": "code",
      "execution_count": 41,
      "metadata": {
        "colab": {
          "base_uri": "https://localhost:8080/",
          "height": 226
        },
        "id": "FBLIXccRAcf0",
        "outputId": "5b1ac600-5360-47e8-99d4-bad5c1de5dec"
      },
      "outputs": [
        {
          "data": {
            "text/html": [
              "<div>\n",
              "<style scoped>\n",
              "    .dataframe tbody tr th:only-of-type {\n",
              "        vertical-align: middle;\n",
              "    }\n",
              "\n",
              "    .dataframe tbody tr th {\n",
              "        vertical-align: top;\n",
              "    }\n",
              "\n",
              "    .dataframe thead th {\n",
              "        text-align: right;\n",
              "    }\n",
              "</style>\n",
              "<table border=\"1\" class=\"dataframe\">\n",
              "  <thead>\n",
              "    <tr style=\"text-align: right;\">\n",
              "      <th></th>\n",
              "      <th>day</th>\n",
              "      <th>month</th>\n",
              "      <th>year</th>\n",
              "      <th>Temperature</th>\n",
              "      <th>RH</th>\n",
              "      <th>Ws</th>\n",
              "      <th>Rain</th>\n",
              "      <th>FFMC</th>\n",
              "      <th>DMC</th>\n",
              "      <th>DC</th>\n",
              "      <th>ISI</th>\n",
              "      <th>BUI</th>\n",
              "      <th>FWI</th>\n",
              "      <th>Classes</th>\n",
              "      <th>Region</th>\n",
              "    </tr>\n",
              "  </thead>\n",
              "  <tbody>\n",
              "    <tr>\n",
              "      <th>0</th>\n",
              "      <td>1</td>\n",
              "      <td>6</td>\n",
              "      <td>2012</td>\n",
              "      <td>29</td>\n",
              "      <td>57</td>\n",
              "      <td>18</td>\n",
              "      <td>0.0</td>\n",
              "      <td>65.7</td>\n",
              "      <td>3.4</td>\n",
              "      <td>7.6</td>\n",
              "      <td>1.3</td>\n",
              "      <td>3.4</td>\n",
              "      <td>0.5</td>\n",
              "      <td>not fire</td>\n",
              "      <td>0</td>\n",
              "    </tr>\n",
              "    <tr>\n",
              "      <th>1</th>\n",
              "      <td>2</td>\n",
              "      <td>6</td>\n",
              "      <td>2012</td>\n",
              "      <td>29</td>\n",
              "      <td>61</td>\n",
              "      <td>13</td>\n",
              "      <td>1.3</td>\n",
              "      <td>64.4</td>\n",
              "      <td>4.1</td>\n",
              "      <td>7.6</td>\n",
              "      <td>1.0</td>\n",
              "      <td>3.9</td>\n",
              "      <td>0.4</td>\n",
              "      <td>not fire</td>\n",
              "      <td>0</td>\n",
              "    </tr>\n",
              "    <tr>\n",
              "      <th>2</th>\n",
              "      <td>3</td>\n",
              "      <td>6</td>\n",
              "      <td>2012</td>\n",
              "      <td>26</td>\n",
              "      <td>82</td>\n",
              "      <td>22</td>\n",
              "      <td>13.1</td>\n",
              "      <td>47.1</td>\n",
              "      <td>2.5</td>\n",
              "      <td>7.1</td>\n",
              "      <td>0.3</td>\n",
              "      <td>2.7</td>\n",
              "      <td>0.1</td>\n",
              "      <td>not fire</td>\n",
              "      <td>0</td>\n",
              "    </tr>\n",
              "    <tr>\n",
              "      <th>3</th>\n",
              "      <td>4</td>\n",
              "      <td>6</td>\n",
              "      <td>2012</td>\n",
              "      <td>25</td>\n",
              "      <td>89</td>\n",
              "      <td>13</td>\n",
              "      <td>2.5</td>\n",
              "      <td>28.6</td>\n",
              "      <td>1.3</td>\n",
              "      <td>6.9</td>\n",
              "      <td>0.0</td>\n",
              "      <td>1.7</td>\n",
              "      <td>0.0</td>\n",
              "      <td>not fire</td>\n",
              "      <td>0</td>\n",
              "    </tr>\n",
              "    <tr>\n",
              "      <th>4</th>\n",
              "      <td>5</td>\n",
              "      <td>6</td>\n",
              "      <td>2012</td>\n",
              "      <td>27</td>\n",
              "      <td>77</td>\n",
              "      <td>16</td>\n",
              "      <td>0.0</td>\n",
              "      <td>64.8</td>\n",
              "      <td>3.0</td>\n",
              "      <td>14.2</td>\n",
              "      <td>1.2</td>\n",
              "      <td>3.9</td>\n",
              "      <td>0.5</td>\n",
              "      <td>not fire</td>\n",
              "      <td>0</td>\n",
              "    </tr>\n",
              "  </tbody>\n",
              "</table>\n",
              "</div>"
            ],
            "text/plain": [
              "   day  month  year  Temperature  RH  Ws  Rain  FFMC  DMC    DC  ISI  BUI  \\\n",
              "0    1      6  2012           29  57  18   0.0  65.7  3.4   7.6  1.3  3.4   \n",
              "1    2      6  2012           29  61  13   1.3  64.4  4.1   7.6  1.0  3.9   \n",
              "2    3      6  2012           26  82  22  13.1  47.1  2.5   7.1  0.3  2.7   \n",
              "3    4      6  2012           25  89  13   2.5  28.6  1.3   6.9  0.0  1.7   \n",
              "4    5      6  2012           27  77  16   0.0  64.8  3.0  14.2  1.2  3.9   \n",
              "\n",
              "   FWI      Classes  Region  \n",
              "0  0.5  not fire          0  \n",
              "1  0.4  not fire          0  \n",
              "2  0.1  not fire          0  \n",
              "3  0.0  not fire          0  \n",
              "4  0.5  not fire          0  "
            ]
          },
          "execution_count": 41,
          "metadata": {},
          "output_type": "execute_result"
        }
      ],
      "source": [
        "df = pd.read_csv('Algerian_forest_fires_cleaned_dataset.csv')\n",
        "df.head()"
      ]
    },
    {
      "cell_type": "code",
      "execution_count": 42,
      "metadata": {
        "colab": {
          "base_uri": "https://localhost:8080/"
        },
        "id": "71yNcibVArjZ",
        "outputId": "cbdbbf2c-4db2-43b9-de79-f00686cebbf5"
      },
      "outputs": [
        {
          "data": {
            "text/plain": [
              "Index(['day', 'month', 'year', 'Temperature', 'RH', 'Ws', 'Rain', 'FFMC',\n",
              "       'DMC', 'DC', 'ISI', 'BUI', 'FWI', 'Classes', 'Region'],\n",
              "      dtype='object')"
            ]
          },
          "execution_count": 42,
          "metadata": {},
          "output_type": "execute_result"
        }
      ],
      "source": [
        "df.columns"
      ]
    },
    {
      "cell_type": "code",
      "execution_count": 43,
      "metadata": {
        "id": "TpTXRTwiAvv3"
      },
      "outputs": [],
      "source": [
        "#drop month,day and year\n",
        "df.drop(['day','month','year'],axis=1,inplace=True)"
      ]
    },
    {
      "cell_type": "code",
      "execution_count": 44,
      "metadata": {
        "colab": {
          "base_uri": "https://localhost:8080/",
          "height": 206
        },
        "id": "voCSYBIlAvsU",
        "outputId": "03d9f752-1078-4279-d174-b283cf444190"
      },
      "outputs": [
        {
          "data": {
            "text/html": [
              "<div>\n",
              "<style scoped>\n",
              "    .dataframe tbody tr th:only-of-type {\n",
              "        vertical-align: middle;\n",
              "    }\n",
              "\n",
              "    .dataframe tbody tr th {\n",
              "        vertical-align: top;\n",
              "    }\n",
              "\n",
              "    .dataframe thead th {\n",
              "        text-align: right;\n",
              "    }\n",
              "</style>\n",
              "<table border=\"1\" class=\"dataframe\">\n",
              "  <thead>\n",
              "    <tr style=\"text-align: right;\">\n",
              "      <th></th>\n",
              "      <th>Temperature</th>\n",
              "      <th>RH</th>\n",
              "      <th>Ws</th>\n",
              "      <th>Rain</th>\n",
              "      <th>FFMC</th>\n",
              "      <th>DMC</th>\n",
              "      <th>DC</th>\n",
              "      <th>ISI</th>\n",
              "      <th>BUI</th>\n",
              "      <th>FWI</th>\n",
              "      <th>Classes</th>\n",
              "      <th>Region</th>\n",
              "    </tr>\n",
              "  </thead>\n",
              "  <tbody>\n",
              "    <tr>\n",
              "      <th>0</th>\n",
              "      <td>29</td>\n",
              "      <td>57</td>\n",
              "      <td>18</td>\n",
              "      <td>0.0</td>\n",
              "      <td>65.7</td>\n",
              "      <td>3.4</td>\n",
              "      <td>7.6</td>\n",
              "      <td>1.3</td>\n",
              "      <td>3.4</td>\n",
              "      <td>0.5</td>\n",
              "      <td>not fire</td>\n",
              "      <td>0</td>\n",
              "    </tr>\n",
              "    <tr>\n",
              "      <th>1</th>\n",
              "      <td>29</td>\n",
              "      <td>61</td>\n",
              "      <td>13</td>\n",
              "      <td>1.3</td>\n",
              "      <td>64.4</td>\n",
              "      <td>4.1</td>\n",
              "      <td>7.6</td>\n",
              "      <td>1.0</td>\n",
              "      <td>3.9</td>\n",
              "      <td>0.4</td>\n",
              "      <td>not fire</td>\n",
              "      <td>0</td>\n",
              "    </tr>\n",
              "    <tr>\n",
              "      <th>2</th>\n",
              "      <td>26</td>\n",
              "      <td>82</td>\n",
              "      <td>22</td>\n",
              "      <td>13.1</td>\n",
              "      <td>47.1</td>\n",
              "      <td>2.5</td>\n",
              "      <td>7.1</td>\n",
              "      <td>0.3</td>\n",
              "      <td>2.7</td>\n",
              "      <td>0.1</td>\n",
              "      <td>not fire</td>\n",
              "      <td>0</td>\n",
              "    </tr>\n",
              "    <tr>\n",
              "      <th>3</th>\n",
              "      <td>25</td>\n",
              "      <td>89</td>\n",
              "      <td>13</td>\n",
              "      <td>2.5</td>\n",
              "      <td>28.6</td>\n",
              "      <td>1.3</td>\n",
              "      <td>6.9</td>\n",
              "      <td>0.0</td>\n",
              "      <td>1.7</td>\n",
              "      <td>0.0</td>\n",
              "      <td>not fire</td>\n",
              "      <td>0</td>\n",
              "    </tr>\n",
              "    <tr>\n",
              "      <th>4</th>\n",
              "      <td>27</td>\n",
              "      <td>77</td>\n",
              "      <td>16</td>\n",
              "      <td>0.0</td>\n",
              "      <td>64.8</td>\n",
              "      <td>3.0</td>\n",
              "      <td>14.2</td>\n",
              "      <td>1.2</td>\n",
              "      <td>3.9</td>\n",
              "      <td>0.5</td>\n",
              "      <td>not fire</td>\n",
              "      <td>0</td>\n",
              "    </tr>\n",
              "  </tbody>\n",
              "</table>\n",
              "</div>"
            ],
            "text/plain": [
              "   Temperature  RH  Ws  Rain  FFMC  DMC    DC  ISI  BUI  FWI      Classes  \\\n",
              "0           29  57  18   0.0  65.7  3.4   7.6  1.3  3.4  0.5  not fire      \n",
              "1           29  61  13   1.3  64.4  4.1   7.6  1.0  3.9  0.4  not fire      \n",
              "2           26  82  22  13.1  47.1  2.5   7.1  0.3  2.7  0.1  not fire      \n",
              "3           25  89  13   2.5  28.6  1.3   6.9  0.0  1.7  0.0  not fire      \n",
              "4           27  77  16   0.0  64.8  3.0  14.2  1.2  3.9  0.5  not fire      \n",
              "\n",
              "   Region  \n",
              "0       0  \n",
              "1       0  \n",
              "2       0  \n",
              "3       0  \n",
              "4       0  "
            ]
          },
          "execution_count": 44,
          "metadata": {},
          "output_type": "execute_result"
        }
      ],
      "source": [
        "df.head()"
      ]
    },
    {
      "cell_type": "code",
      "execution_count": 45,
      "metadata": {
        "colab": {
          "base_uri": "https://localhost:8080/",
          "height": 366
        },
        "id": "1dUJ9eXRBInu",
        "outputId": "9005d668-1939-455a-c038-53958bc0ce3b"
      },
      "outputs": [
        {
          "data": {
            "text/plain": [
              "Classes\n",
              "fire             131\n",
              "not fire         101\n",
              "fire               4\n",
              "fire               2\n",
              "not fire           2\n",
              "not fire           1\n",
              "not fire           1\n",
              "not fire           1\n",
              "Name: count, dtype: int64"
            ]
          },
          "execution_count": 45,
          "metadata": {},
          "output_type": "execute_result"
        }
      ],
      "source": [
        "df['Classes'].value_counts()"
      ]
    },
    {
      "cell_type": "code",
      "execution_count": 46,
      "metadata": {
        "id": "o0WMZlPYAvpg"
      },
      "outputs": [],
      "source": [
        "df['Classes'] = np.where(df['Classes'].str.contains('not fire'),0,1)"
      ]
    },
    {
      "cell_type": "code",
      "execution_count": 47,
      "metadata": {
        "colab": {
          "base_uri": "https://localhost:8080/",
          "height": 178
        },
        "id": "hNgzHUEWAvmr",
        "outputId": "8d0889f7-4569-4553-8157-d03e720f60f1"
      },
      "outputs": [
        {
          "data": {
            "text/plain": [
              "Classes\n",
              "1    137\n",
              "0    106\n",
              "Name: count, dtype: int64"
            ]
          },
          "execution_count": 47,
          "metadata": {},
          "output_type": "execute_result"
        }
      ],
      "source": [
        "df['Classes'].value_counts()"
      ]
    },
    {
      "cell_type": "code",
      "execution_count": 48,
      "metadata": {
        "id": "sMD3oCtIBjL1"
      },
      "outputs": [],
      "source": [
        "# independent and dependent features\n",
        "X = df.drop('FWI',axis=1)\n",
        "y = df['FWI']"
      ]
    },
    {
      "cell_type": "code",
      "execution_count": 49,
      "metadata": {
        "id": "7Sp4nQbrBzts"
      },
      "outputs": [],
      "source": [
        "#Train and test split\n",
        "X_train, X_test, y_train, y_test = train_test_split(X, y, test_size=0.25, random_state=42)"
      ]
    },
    {
      "cell_type": "code",
      "execution_count": 50,
      "metadata": {
        "colab": {
          "base_uri": "https://localhost:8080/"
        },
        "id": "wWC-r7kJB_mO",
        "outputId": "49fe81b6-7f4f-42c3-c4a3-80a412267bbf"
      },
      "outputs": [
        {
          "data": {
            "text/plain": [
              "((182, 11), (61, 11))"
            ]
          },
          "execution_count": 50,
          "metadata": {},
          "output_type": "execute_result"
        }
      ],
      "source": [
        "X_train.shape,X_test.shape"
      ]
    },
    {
      "cell_type": "code",
      "execution_count": 51,
      "metadata": {
        "colab": {
          "base_uri": "https://localhost:8080/",
          "height": 414
        },
        "id": "p0r72wc9CE48",
        "outputId": "917f7179-e837-46ff-dffa-2acf4f85bb14"
      },
      "outputs": [
        {
          "data": {
            "text/html": [
              "<div>\n",
              "<style scoped>\n",
              "    .dataframe tbody tr th:only-of-type {\n",
              "        vertical-align: middle;\n",
              "    }\n",
              "\n",
              "    .dataframe tbody tr th {\n",
              "        vertical-align: top;\n",
              "    }\n",
              "\n",
              "    .dataframe thead th {\n",
              "        text-align: right;\n",
              "    }\n",
              "</style>\n",
              "<table border=\"1\" class=\"dataframe\">\n",
              "  <thead>\n",
              "    <tr style=\"text-align: right;\">\n",
              "      <th></th>\n",
              "      <th>Temperature</th>\n",
              "      <th>RH</th>\n",
              "      <th>Ws</th>\n",
              "      <th>Rain</th>\n",
              "      <th>FFMC</th>\n",
              "      <th>DMC</th>\n",
              "      <th>DC</th>\n",
              "      <th>ISI</th>\n",
              "      <th>BUI</th>\n",
              "      <th>Classes</th>\n",
              "      <th>Region</th>\n",
              "    </tr>\n",
              "  </thead>\n",
              "  <tbody>\n",
              "    <tr>\n",
              "      <th>Temperature</th>\n",
              "      <td>1.000000</td>\n",
              "      <td>-0.656095</td>\n",
              "      <td>-0.305977</td>\n",
              "      <td>-0.317512</td>\n",
              "      <td>0.694768</td>\n",
              "      <td>0.498173</td>\n",
              "      <td>0.390684</td>\n",
              "      <td>0.629848</td>\n",
              "      <td>0.473609</td>\n",
              "      <td>0.542141</td>\n",
              "      <td>0.254549</td>\n",
              "    </tr>\n",
              "    <tr>\n",
              "      <th>RH</th>\n",
              "      <td>-0.656095</td>\n",
              "      <td>1.000000</td>\n",
              "      <td>0.225736</td>\n",
              "      <td>0.241656</td>\n",
              "      <td>-0.653023</td>\n",
              "      <td>-0.414601</td>\n",
              "      <td>-0.236078</td>\n",
              "      <td>-0.717804</td>\n",
              "      <td>-0.362317</td>\n",
              "      <td>-0.456876</td>\n",
              "      <td>-0.394665</td>\n",
              "    </tr>\n",
              "    <tr>\n",
              "      <th>Ws</th>\n",
              "      <td>-0.305977</td>\n",
              "      <td>0.225736</td>\n",
              "      <td>1.000000</td>\n",
              "      <td>0.251932</td>\n",
              "      <td>-0.190076</td>\n",
              "      <td>0.000379</td>\n",
              "      <td>0.096576</td>\n",
              "      <td>-0.023558</td>\n",
              "      <td>0.035633</td>\n",
              "      <td>-0.082570</td>\n",
              "      <td>-0.199969</td>\n",
              "    </tr>\n",
              "    <tr>\n",
              "      <th>Rain</th>\n",
              "      <td>-0.317512</td>\n",
              "      <td>0.241656</td>\n",
              "      <td>0.251932</td>\n",
              "      <td>1.000000</td>\n",
              "      <td>-0.545491</td>\n",
              "      <td>-0.289754</td>\n",
              "      <td>-0.302341</td>\n",
              "      <td>-0.345707</td>\n",
              "      <td>-0.300964</td>\n",
              "      <td>-0.369357</td>\n",
              "      <td>-0.059022</td>\n",
              "    </tr>\n",
              "    <tr>\n",
              "      <th>FFMC</th>\n",
              "      <td>0.694768</td>\n",
              "      <td>-0.653023</td>\n",
              "      <td>-0.190076</td>\n",
              "      <td>-0.545491</td>\n",
              "      <td>1.000000</td>\n",
              "      <td>0.620807</td>\n",
              "      <td>0.524101</td>\n",
              "      <td>0.750799</td>\n",
              "      <td>0.607210</td>\n",
              "      <td>0.781259</td>\n",
              "      <td>0.249514</td>\n",
              "    </tr>\n",
              "    <tr>\n",
              "      <th>DMC</th>\n",
              "      <td>0.498173</td>\n",
              "      <td>-0.414601</td>\n",
              "      <td>0.000379</td>\n",
              "      <td>-0.289754</td>\n",
              "      <td>0.620807</td>\n",
              "      <td>1.000000</td>\n",
              "      <td>0.868647</td>\n",
              "      <td>0.685656</td>\n",
              "      <td>0.983175</td>\n",
              "      <td>0.617273</td>\n",
              "      <td>0.212582</td>\n",
              "    </tr>\n",
              "    <tr>\n",
              "      <th>DC</th>\n",
              "      <td>0.390684</td>\n",
              "      <td>-0.236078</td>\n",
              "      <td>0.096576</td>\n",
              "      <td>-0.302341</td>\n",
              "      <td>0.524101</td>\n",
              "      <td>0.868647</td>\n",
              "      <td>1.000000</td>\n",
              "      <td>0.513701</td>\n",
              "      <td>0.942414</td>\n",
              "      <td>0.543581</td>\n",
              "      <td>-0.060838</td>\n",
              "    </tr>\n",
              "    <tr>\n",
              "      <th>ISI</th>\n",
              "      <td>0.629848</td>\n",
              "      <td>-0.717804</td>\n",
              "      <td>-0.023558</td>\n",
              "      <td>-0.345707</td>\n",
              "      <td>0.750799</td>\n",
              "      <td>0.685656</td>\n",
              "      <td>0.513701</td>\n",
              "      <td>1.000000</td>\n",
              "      <td>0.643818</td>\n",
              "      <td>0.742977</td>\n",
              "      <td>0.296441</td>\n",
              "    </tr>\n",
              "    <tr>\n",
              "      <th>BUI</th>\n",
              "      <td>0.473609</td>\n",
              "      <td>-0.362317</td>\n",
              "      <td>0.035633</td>\n",
              "      <td>-0.300964</td>\n",
              "      <td>0.607210</td>\n",
              "      <td>0.983175</td>\n",
              "      <td>0.942414</td>\n",
              "      <td>0.643818</td>\n",
              "      <td>1.000000</td>\n",
              "      <td>0.612239</td>\n",
              "      <td>0.114897</td>\n",
              "    </tr>\n",
              "    <tr>\n",
              "      <th>Classes</th>\n",
              "      <td>0.542141</td>\n",
              "      <td>-0.456876</td>\n",
              "      <td>-0.082570</td>\n",
              "      <td>-0.369357</td>\n",
              "      <td>0.781259</td>\n",
              "      <td>0.617273</td>\n",
              "      <td>0.543581</td>\n",
              "      <td>0.742977</td>\n",
              "      <td>0.612239</td>\n",
              "      <td>1.000000</td>\n",
              "      <td>0.188837</td>\n",
              "    </tr>\n",
              "    <tr>\n",
              "      <th>Region</th>\n",
              "      <td>0.254549</td>\n",
              "      <td>-0.394665</td>\n",
              "      <td>-0.199969</td>\n",
              "      <td>-0.059022</td>\n",
              "      <td>0.249514</td>\n",
              "      <td>0.212582</td>\n",
              "      <td>-0.060838</td>\n",
              "      <td>0.296441</td>\n",
              "      <td>0.114897</td>\n",
              "      <td>0.188837</td>\n",
              "      <td>1.000000</td>\n",
              "    </tr>\n",
              "  </tbody>\n",
              "</table>\n",
              "</div>"
            ],
            "text/plain": [
              "             Temperature        RH        Ws      Rain      FFMC       DMC  \\\n",
              "Temperature     1.000000 -0.656095 -0.305977 -0.317512  0.694768  0.498173   \n",
              "RH             -0.656095  1.000000  0.225736  0.241656 -0.653023 -0.414601   \n",
              "Ws             -0.305977  0.225736  1.000000  0.251932 -0.190076  0.000379   \n",
              "Rain           -0.317512  0.241656  0.251932  1.000000 -0.545491 -0.289754   \n",
              "FFMC            0.694768 -0.653023 -0.190076 -0.545491  1.000000  0.620807   \n",
              "DMC             0.498173 -0.414601  0.000379 -0.289754  0.620807  1.000000   \n",
              "DC              0.390684 -0.236078  0.096576 -0.302341  0.524101  0.868647   \n",
              "ISI             0.629848 -0.717804 -0.023558 -0.345707  0.750799  0.685656   \n",
              "BUI             0.473609 -0.362317  0.035633 -0.300964  0.607210  0.983175   \n",
              "Classes         0.542141 -0.456876 -0.082570 -0.369357  0.781259  0.617273   \n",
              "Region          0.254549 -0.394665 -0.199969 -0.059022  0.249514  0.212582   \n",
              "\n",
              "                   DC       ISI       BUI   Classes    Region  \n",
              "Temperature  0.390684  0.629848  0.473609  0.542141  0.254549  \n",
              "RH          -0.236078 -0.717804 -0.362317 -0.456876 -0.394665  \n",
              "Ws           0.096576 -0.023558  0.035633 -0.082570 -0.199969  \n",
              "Rain        -0.302341 -0.345707 -0.300964 -0.369357 -0.059022  \n",
              "FFMC         0.524101  0.750799  0.607210  0.781259  0.249514  \n",
              "DMC          0.868647  0.685656  0.983175  0.617273  0.212582  \n",
              "DC           1.000000  0.513701  0.942414  0.543581 -0.060838  \n",
              "ISI          0.513701  1.000000  0.643818  0.742977  0.296441  \n",
              "BUI          0.942414  0.643818  1.000000  0.612239  0.114897  \n",
              "Classes      0.543581  0.742977  0.612239  1.000000  0.188837  \n",
              "Region      -0.060838  0.296441  0.114897  0.188837  1.000000  "
            ]
          },
          "execution_count": 51,
          "metadata": {},
          "output_type": "execute_result"
        }
      ],
      "source": [
        "# Feature selection\n",
        "X_train.corr()"
      ]
    },
    {
      "cell_type": "code",
      "execution_count": 52,
      "metadata": {
        "colab": {
          "base_uri": "https://localhost:8080/",
          "height": 647
        },
        "id": "55ejFpUsCKmV",
        "outputId": "15ff8efe-5825-4037-8d38-654b06f0a5c4"
      },
      "outputs": [
        {
          "data": {
            "text/plain": [
              "<Axes: >"
            ]
          },
          "execution_count": 52,
          "metadata": {},
          "output_type": "execute_result"
        },
        {
          "data": {
            "image/png": "[encoded data removed]",
            "text/plain": [
              "<Figure size 1200x1000 with 2 Axes>"
            ]
          },
          "metadata": {},
          "output_type": "display_data"
        }
      ],
      "source": [
        "# Check for multicollinearity\n",
        "plt.figure(figsize=(12,10))\n",
        "sns.heatmap(X_train.corr(),annot=True)"
      ]
    },
    {
      "cell_type": "code",
      "execution_count": 53,
      "metadata": {
        "id": "EAaghfRHCZQV"
      },
      "outputs": [],
      "source": [
        "def correlation(dataset,thershold):\n",
        "  co_corr = set()\n",
        "  corr_matrix = dataset.corr()\n",
        "  for i in range(len(corr_matrix.columns)):\n",
        "    for j in range(i):\n",
        "      if abs(corr_matrix.iloc[i,j])>thershold:\n",
        "        colname = corr_matrix.columns[i]\n",
        "        co_corr.add(colname)\n",
        "  return co_corr"
      ]
    },
    {
      "cell_type": "code",
      "execution_count": 54,
      "metadata": {
        "id": "ojEMcHFYDD1J"
      },
      "outputs": [],
      "source": [
        "# threshold -- Domain expertise\n",
        "corr_features = correlation(X_train,0.85)"
      ]
    },
    {
      "cell_type": "code",
      "execution_count": 55,
      "metadata": {
        "colab": {
          "base_uri": "https://localhost:8080/"
        },
        "id": "iKo2rQsYDHzR",
        "outputId": "c500376a-42c8-459e-beb7-826407837346"
      },
      "outputs": [
        {
          "data": {
            "text/plain": [
              "((182, 9), (61, 9))"
            ]
          },
          "execution_count": 55,
          "metadata": {},
          "output_type": "execute_result"
        }
      ],
      "source": [
        "# drop features when correlation is more than 0.85\n",
        "X_train.drop(corr_features,axis=1,inplace=True)\n",
        "X_test.drop(corr_features,axis=1,inplace=True)\n",
        "X_train.shape,X_test.shape"
      ]
    },
    {
      "cell_type": "markdown",
      "metadata": {
        "id": "kCmlbcCCEZaK"
      },
      "source": [
        "**Feature Scaling OR Standardization**"
      ]
    },
    {
      "cell_type": "code",
      "execution_count": 56,
      "metadata": {
        "id": "ScC6cDKNEQfZ"
      },
      "outputs": [],
      "source": [
        "from sklearn.preprocessing import StandardScaler\n",
        "scaler = StandardScaler()\n",
        "X_train_scaled = scaler.fit_transform(X_train)\n",
        "X_test_scaled = scaler.transform(X_test)"
      ]
    },
    {
      "cell_type": "code",
      "execution_count": 57,
      "metadata": {
        "colab": {
          "base_uri": "https://localhost:8080/"
        },
        "id": "wSH8KGPhEtaQ",
        "outputId": "d6fd6a10-6911-4893-f776-40f5789e8505"
      },
      "outputs": [
        {
          "data": {
            "text/plain": [
              "array([[-0.84284248,  0.78307967,  1.29972026, ..., -0.62963326,\n",
              "        -1.10431526, -0.98907071],\n",
              "       [-0.30175842,  0.64950844, -0.59874754, ..., -0.93058524,\n",
              "        -1.10431526,  1.01105006],\n",
              "       [ 2.13311985, -2.08870172, -0.21905398, ...,  2.7271388 ,\n",
              "         0.90553851,  1.01105006],\n",
              "       ...,\n",
              "       [-1.9250106 ,  0.9166509 ,  0.54033314, ..., -1.06948615,\n",
              "        -1.10431526, -0.98907071],\n",
              "       [ 0.50986767, -0.21870454,  0.16063958, ...,  0.5973248 ,\n",
              "         0.90553851,  1.01105006],\n",
              "       [-0.57230045,  0.98343651,  2.05910739, ..., -0.86113478,\n",
              "        -1.10431526, -0.98907071]])"
            ]
          },
          "execution_count": 57,
          "metadata": {},
          "output_type": "execute_result"
        }
      ],
      "source": [
        "X_train_scaled"
      ]
    },
    {
      "cell_type": "code",
      "execution_count": 58,
      "metadata": {
        "colab": {
          "base_uri": "https://localhost:8080/",
          "height": 305
        },
        "id": "xr5_sPfTEvih",
        "outputId": "f4323ed3-0718-4b07-bd16-706efc8da883"
      },
      "outputs": [
        {
          "data": {
            "image/png": "[encoded data removed]",
            "text/plain": [
              "<Figure size 1500x1000 with 3 Axes>"
            ]
          },
          "metadata": {},
          "output_type": "display_data"
        }
      ],
      "source": [
        "# Boxplot To understand Effect of standard Scaler\n",
        "plt.subplots(figsize=(15,10))\n",
        "plt.subplot(2,2,1)\n",
        "sns.boxplot(data=X_train)\n",
        "plt.title('X_train Before Scaling')\n",
        "plt.subplot(2,2,2)\n",
        "sns.boxplot(data=X_train_scaled)\n",
        "plt.title('X_train After Scaling')\n",
        "plt.show()"
      ]
    },
    {
      "cell_type": "markdown",
      "metadata": {
        "id": "U-SCZVPGn2K_"
      },
      "source": [
        "**Linear Regression**"
      ]
    },
    {
      "cell_type": "code",
      "execution_count": 59,
      "metadata": {
        "colab": {
          "base_uri": "https://localhost:8080/",
          "height": 553
        },
        "id": "sHHdLKMTFMPa",
        "outputId": "2ecd5ce9-de31-47d4-a19a-1858bf03bdff"
      },
      "outputs": [
        {
          "name": "stdout",
          "output_type": "stream",
          "text": [
            "Mean Absolute Error: 0.5468236465249978\n",
            "R2 Score: 0.9847657384266951\n"
          ]
        },
        {
          "data": {
            "text/plain": [
              "Text(0, 0.5, 'Predicted')"
            ]
          },
          "execution_count": 59,
          "metadata": {},
          "output_type": "execute_result"
        },
        {
          "data": {
            "image/png": "[encoded data removed]",
            "text/plain": [
              "<Figure size 640x480 with 1 Axes>"
            ]
          },
          "metadata": {},
          "output_type": "display_data"
        }
      ],
      "source": [
        "from sklearn.linear_model import LinearRegression\n",
        "from sklearn.metrics import r2_score,mean_squared_error,mean_absolute_error\n",
        "\n",
        "linreg = LinearRegression()\n",
        "linreg.fit(X_train_scaled,y_train)\n",
        "y_pred = linreg.predict(X_test_scaled)\n",
        "mae = mean_absolute_error(y_test,y_pred)\n",
        "print(f'Mean Absolute Error: {mae}')\n",
        "score = r2_score(y_test,y_pred)\n",
        "print(f'R2 Score: {score}')\n",
        "plt.scatter(y_test,y_pred)\n",
        "plt.xlabel('Actual')\n",
        "plt.ylabel('Predicted')\n"
      ]
    },
    {
      "cell_type": "code",
      "execution_count": 60,
      "metadata": {
        "colab": {
          "base_uri": "https://localhost:8080/",
          "height": 553
        },
        "id": "q1rFNOSvpRp-",
        "outputId": "e2119ff9-35df-489c-ee9a-3fba235d9f9b"
      },
      "outputs": [
        {
          "name": "stdout",
          "output_type": "stream",
          "text": [
            "Mean Absolute Error: 1.133175994914409\n",
            "R2 Score: 0.9492020263112388\n"
          ]
        },
        {
          "data": {
            "text/plain": [
              "Text(0, 0.5, 'Predicted')"
            ]
          },
          "execution_count": 60,
          "metadata": {},
          "output_type": "execute_result"
        },
        {
          "data": {
            "image/png": "[encoded data removed]",
            "text/plain": [
              "<Figure size 640x480 with 1 Axes>"
            ]
          },
          "metadata": {},
          "output_type": "display_data"
        }
      ],
      "source": [
        "## Lasso Regression\n",
        "from sklearn.linear_model import Lasso\n",
        "from sklearn.metrics import r2_score,mean_squared_error,mean_absolute_error\n",
        "\n",
        "lassreg = Lasso()\n",
        "lassreg.fit(X_train_scaled,y_train)\n",
        "y_pred = lassreg.predict(X_test_scaled)\n",
        "mae = mean_absolute_error(y_test,y_pred)\n",
        "print(f'Mean Absolute Error: {mae}')\n",
        "score = r2_score(y_test,y_pred)\n",
        "print(f'R2 Score: {score}')\n",
        "plt.scatter(y_test,y_pred)\n",
        "plt.xlabel('Actual')\n",
        "plt.ylabel('Predicted')"
      ]
    },
    {
      "cell_type": "markdown",
      "metadata": {
        "id": "vjAEZjQyq82z"
      },
      "source": [
        "**Cross Validation Lasso**"
      ]
    },
    {
      "cell_type": "code",
      "execution_count": 61,
      "metadata": {
        "colab": {
          "base_uri": "https://localhost:8080/",
          "height": 74
        },
        "id": "iWTU_RoFq8SY",
        "outputId": "5f9e272d-a257-45cb-b2d0-8cbc3a69588e"
      },
      "outputs": [
        {
          "data": {
            "text/html": [
              "<style>#sk-container-id-1 {\n",
              "  /* Definition of color scheme common for light and dark mode */\n",
              "  --sklearn-color-text: black;\n",
              "  --sklearn-color-line: gray;\n",
              "  /* Definition of color scheme for unfitted estimators */\n",
              "  --sklearn-color-unfitted-level-0: #fff5e6;\n",
              "  --sklearn-color-unfitted-level-1: #f6e4d2;\n",
              "  --sklearn-color-unfitted-level-2: #ffe0b3;\n",
              "  --sklearn-color-unfitted-level-3: chocolate;\n",
              "  /* Definition of color scheme for fitted estimators */\n",
              "  --sklearn-color-fitted-level-0: #f0f8ff;\n",
              "  --sklearn-color-fitted-level-1: #d4ebff;\n",
              "  --sklearn-color-fitted-level-2: #b3dbfd;\n",
              "  --sklearn-color-fitted-level-3: cornflowerblue;\n",
              "\n",
              "  /* Specific color for light theme */\n",
              "  --sklearn-color-text-on-default-background: var(--sg-text-color, var(--theme-code-foreground, var(--jp-content-font-color1, black)));\n",
              "  --sklearn-color-background: var(--sg-background-color, var(--theme-background, var(--jp-layout-color0, white)));\n",
              "  --sklearn-color-border-box: var(--sg-text-color, var(--theme-code-foreground, var(--jp-content-font-color1, black)));\n",
              "  --sklearn-color-icon: #696969;\n",
              "\n",
              "  @media (prefers-color-scheme: dark) {\n",
              "    /* Redefinition of color scheme for dark theme */\n",
              "    --sklearn-color-text-on-default-background: var(--sg-text-color, var(--theme-code-foreground, var(--jp-content-font-color1, white)));\n",
              "    --sklearn-color-background: var(--sg-background-color, var(--theme-background, var(--jp-layout-color0, #111)));\n",
              "    --sklearn-color-border-box: var(--sg-text-color, var(--theme-code-foreground, var(--jp-content-font-color1, white)));\n",
              "    --sklearn-color-icon: #878787;\n",
              "  }\n",
              "}\n",
              "\n",
              "#sk-container-id-1 {\n",
              "  color: var(--sklearn-color-text);\n",
              "}\n",
              "\n",
              "#sk-container-id-1 pre {\n",
              "  padding: 0;\n",
              "}\n",
              "\n",
              "#sk-container-id-1 input.sk-hidden--visually {\n",
              "  border: 0;\n",
              "  clip: rect(1px 1px 1px 1px);\n",
              "  clip: rect(1px, 1px, 1px, 1px);\n",
              "  height: 1px;\n",
              "  margin: -1px;\n",
              "  overflow: hidden;\n",
              "  padding: 0;\n",
              "  position: absolute;\n",
              "  width: 1px;\n",
              "}\n",
              "\n",
              "#sk-container-id-1 div.sk-dashed-wrapped {\n",
              "  border: 1px dashed var(--sklearn-color-line);\n",
              "  margin: 0 0.4em 0.5em 0.4em;\n",
              "  box-sizing: border-box;\n",
              "  padding-bottom: 0.4em;\n",
              "  background-color: var(--sklearn-color-background);\n",
              "}\n",
              "\n",
              "#sk-container-id-1 div.sk-container {\n",
              "  /* jupyter's `normalize.less` sets `[hidden] { display: none; }`\n",
              "     but bootstrap.min.css set `[hidden] { display: none !important; }`\n",
              "     so we also need the `!important` here to be able to override the\n",
              "     default hidden behavior on the sphinx rendered scikit-learn.org.\n",
              "     See: https://github.com/scikit-learn/scikit-learn/issues/21755 */\n",
              "  display: inline-block !important;\n",
              "  position: relative;\n",
              "}\n",
              "\n",
              "#sk-container-id-1 div.sk-text-repr-fallback {\n",
              "  display: none;\n",
              "}\n",
              "\n",
              "div.sk-parallel-item,\n",
              "div.sk-serial,\n",
              "div.sk-item {\n",
              "  /* draw centered vertical line to link estimators */\n",
              "  background-image: linear-gradient(var(--sklearn-color-text-on-default-background), var(--sklearn-color-text-on-default-background));\n",
              "  background-size: 2px 100%;\n",
              "  background-repeat: no-repeat;\n",
              "  background-position: center center;\n",
              "}\n",
              "\n",
              "/* Parallel-specific style estimator block */\n",
              "\n",
              "#sk-container-id-1 div.sk-parallel-item::after {\n",
              "  content: \"\";\n",
              "  width: 100%;\n",
              "  border-bottom: 2px solid var(--sklearn-color-text-on-default-background);\n",
              "  flex-grow: 1;\n",
              "}\n",
              "\n",
              "#sk-container-id-1 div.sk-parallel {\n",
              "  display: flex;\n",
              "  align-items: stretch;\n",
              "  justify-content: center;\n",
              "  background-color: var(--sklearn-color-background);\n",
              "  position: relative;\n",
              "}\n",
              "\n",
              "#sk-container-id-1 div.sk-parallel-item {\n",
              "  display: flex;\n",
              "  flex-direction: column;\n",
              "}\n",
              "\n",
              "#sk-container-id-1 div.sk-parallel-item:first-child::after {\n",
              "  align-self: flex-end;\n",
              "  width: 50%;\n",
              "}\n",
              "\n",
              "#sk-container-id-1 div.sk-parallel-item:last-child::after {\n",
              "  align-self: flex-start;\n",
              "  width: 50%;\n",
              "}\n",
              "\n",
              "#sk-container-id-1 div.sk-parallel-item:only-child::after {\n",
              "  width: 0;\n",
              "}\n",
              "\n",
              "/* Serial-specific style estimator block */\n",
              "\n",
              "#sk-container-id-1 div.sk-serial {\n",
              "  display: flex;\n",
              "  flex-direction: column;\n",
              "  align-items: center;\n",
              "  background-color: var(--sklearn-color-background);\n",
              "  padding-right: 1em;\n",
              "  padding-left: 1em;\n",
              "}\n",
              "\n",
              "\n",
              "/* Toggleable style: style used for estimator/Pipeline/ColumnTransformer box that is\n",
              "clickable and can be expanded/collapsed.\n",
              "- Pipeline and ColumnTransformer use this feature and define the default style\n",
              "- Estimators will overwrite some part of the style using the `sk-estimator` class\n",
              "*/\n",
              "\n",
              "/* Pipeline and ColumnTransformer style (default) */\n",
              "\n",
              "#sk-container-id-1 div.sk-toggleable {\n",
              "  /* Default theme specific background. It is overwritten whether we have a\n",
              "  specific estimator or a Pipeline/ColumnTransformer */\n",
              "  background-color: var(--sklearn-color-background);\n",
              "}\n",
              "\n",
              "/* Toggleable label */\n",
              "#sk-container-id-1 label.sk-toggleable__label {\n",
              "  cursor: pointer;\n",
              "  display: block;\n",
              "  width: 100%;\n",
              "  margin-bottom: 0;\n",
              "  padding: 0.5em;\n",
              "  box-sizing: border-box;\n",
              "  text-align: center;\n",
              "}\n",
              "\n",
              "#sk-container-id-1 label.sk-toggleable__label-arrow:before {\n",
              "  /* Arrow on the left of the label */\n",
              "  content: \"▸\";\n",
              "  float: left;\n",
              "  margin-right: 0.25em;\n",
              "  color: var(--sklearn-color-icon);\n",
              "}\n",
              "\n",
              "#sk-container-id-1 label.sk-toggleable__label-arrow:hover:before {\n",
              "  color: var(--sklearn-color-text);\n",
              "}\n",
              "\n",
              "/* Toggleable content - dropdown */\n",
              "\n",
              "#sk-container-id-1 div.sk-toggleable__content {\n",
              "  max-height: 0;\n",
              "  max-width: 0;\n",
              "  overflow: hidden;\n",
              "  text-align: left;\n",
              "  /* unfitted */\n",
              "  background-color: var(--sklearn-color-unfitted-level-0);\n",
              "}\n",
              "\n",
              "#sk-container-id-1 div.sk-toggleable__content.fitted {\n",
              "  /* fitted */\n",
              "  background-color: var(--sklearn-color-fitted-level-0);\n",
              "}\n",
              "\n",
              "#sk-container-id-1 div.sk-toggleable__content pre {\n",
              "  margin: 0.2em;\n",
              "  border-radius: 0.25em;\n",
              "  color: var(--sklearn-color-text);\n",
              "  /* unfitted */\n",
              "  background-color: var(--sklearn-color-unfitted-level-0);\n",
              "}\n",
              "\n",
              "#sk-container-id-1 div.sk-toggleable__content.fitted pre {\n",
              "  /* unfitted */\n",
              "  background-color: var(--sklearn-color-fitted-level-0);\n",
              "}\n",
              "\n",
              "#sk-container-id-1 input.sk-toggleable__control:checked~div.sk-toggleable__content {\n",
              "  /* Expand drop-down */\n",
              "  max-height: 200px;\n",
              "  max-width: 100%;\n",
              "  overflow: auto;\n",
              "}\n",
              "\n",
              "#sk-container-id-1 input.sk-toggleable__control:checked~label.sk-toggleable__label-arrow:before {\n",
              "  content: \"▾\";\n",
              "}\n",
              "\n",
              "/* Pipeline/ColumnTransformer-specific style */\n",
              "\n",
              "#sk-container-id-1 div.sk-label input.sk-toggleable__control:checked~label.sk-toggleable__label {\n",
              "  color: var(--sklearn-color-text);\n",
              "  background-color: var(--sklearn-color-unfitted-level-2);\n",
              "}\n",
              "\n",
              "#sk-container-id-1 div.sk-label.fitted input.sk-toggleable__control:checked~label.sk-toggleable__label {\n",
              "  background-color: var(--sklearn-color-fitted-level-2);\n",
              "}\n",
              "\n",
              "/* Estimator-specific style */\n",
              "\n",
              "/* Colorize estimator box */\n",
              "#sk-container-id-1 div.sk-estimator input.sk-toggleable__control:checked~label.sk-toggleable__label {\n",
              "  /* unfitted */\n",
              "  background-color: var(--sklearn-color-unfitted-level-2);\n",
              "}\n",
              "\n",
              "#sk-container-id-1 div.sk-estimator.fitted input.sk-toggleable__control:checked~label.sk-toggleable__label {\n",
              "  /* fitted */\n",
              "  background-color: var(--sklearn-color-fitted-level-2);\n",
              "}\n",
              "\n",
              "#sk-container-id-1 div.sk-label label.sk-toggleable__label,\n",
              "#sk-container-id-1 div.sk-label label {\n",
              "  /* The background is the default theme color */\n",
              "  color: var(--sklearn-color-text-on-default-background);\n",
              "}\n",
              "\n",
              "/* On hover, darken the color of the background */\n",
              "#sk-container-id-1 div.sk-label:hover label.sk-toggleable__label {\n",
              "  color: var(--sklearn-color-text);\n",
              "  background-color: var(--sklearn-color-unfitted-level-2);\n",
              "}\n",
              "\n",
              "/* Label box, darken color on hover, fitted */\n",
              "#sk-container-id-1 div.sk-label.fitted:hover label.sk-toggleable__label.fitted {\n",
              "  color: var(--sklearn-color-text);\n",
              "  background-color: var(--sklearn-color-fitted-level-2);\n",
              "}\n",
              "\n",
              "/* Estimator label */\n",
              "\n",
              "#sk-container-id-1 div.sk-label label {\n",
              "  font-family: monospace;\n",
              "  font-weight: bold;\n",
              "  display: inline-block;\n",
              "  line-height: 1.2em;\n",
              "}\n",
              "\n",
              "#sk-container-id-1 div.sk-label-container {\n",
              "  text-align: center;\n",
              "}\n",
              "\n",
              "/* Estimator-specific */\n",
              "#sk-container-id-1 div.sk-estimator {\n",
              "  font-family: monospace;\n",
              "  border: 1px dotted var(--sklearn-color-border-box);\n",
              "  border-radius: 0.25em;\n",
              "  box-sizing: border-box;\n",
              "  margin-bottom: 0.5em;\n",
              "  /* unfitted */\n",
              "  background-color: var(--sklearn-color-unfitted-level-0);\n",
              "}\n",
              "\n",
              "#sk-container-id-1 div.sk-estimator.fitted {\n",
              "  /* fitted */\n",
              "  background-color: var(--sklearn-color-fitted-level-0);\n",
              "}\n",
              "\n",
              "/* on hover */\n",
              "#sk-container-id-1 div.sk-estimator:hover {\n",
              "  /* unfitted */\n",
              "  background-color: var(--sklearn-color-unfitted-level-2);\n",
              "}\n",
              "\n",
              "#sk-container-id-1 div.sk-estimator.fitted:hover {\n",
              "  /* fitted */\n",
              "  background-color: var(--sklearn-color-fitted-level-2);\n",
              "}\n",
              "\n",
              "/* Specification for estimator info (e.g. \"i\" and \"?\") */\n",
              "\n",
              "/* Common style for \"i\" and \"?\" */\n",
              "\n",
              ".sk-estimator-doc-link,\n",
              "a:link.sk-estimator-doc-link,\n",
              "a:visited.sk-estimator-doc-link {\n",
              "  float: right;\n",
              "  font-size: smaller;\n",
              "  line-height: 1em;\n",
              "  font-family: monospace;\n",
              "  background-color: var(--sklearn-color-background);\n",
              "  border-radius: 1em;\n",
              "  height: 1em;\n",
              "  width: 1em;\n",
              "  text-decoration: none !important;\n",
              "  margin-left: 1ex;\n",
              "  /* unfitted */\n",
              "  border: var(--sklearn-color-unfitted-level-1) 1pt solid;\n",
              "  color: var(--sklearn-color-unfitted-level-1);\n",
              "}\n",
              "\n",
              ".sk-estimator-doc-link.fitted,\n",
              "a:link.sk-estimator-doc-link.fitted,\n",
              "a:visited.sk-estimator-doc-link.fitted {\n",
              "  /* fitted */\n",
              "  border: var(--sklearn-color-fitted-level-1) 1pt solid;\n",
              "  color: var(--sklearn-color-fitted-level-1);\n",
              "}\n",
              "\n",
              "/* On hover */\n",
              "div.sk-estimator:hover .sk-estimator-doc-link:hover,\n",
              ".sk-estimator-doc-link:hover,\n",
              "div.sk-label-container:hover .sk-estimator-doc-link:hover,\n",
              ".sk-estimator-doc-link:hover {\n",
              "  /* unfitted */\n",
              "  background-color: var(--sklearn-color-unfitted-level-3);\n",
              "  color: var(--sklearn-color-background);\n",
              "  text-decoration: none;\n",
              "}\n",
              "\n",
              "div.sk-estimator.fitted:hover .sk-estimator-doc-link.fitted:hover,\n",
              ".sk-estimator-doc-link.fitted:hover,\n",
              "div.sk-label-container:hover .sk-estimator-doc-link.fitted:hover,\n",
              ".sk-estimator-doc-link.fitted:hover {\n",
              "  /* fitted */\n",
              "  background-color: var(--sklearn-color-fitted-level-3);\n",
              "  color: var(--sklearn-color-background);\n",
              "  text-decoration: none;\n",
              "}\n",
              "\n",
              "/* Span, style for the box shown on hovering the info icon */\n",
              ".sk-estimator-doc-link span {\n",
              "  display: none;\n",
              "  z-index: 9999;\n",
              "  position: relative;\n",
              "  font-weight: normal;\n",
              "  right: .2ex;\n",
              "  padding: .5ex;\n",
              "  margin: .5ex;\n",
              "  width: min-content;\n",
              "  min-width: 20ex;\n",
              "  max-width: 50ex;\n",
              "  color: var(--sklearn-color-text);\n",
              "  box-shadow: 2pt 2pt 4pt #999;\n",
              "  /* unfitted */\n",
              "  background: var(--sklearn-color-unfitted-level-0);\n",
              "  border: .5pt solid var(--sklearn-color-unfitted-level-3);\n",
              "}\n",
              "\n",
              ".sk-estimator-doc-link.fitted span {\n",
              "  /* fitted */\n",
              "  background: var(--sklearn-color-fitted-level-0);\n",
              "  border: var(--sklearn-color-fitted-level-3);\n",
              "}\n",
              "\n",
              ".sk-estimator-doc-link:hover span {\n",
              "  display: block;\n",
              "}\n",
              "\n",
              "/* \"?\"-specific style due to the `<a>` HTML tag */\n",
              "\n",
              "#sk-container-id-1 a.estimator_doc_link {\n",
              "  float: right;\n",
              "  font-size: 1rem;\n",
              "  line-height: 1em;\n",
              "  font-family: monospace;\n",
              "  background-color: var(--sklearn-color-background);\n",
              "  border-radius: 1rem;\n",
              "  height: 1rem;\n",
              "  width: 1rem;\n",
              "  text-decoration: none;\n",
              "  /* unfitted */\n",
              "  color: var(--sklearn-color-unfitted-level-1);\n",
              "  border: var(--sklearn-color-unfitted-level-1) 1pt solid;\n",
              "}\n",
              "\n",
              "#sk-container-id-1 a.estimator_doc_link.fitted {\n",
              "  /* fitted */\n",
              "  border: var(--sklearn-color-fitted-level-1) 1pt solid;\n",
              "  color: var(--sklearn-color-fitted-level-1);\n",
              "}\n",
              "\n",
              "/* On hover */\n",
              "#sk-container-id-1 a.estimator_doc_link:hover {\n",
              "  /* unfitted */\n",
              "  background-color: var(--sklearn-color-unfitted-level-3);\n",
              "  color: var(--sklearn-color-background);\n",
              "  text-decoration: none;\n",
              "}\n",
              "\n",
              "#sk-container-id-1 a.estimator_doc_link.fitted:hover {\n",
              "  /* fitted */\n",
              "  background-color: var(--sklearn-color-fitted-level-3);\n",
              "}\n",
              "</style><div id=\"sk-container-id-1\" class=\"sk-top-container\"><div class=\"sk-text-repr-fallback\"><pre>LassoCV(cv=5)</pre><b>In a Jupyter environment, please rerun this cell to show the HTML representation or trust the notebook. <br />On GitHub, the HTML representation is unable to render, please try loading this page with nbviewer.org.</b></div><div class=\"sk-container\" hidden><div class=\"sk-item\"><div class=\"sk-estimator fitted sk-toggleable\"><input class=\"sk-toggleable__control sk-hidden--visually\" id=\"sk-estimator-id-1\" type=\"checkbox\" checked><label for=\"sk-estimator-id-1\" class=\"sk-toggleable__label fitted sk-toggleable__label-arrow fitted\">&nbsp;&nbsp;LassoCV<a class=\"sk-estimator-doc-link fitted\" rel=\"noreferrer\" target=\"_blank\" href=\"https://scikit-learn.org/1.5/modules/generated/sklearn.linear_model.LassoCV.html\">?<span>Documentation for LassoCV</span></a><span class=\"sk-estimator-doc-link fitted\">i<span>Fitted</span></span></label><div class=\"sk-toggleable__content fitted\"><pre>LassoCV(cv=5)</pre></div> </div></div></div></div>"
            ],
            "text/plain": [
              "LassoCV(cv=5)"
            ]
          },
          "execution_count": 61,
          "metadata": {},
          "output_type": "execute_result"
        }
      ],
      "source": [
        "from sklearn.linear_model import LassoCV\n",
        "lassocv = LassoCV(cv=5)\n",
        "lassocv.fit(X_train_scaled,y_train)"
      ]
    },
    {
      "cell_type": "code",
      "execution_count": 62,
      "metadata": {
        "colab": {
          "base_uri": "https://localhost:8080/"
        },
        "id": "KjYRoEwCr6-Q",
        "outputId": "e9f47418-0cc4-483b-b9a6-7e8c35b82364"
      },
      "outputs": [
        {
          "data": {
            "text/plain": [
              "array([ 8.17490595,  7.68312478, -0.25676525,  4.72643402,  6.78715772,\n",
              "        1.77624325,  2.23148094,  7.64057821,  1.99176323,  3.39941035,\n",
              "        0.62808928,  9.95945488,  9.36168319, 16.98503659, 18.28488762,\n",
              "        1.61644108,  1.62751276, -0.6415713 ,  7.28510526,  3.10926518,\n",
              "        1.95541903,  0.18069335,  6.47563129,  0.14318503, 20.99597009,\n",
              "        5.11755206,  5.86208849,  9.75914403, -0.77037467,  9.91838577,\n",
              "        6.72277075, -0.31776007, 10.31109643, 14.4365551 ,  1.71022677,\n",
              "        0.83439752,  2.03414915,  5.97488529, -0.6263644 , -0.56200288,\n",
              "        6.47253729,  2.07971408,  8.46741557, -0.8464481 , 15.40443856,\n",
              "        8.32941189,  8.48782486,  1.44030355, 13.02752812,  1.20911545,\n",
              "       29.08623849,  5.49737681, 17.15937199, 19.28890096, 13.71102991,\n",
              "       16.05355549,  0.99056448,  9.0873725 ,  3.84455993, 14.43991192,\n",
              "        5.23034139])"
            ]
          },
          "execution_count": 62,
          "metadata": {},
          "output_type": "execute_result"
        }
      ],
      "source": [
        "lassocv.predict(X_test_scaled)"
      ]
    },
    {
      "cell_type": "code",
      "execution_count": 63,
      "metadata": {
        "colab": {
          "base_uri": "https://localhost:8080/"
        },
        "id": "lC-CD849sAip",
        "outputId": "46dcb280-2e4b-453f-e47a-7e11e4a2c975"
      },
      "outputs": [
        {
          "data": {
            "text/plain": [
              "np.float64(0.05725391318234408)"
            ]
          },
          "execution_count": 63,
          "metadata": {},
          "output_type": "execute_result"
        }
      ],
      "source": [
        "lassocv.alpha_"
      ]
    },
    {
      "cell_type": "code",
      "execution_count": 64,
      "metadata": {
        "colab": {
          "base_uri": "https://localhost:8080/"
        },
        "id": "jkyUe9eNsKPb",
        "outputId": "1d464cb2-022f-48da-838a-555b0044dc71"
      },
      "outputs": [
        {
          "data": {
            "text/plain": [
              "array([[53.64536329, 65.39074075, 54.89628985, 77.90299066, 39.38236846],\n",
              "       [46.99139716, 59.81506814, 49.29840831, 75.6645852 , 35.31758355],\n",
              "       [41.14908917, 53.9178721 , 42.49594889, 68.35708298, 31.76996123],\n",
              "       [36.05788169, 48.41773965, 36.66879347, 61.92819453, 28.67296816],\n",
              "       [31.62067285, 42.76466229, 31.68391904, 56.26841266, 24.93183295],\n",
              "       [27.75285367, 37.81922812, 27.42599138, 51.28216115, 21.56888645],\n",
              "       [24.3807738 , 33.49107651, 23.7950306 , 45.25481907, 18.66094162],\n",
              "       [21.44052804, 29.70161639, 20.70460191, 39.90418045, 16.14837778],\n",
              "       [18.876308  , 26.38208059, 18.07969934, 35.23429953, 13.97821475],\n",
              "       [16.63960395, 23.47341883, 15.85530749, 31.15712074, 12.10483403],\n",
              "       [14.68819307, 20.92329068, 13.97555108, 27.59649208, 10.48862803],\n",
              "       [12.98525144, 18.68636627, 12.39173305, 24.48611006,  9.09521221],\n",
              "       [11.49893734, 16.72312788, 11.06186319, 21.7677198 ,  7.89445038],\n",
              "       [10.2013182 , 14.9991189 ,  9.94965275, 19.39216316,  6.86106557],\n",
              "       [ 9.06814642, 13.48429046,  9.02375611, 17.31505177,  5.9722389 ],\n",
              "       [ 8.0783105 , 12.15220147,  8.25686268, 15.49825178,  5.20846991],\n",
              "       [ 7.21342796, 10.98048099,  7.62613185, 13.90854714,  4.5528438 ],\n",
              "       [ 6.45749132,  9.94890861,  7.11117548, 12.51700172,  3.99069111],\n",
              "       [ 5.79649781,  9.04007002,  6.69464754, 11.29840502,  3.50929245],\n",
              "       [ 5.21843764,  8.23876281,  6.36161441, 10.23043133,  3.09746419],\n",
              "       [ 4.71266457,  7.53171188,  6.09923004,  9.29470762,  2.74599653],\n",
              "       [ 4.2699656 ,  6.90732196,  5.89645437,  8.47412971,  2.44641798],\n",
              "       [ 3.88231419,  6.35546212,  5.74343167,  7.75415263,  2.19155766],\n",
              "       [ 3.54271656,  5.86727817,  5.63280675,  7.1220963 ,  1.97520698],\n",
              "       [ 3.24507798,  5.43490383,  5.55722342,  6.56690368,  1.79199187],\n",
              "       [ 2.98408648,  5.05183908,  5.51072584,  6.07893135,  1.6372624 ],\n",
              "       [ 2.75511169,  4.71201421,  5.48822878,  5.64976711,  1.50699679],\n",
              "       [ 2.55407274,  4.41024533,  5.48539678,  5.27207134,  1.39771812],\n",
              "       [ 2.37754224,  4.14199391,  5.49854058,  4.93929274,  1.30641528],\n",
              "       [ 2.22240106,  3.90328437,  5.52452745,  4.64615961,  1.23051895],\n",
              "       [ 2.08597116,  3.69063268,  5.56020979,  4.38761378,  1.16776797],\n",
              "       [ 1.9659162 ,  3.50098406,  5.6043589 ,  4.15939166,  1.11623041],\n",
              "       [ 1.86019735,  3.33165877,  5.65456906,  3.95776947,  1.07424081],\n",
              "       [ 1.76703503,  3.18030479,  5.70925192,  3.77949324,  1.04036447],\n",
              "       [ 1.6848755 ,  3.04481488,  5.76708269,  3.62171864,  1.01336643],\n",
              "       [ 1.61236193,  2.92346604,  5.82695915,  3.48195856,  0.99218458],\n",
              "       [ 1.54827557,  2.81461081,  5.88796931,  3.3580375 ,  0.97590638],\n",
              "       [ 1.49165092,  2.71684484,  5.94936347,  3.24805179,  0.96383716],\n",
              "       [ 1.44154595,  2.62893196,  6.01053016,  3.1503334 ,  0.95513053],\n",
              "       [ 1.39716889,  2.54978296,  6.07039933,  3.07232371,  0.94929556],\n",
              "       [ 1.35782745,  2.47843742,  6.12975718,  3.0041222 ,  0.94584218],\n",
              "       [ 1.32291594,  2.41404782,  6.18769529,  2.94364011,  0.94435089],\n",
              "       [ 1.29190414,  2.35586563,  6.24396657,  2.88962691,  0.94446421],\n",
              "       [ 1.26432775,  2.30322922,  6.29839177,  2.84193587,  0.94587808],\n",
              "       [ 1.23978001,  2.25555322,  6.35084178,  2.79951289,  0.94833447],\n",
              "       [ 1.21631899,  2.21233117,  6.39529714,  2.76173546,  0.9516149 ],\n",
              "       [ 1.18452807,  2.16000042,  6.42643862,  2.72805794,  0.95553494],\n",
              "       [ 1.15701368,  2.11158527,  6.45636883,  2.69761451,  0.95595979],\n",
              "       [ 1.13320995,  2.06862134,  6.48638494,  2.67077799,  0.93982106],\n",
              "       [ 1.11260173,  2.03047905,  6.51570208,  2.6467804 ,  0.9267394 ],\n",
              "       [ 1.09481028,  1.9965441 ,  6.54418839,  2.62528895,  0.92156967],\n",
              "       [ 1.07943936,  1.96633625,  6.57175064,  2.60556754,  0.91819477],\n",
              "       [ 1.06616655,  1.93941688,  6.60120289,  2.58826543,  0.91600498],\n",
              "       [ 1.05471212,  1.91540122,  6.66074506,  2.53939631,  0.91492536],\n",
              "       [ 1.04483316,  1.89395167,  6.72040081,  2.49354558,  0.91475751],\n",
              "       [ 1.03631885,  1.87477186,  6.77985049,  2.45183158,  0.91533073],\n",
              "       [ 1.02898619,  1.85760147,  6.8386118 ,  2.41402473,  0.91650002],\n",
              "       [ 1.02267637,  1.84221172,  6.89546904,  2.37952566,  0.91817465],\n",
              "       [ 1.0172516 ,  1.81986019,  6.95182997,  2.34943959,  0.92100746],\n",
              "       [ 1.01259234,  1.7874912 ,  7.00657253,  2.30905785,  0.91090128],\n",
              "       [ 0.99291676,  1.75813753,  7.05952508,  2.26689771,  0.88812743],\n",
              "       [ 0.96711245,  1.73133215,  7.11055395,  2.22965179,  0.86893338],\n",
              "       [ 0.94404465,  1.70754321,  7.15957739,  2.19646   ,  0.85251259],\n",
              "       [ 0.91746069,  1.68586828,  7.21115863,  2.16644165,  0.83841802],\n",
              "       [ 0.89121876,  1.66666838,  7.26823916,  2.14003416,  0.82646203],\n",
              "       [ 0.86783937,  1.64937312,  7.32193772,  2.11642121,  0.81629395],\n",
              "       [ 0.84703112,  1.6337788 ,  7.37194387,  2.09528441,  0.80766048],\n",
              "       [ 0.82845196,  1.619701  ,  7.42070575,  2.07634166,  0.80034774],\n",
              "       [ 0.81184328,  1.6069769 ,  7.46783924,  2.05934486,  0.79417047],\n",
              "       [ 0.79697877,  1.59523036,  7.51171241,  2.04379341,  0.78898574],\n",
              "       [ 0.78366252,  1.58481658,  7.5533042 ,  2.03007893,  0.78514158],\n",
              "       [ 0.77340653,  1.57536934,  7.59178479,  2.01773193,  0.78410497],\n",
              "       [ 0.76437368,  1.56730639,  7.62890427,  2.00633629,  0.78327866],\n",
              "       [ 0.75641103,  1.56014926,  7.66385201,  1.99569195,  0.78309295],\n",
              "       [ 0.74929762,  1.55377904,  7.69675973,  1.98581272,  0.78325254],\n",
              "       [ 0.7431075 ,  1.54808751,  7.72772336,  1.97708583,  0.78348718],\n",
              "       [ 0.73764056,  1.5428574 ,  7.75701245,  1.9690422 ,  0.78415382],\n",
              "       [ 0.73271889,  1.5383076 ,  7.78098988,  1.96195515,  0.78479522],\n",
              "       [ 0.72844826,  1.53422868,  7.80009362,  1.95555728,  0.78577592],\n",
              "       [ 0.72457927,  1.53042136,  7.81782859,  1.94960372,  0.78686385],\n",
              "       [ 0.72121402,  1.5271394 ,  7.83584096,  1.94420011,  0.78783843],\n",
              "       [ 0.71854269,  1.52403047,  7.8521645 ,  1.93945512,  0.78886011],\n",
              "       [ 0.71624922,  1.52137747,  7.86797141,  1.93532188,  0.79008917],\n",
              "       [ 0.71419505,  1.51882628,  7.8824946 ,  1.93156393,  0.7910736 ],\n",
              "       [ 0.71283686,  1.51649634,  7.89597341,  1.92813104,  0.79328236],\n",
              "       [ 0.7117556 ,  1.51454548,  7.90862683,  1.92492966,  0.7959553 ],\n",
              "       [ 0.71078691,  1.5128162 ,  7.92077339,  1.92207644,  0.79869912],\n",
              "       [ 0.71003406,  1.51137977,  7.93211766,  1.9195065 ,  0.80158876],\n",
              "       [ 0.7094272 ,  1.51017923,  7.94254787,  1.9171673 ,  0.80451499],\n",
              "       [ 0.70893209,  1.50910355,  7.95231005,  1.91555613,  0.80717091],\n",
              "       [ 0.70847636,  1.50819995,  7.96151575,  1.914521  ,  0.8098638 ],\n",
              "       [ 0.70814046,  1.50740984,  7.97034636,  1.91358558,  0.81227152],\n",
              "       [ 0.70789298,  1.5065737 ,  7.97838619,  1.91277526,  0.81468439],\n",
              "       [ 0.70770357,  1.50591279,  7.98587605,  1.9120262 ,  0.8170304 ],\n",
              "       [ 0.70752166,  1.50536216,  7.99241057,  1.91138883,  0.81925406],\n",
              "       [ 0.70734296,  1.50487616,  7.99849196,  1.91084915,  0.82119901],\n",
              "       [ 0.70724307,  1.50444309,  8.00451482,  1.91033293,  0.82327046],\n",
              "       [ 0.70719344,  1.50391791,  8.01011355,  1.9098903 ,  0.8250587 ],\n",
              "       [ 0.70714379,  1.50342997,  8.01481494,  1.90951275,  0.826765  ],\n",
              "       [ 0.70711086,  1.50300182,  8.01992921,  1.90919915,  0.82842365]])"
            ]
          },
          "execution_count": 64,
          "metadata": {},
          "output_type": "execute_result"
        }
      ],
      "source": [
        "lassocv.mse_path_"
      ]
    },
    {
      "cell_type": "code",
      "execution_count": 65,
      "metadata": {
        "colab": {
          "base_uri": "https://localhost:8080/",
          "height": 501
        },
        "id": "xALz6qQxsQsx",
        "outputId": "de2f5a40-80e3-4cf6-e9c3-ca9f3ae12f08"
      },
      "outputs": [
        {
          "data": {
            "text/plain": [
              "<matplotlib.collections.PathCollection at 0x1ac334c6810>"
            ]
          },
          "execution_count": 65,
          "metadata": {},
          "output_type": "execute_result"
        },
        {
          "data": {
            "image/png": "[encoded data removed]",
            "text/plain": [
              "<Figure size 640x480 with 1 Axes>"
            ]
          },
          "metadata": {},
          "output_type": "display_data"
        }
      ],
      "source": [
        "y_pred = lassocv.predict(X_test_scaled)\n",
        "plt.scatter(y_test,y_pred)"
      ]
    },
    {
      "cell_type": "code",
      "execution_count": 66,
      "metadata": {
        "colab": {
          "base_uri": "https://localhost:8080/"
        },
        "id": "0v6A3jijsQi0",
        "outputId": "bf95bb77-6abf-4103-f516-6115ebe5a719"
      },
      "outputs": [
        {
          "name": "stdout",
          "output_type": "stream",
          "text": [
            "Mean Absolute Error: 0.619970115826343\n",
            "R2 Score: 0.9820946715928275\n"
          ]
        }
      ],
      "source": [
        "mae = mean_absolute_error(y_test,y_pred)\n",
        "print(f'Mean Absolute Error: {mae}')\n",
        "score = r2_score(y_test,y_pred)\n",
        "print(f'R2 Score: {score}')"
      ]
    },
    {
      "cell_type": "code",
      "execution_count": 67,
      "metadata": {
        "colab": {
          "base_uri": "https://localhost:8080/",
          "height": 553
        },
        "id": "FWXmydM0p9Iq",
        "outputId": "8ef5a47f-0291-4ae2-8bbb-d3bcad7d559a"
      },
      "outputs": [
        {
          "name": "stdout",
          "output_type": "stream",
          "text": [
            "Mean Absolute Error: 0.5642305340105715\n",
            "R2 Score: 0.9842993364555512\n"
          ]
        },
        {
          "data": {
            "text/plain": [
              "Text(0, 0.5, 'Predicted')"
            ]
          },
          "execution_count": 67,
          "metadata": {},
          "output_type": "execute_result"
        },
        {
          "data": {
            "image/png": "[encoded data removed]",
            "text/plain": [
              "<Figure size 640x480 with 1 Axes>"
            ]
          },
          "metadata": {},
          "output_type": "display_data"
        }
      ],
      "source": [
        "## Ridge Regression\n",
        "from sklearn.linear_model import Ridge\n",
        "from sklearn.metrics import r2_score,mean_squared_error,mean_absolute_error\n",
        "\n",
        "ridgereg = Ridge()\n",
        "ridgereg.fit(X_train_scaled,y_train)\n",
        "y_pred = ridgereg.predict(X_test_scaled)\n",
        "mae = mean_absolute_error(y_test,y_pred)\n",
        "print(f'Mean Absolute Error: {mae}')\n",
        "score = r2_score(y_test,y_pred)\n",
        "print(f'R2 Score: {score}')\n",
        "plt.scatter(y_test,y_pred)\n",
        "plt.xlabel('Actual')\n",
        "plt.ylabel('Predicted')"
      ]
    },
    {
      "cell_type": "code",
      "execution_count": 68,
      "metadata": {
        "colab": {
          "base_uri": "https://localhost:8080/",
          "height": 553
        },
        "id": "7uya88I5swBL",
        "outputId": "773958b4-670c-400e-a67e-69d47d54d57d"
      },
      "outputs": [
        {
          "name": "stdout",
          "output_type": "stream",
          "text": [
            "Mean Absolute Error: 0.5642305340105715\n",
            "R2 Score: 0.9842993364555512\n"
          ]
        },
        {
          "data": {
            "text/plain": [
              "Text(0, 0.5, 'Predicted')"
            ]
          },
          "execution_count": 68,
          "metadata": {},
          "output_type": "execute_result"
        },
        {
          "data": {
            "image/png": "[encoded data removed]",
            "text/plain": [
              "<Figure size 640x480 with 1 Axes>"
            ]
          },
          "metadata": {},
          "output_type": "display_data"
        }
      ],
      "source": [
        "from sklearn.linear_model import RidgeCV\n",
        "ridgecv = RidgeCV(cv=5)\n",
        "ridgecv.fit(X_train_scaled,y_train)\n",
        "y_pred = ridgecv.predict(X_test_scaled)\n",
        "mae = mean_absolute_error(y_test,y_pred)\n",
        "print(f'Mean Absolute Error: {mae}')\n",
        "score = r2_score(y_test,y_pred)\n",
        "print(f'R2 Score: {score}')\n",
        "plt.scatter(y_test,y_pred)\n",
        "plt.xlabel('Actual')\n",
        "plt.ylabel('Predicted')"
      ]
    },
    {
      "cell_type": "code",
      "execution_count": 69,
      "metadata": {
        "colab": {
          "base_uri": "https://localhost:8080/"
        },
        "id": "JB8BMkTUte1Y",
        "outputId": "c68bda0d-0aca-4650-97a8-73c1feac0ef2"
      },
      "outputs": [
        {
          "data": {
            "text/plain": [
              "np.float64(1.0)"
            ]
          },
          "execution_count": 69,
          "metadata": {},
          "output_type": "execute_result"
        }
      ],
      "source": [
        "ridgecv.alpha_"
      ]
    },
    {
      "cell_type": "code",
      "execution_count": 70,
      "metadata": {
        "colab": {
          "base_uri": "https://localhost:8080/"
        },
        "id": "OUq72oYftehb",
        "outputId": "7d6ee88d-783d-4b0e-ae66-3a8508912c45"
      },
      "outputs": [
        {
          "data": {
            "text/plain": [
              "{'alpha_per_target': False,\n",
              " 'alphas': (0.1, 1.0, 10.0),\n",
              " 'cv': 5,\n",
              " 'fit_intercept': True,\n",
              " 'gcv_mode': None,\n",
              " 'scoring': None,\n",
              " 'store_cv_results': None,\n",
              " 'store_cv_values': 'deprecated'}"
            ]
          },
          "execution_count": 70,
          "metadata": {},
          "output_type": "execute_result"
        }
      ],
      "source": [
        "ridgecv.get_params()"
      ]
    },
    {
      "cell_type": "code",
      "execution_count": 71,
      "metadata": {
        "colab": {
          "base_uri": "https://localhost:8080/",
          "height": 553
        },
        "id": "W0gIygjqqIyK",
        "outputId": "9a6cc72c-9d61-4c40-f1e2-285769feca3c"
      },
      "outputs": [
        {
          "name": "stdout",
          "output_type": "stream",
          "text": [
            "Mean Absolute Error: 1.8822353634896005\n",
            "R2 Score: 0.8753460589519703\n"
          ]
        },
        {
          "data": {
            "text/plain": [
              "Text(0, 0.5, 'Predicted')"
            ]
          },
          "execution_count": 71,
          "metadata": {},
          "output_type": "execute_result"
        },
        {
          "data": {
            "image/png": "[encoded data removed]",
            "text/plain": [
              "<Figure size 640x480 with 1 Axes>"
            ]
          },
          "metadata": {},
          "output_type": "display_data"
        }
      ],
      "source": [
        "## Elasticnet Regression\n",
        "\n",
        "from sklearn.linear_model import ElasticNet\n",
        "from sklearn.metrics import r2_score,mean_squared_error,mean_absolute_error\n",
        "\n",
        "elasticNet = ElasticNet()\n",
        "elasticNet.fit(X_train_scaled,y_train)\n",
        "y_pred = elasticNet.predict(X_test_scaled)\n",
        "mae = mean_absolute_error(y_test,y_pred)\n",
        "print(f'Mean Absolute Error: {mae}')\n",
        "score = r2_score(y_test,y_pred)\n",
        "print(f'R2 Score: {score}')\n",
        "plt.scatter(y_test,y_pred)\n",
        "plt.xlabel('Actual')\n",
        "plt.ylabel('Predicted')"
      ]
    },
    {
      "cell_type": "code",
      "execution_count": 72,
      "metadata": {
        "colab": {
          "base_uri": "https://localhost:8080/",
          "height": 553
        },
        "id": "uXK3coKgtsDe",
        "outputId": "58b4d819-1de0-4b59-9064-87da6cf21cd7"
      },
      "outputs": [
        {
          "name": "stdout",
          "output_type": "stream",
          "text": [
            "Mean Absolute Error: 0.6575946731430898\n",
            "R2 Score: 0.9814217587854941\n"
          ]
        },
        {
          "data": {
            "text/plain": [
              "Text(0, 0.5, 'Predicted')"
            ]
          },
          "execution_count": 72,
          "metadata": {},
          "output_type": "execute_result"
        },
        {
          "data": {
            "image/png": "[encoded data removed]",
            "text/plain": [
              "<Figure size 640x480 with 1 Axes>"
            ]
          },
          "metadata": {},
          "output_type": "display_data"
        }
      ],
      "source": [
        "from sklearn.linear_model import ElasticNetCV\n",
        "elasticNetCV = ElasticNetCV(cv=5)\n",
        "elasticNetCV.fit(X_train_scaled,y_train)\n",
        "y_pred = elasticNetCV.predict(X_test_scaled)\n",
        "mae = mean_absolute_error(y_test,y_pred)\n",
        "print(f'Mean Absolute Error: {mae}')\n",
        "score = r2_score(y_test,y_pred)\n",
        "print(f'R2 Score: {score}')\n",
        "plt.scatter(y_test,y_pred)\n",
        "plt.xlabel('Actual')\n",
        "plt.ylabel('Predicted')"
      ]
    },
    {
      "cell_type": "code",
      "execution_count": 73,
      "metadata": {
        "id": "c7TpB5b0xsGy"
      },
      "outputs": [],
      "source": [
        "#pickle the machine learning models, preprocessing model standardscaler"
      ]
    },
    {
      "cell_type": "code",
      "execution_count": 74,
      "metadata": {
        "colab": {
          "base_uri": "https://localhost:8080/",
          "height": 74
        },
        "id": "lhRmy_BjxfyJ",
        "outputId": "e6fd556c-7832-4c24-e75a-9a870efb5b2f"
      },
      "outputs": [
        {
          "data": {
            "text/html": [
              "<style>#sk-container-id-2 {\n",
              "  /* Definition of color scheme common for light and dark mode */\n",
              "  --sklearn-color-text: black;\n",
              "  --sklearn-color-line: gray;\n",
              "  /* Definition of color scheme for unfitted estimators */\n",
              "  --sklearn-color-unfitted-level-0: #fff5e6;\n",
              "  --sklearn-color-unfitted-level-1: #f6e4d2;\n",
              "  --sklearn-color-unfitted-level-2: #ffe0b3;\n",
              "  --sklearn-color-unfitted-level-3: chocolate;\n",
              "  /* Definition of color scheme for fitted estimators */\n",
              "  --sklearn-color-fitted-level-0: #f0f8ff;\n",
              "  --sklearn-color-fitted-level-1: #d4ebff;\n",
              "  --sklearn-color-fitted-level-2: #b3dbfd;\n",
              "  --sklearn-color-fitted-level-3: cornflowerblue;\n",
              "\n",
              "  /* Specific color for light theme */\n",
              "  --sklearn-color-text-on-default-background: var(--sg-text-color, var(--theme-code-foreground, var(--jp-content-font-color1, black)));\n",
              "  --sklearn-color-background: var(--sg-background-color, var(--theme-background, var(--jp-layout-color0, white)));\n",
              "  --sklearn-color-border-box: var(--sg-text-color, var(--theme-code-foreground, var(--jp-content-font-color1, black)));\n",
              "  --sklearn-color-icon: #696969;\n",
              "\n",
              "  @media (prefers-color-scheme: dark) {\n",
              "    /* Redefinition of color scheme for dark theme */\n",
              "    --sklearn-color-text-on-default-background: var(--sg-text-color, var(--theme-code-foreground, var(--jp-content-font-color1, white)));\n",
              "    --sklearn-color-background: var(--sg-background-color, var(--theme-background, var(--jp-layout-color0, #111)));\n",
              "    --sklearn-color-border-box: var(--sg-text-color, var(--theme-code-foreground, var(--jp-content-font-color1, white)));\n",
              "    --sklearn-color-icon: #878787;\n",
              "  }\n",
              "}\n",
              "\n",
              "#sk-container-id-2 {\n",
              "  color: var(--sklearn-color-text);\n",
              "}\n",
              "\n",
              "#sk-container-id-2 pre {\n",
              "  padding: 0;\n",
              "}\n",
              "\n",
              "#sk-container-id-2 input.sk-hidden--visually {\n",
              "  border: 0;\n",
              "  clip: rect(1px 1px 1px 1px);\n",
              "  clip: rect(1px, 1px, 1px, 1px);\n",
              "  height: 1px;\n",
              "  margin: -1px;\n",
              "  overflow: hidden;\n",
              "  padding: 0;\n",
              "  position: absolute;\n",
              "  width: 1px;\n",
              "}\n",
              "\n",
              "#sk-container-id-2 div.sk-dashed-wrapped {\n",
              "  border: 1px dashed var(--sklearn-color-line);\n",
              "  margin: 0 0.4em 0.5em 0.4em;\n",
              "  box-sizing: border-box;\n",
              "  padding-bottom: 0.4em;\n",
              "  background-color: var(--sklearn-color-background);\n",
              "}\n",
              "\n",
              "#sk-container-id-2 div.sk-container {\n",
              "  /* jupyter's `normalize.less` sets `[hidden] { display: none; }`\n",
              "     but bootstrap.min.css set `[hidden] { display: none !important; }`\n",
              "     so we also need the `!important` here to be able to override the\n",
              "     default hidden behavior on the sphinx rendered scikit-learn.org.\n",
              "     See: https://github.com/scikit-learn/scikit-learn/issues/21755 */\n",
              "  display: inline-block !important;\n",
              "  position: relative;\n",
              "}\n",
              "\n",
              "#sk-container-id-2 div.sk-text-repr-fallback {\n",
              "  display: none;\n",
              "}\n",
              "\n",
              "div.sk-parallel-item,\n",
              "div.sk-serial,\n",
              "div.sk-item {\n",
              "  /* draw centered vertical line to link estimators */\n",
              "  background-image: linear-gradient(var(--sklearn-color-text-on-default-background), var(--sklearn-color-text-on-default-background));\n",
              "  background-size: 2px 100%;\n",
              "  background-repeat: no-repeat;\n",
              "  background-position: center center;\n",
              "}\n",
              "\n",
              "/* Parallel-specific style estimator block */\n",
              "\n",
              "#sk-container-id-2 div.sk-parallel-item::after {\n",
              "  content: \"\";\n",
              "  width: 100%;\n",
              "  border-bottom: 2px solid var(--sklearn-color-text-on-default-background);\n",
              "  flex-grow: 1;\n",
              "}\n",
              "\n",
              "#sk-container-id-2 div.sk-parallel {\n",
              "  display: flex;\n",
              "  align-items: stretch;\n",
              "  justify-content: center;\n",
              "  background-color: var(--sklearn-color-background);\n",
              "  position: relative;\n",
              "}\n",
              "\n",
              "#sk-container-id-2 div.sk-parallel-item {\n",
              "  display: flex;\n",
              "  flex-direction: column;\n",
              "}\n",
              "\n",
              "#sk-container-id-2 div.sk-parallel-item:first-child::after {\n",
              "  align-self: flex-end;\n",
              "  width: 50%;\n",
              "}\n",
              "\n",
              "#sk-container-id-2 div.sk-parallel-item:last-child::after {\n",
              "  align-self: flex-start;\n",
              "  width: 50%;\n",
              "}\n",
              "\n",
              "#sk-container-id-2 div.sk-parallel-item:only-child::after {\n",
              "  width: 0;\n",
              "}\n",
              "\n",
              "/* Serial-specific style estimator block */\n",
              "\n",
              "#sk-container-id-2 div.sk-serial {\n",
              "  display: flex;\n",
              "  flex-direction: column;\n",
              "  align-items: center;\n",
              "  background-color: var(--sklearn-color-background);\n",
              "  padding-right: 1em;\n",
              "  padding-left: 1em;\n",
              "}\n",
              "\n",
              "\n",
              "/* Toggleable style: style used for estimator/Pipeline/ColumnTransformer box that is\n",
              "clickable and can be expanded/collapsed.\n",
              "- Pipeline and ColumnTransformer use this feature and define the default style\n",
              "- Estimators will overwrite some part of the style using the `sk-estimator` class\n",
              "*/\n",
              "\n",
              "/* Pipeline and ColumnTransformer style (default) */\n",
              "\n",
              "#sk-container-id-2 div.sk-toggleable {\n",
              "  /* Default theme specific background. It is overwritten whether we have a\n",
              "  specific estimator or a Pipeline/ColumnTransformer */\n",
              "  background-color: var(--sklearn-color-background);\n",
              "}\n",
              "\n",
              "/* Toggleable label */\n",
              "#sk-container-id-2 label.sk-toggleable__label {\n",
              "  cursor: pointer;\n",
              "  display: block;\n",
              "  width: 100%;\n",
              "  margin-bottom: 0;\n",
              "  padding: 0.5em;\n",
              "  box-sizing: border-box;\n",
              "  text-align: center;\n",
              "}\n",
              "\n",
              "#sk-container-id-2 label.sk-toggleable__label-arrow:before {\n",
              "  /* Arrow on the left of the label */\n",
              "  content: \"▸\";\n",
              "  float: left;\n",
              "  margin-right: 0.25em;\n",
              "  color: var(--sklearn-color-icon);\n",
              "}\n",
              "\n",
              "#sk-container-id-2 label.sk-toggleable__label-arrow:hover:before {\n",
              "  color: var(--sklearn-color-text);\n",
              "}\n",
              "\n",
              "/* Toggleable content - dropdown */\n",
              "\n",
              "#sk-container-id-2 div.sk-toggleable__content {\n",
              "  max-height: 0;\n",
              "  max-width: 0;\n",
              "  overflow: hidden;\n",
              "  text-align: left;\n",
              "  /* unfitted */\n",
              "  background-color: var(--sklearn-color-unfitted-level-0);\n",
              "}\n",
              "\n",
              "#sk-container-id-2 div.sk-toggleable__content.fitted {\n",
              "  /* fitted */\n",
              "  background-color: var(--sklearn-color-fitted-level-0);\n",
              "}\n",
              "\n",
              "#sk-container-id-2 div.sk-toggleable__content pre {\n",
              "  margin: 0.2em;\n",
              "  border-radius: 0.25em;\n",
              "  color: var(--sklearn-color-text);\n",
              "  /* unfitted */\n",
              "  background-color: var(--sklearn-color-unfitted-level-0);\n",
              "}\n",
              "\n",
              "#sk-container-id-2 div.sk-toggleable__content.fitted pre {\n",
              "  /* unfitted */\n",
              "  background-color: var(--sklearn-color-fitted-level-0);\n",
              "}\n",
              "\n",
              "#sk-container-id-2 input.sk-toggleable__control:checked~div.sk-toggleable__content {\n",
              "  /* Expand drop-down */\n",
              "  max-height: 200px;\n",
              "  max-width: 100%;\n",
              "  overflow: auto;\n",
              "}\n",
              "\n",
              "#sk-container-id-2 input.sk-toggleable__control:checked~label.sk-toggleable__label-arrow:before {\n",
              "  content: \"▾\";\n",
              "}\n",
              "\n",
              "/* Pipeline/ColumnTransformer-specific style */\n",
              "\n",
              "#sk-container-id-2 div.sk-label input.sk-toggleable__control:checked~label.sk-toggleable__label {\n",
              "  color: var(--sklearn-color-text);\n",
              "  background-color: var(--sklearn-color-unfitted-level-2);\n",
              "}\n",
              "\n",
              "#sk-container-id-2 div.sk-label.fitted input.sk-toggleable__control:checked~label.sk-toggleable__label {\n",
              "  background-color: var(--sklearn-color-fitted-level-2);\n",
              "}\n",
              "\n",
              "/* Estimator-specific style */\n",
              "\n",
              "/* Colorize estimator box */\n",
              "#sk-container-id-2 div.sk-estimator input.sk-toggleable__control:checked~label.sk-toggleable__label {\n",
              "  /* unfitted */\n",
              "  background-color: var(--sklearn-color-unfitted-level-2);\n",
              "}\n",
              "\n",
              "#sk-container-id-2 div.sk-estimator.fitted input.sk-toggleable__control:checked~label.sk-toggleable__label {\n",
              "  /* fitted */\n",
              "  background-color: var(--sklearn-color-fitted-level-2);\n",
              "}\n",
              "\n",
              "#sk-container-id-2 div.sk-label label.sk-toggleable__label,\n",
              "#sk-container-id-2 div.sk-label label {\n",
              "  /* The background is the default theme color */\n",
              "  color: var(--sklearn-color-text-on-default-background);\n",
              "}\n",
              "\n",
              "/* On hover, darken the color of the background */\n",
              "#sk-container-id-2 div.sk-label:hover label.sk-toggleable__label {\n",
              "  color: var(--sklearn-color-text);\n",
              "  background-color: var(--sklearn-color-unfitted-level-2);\n",
              "}\n",
              "\n",
              "/* Label box, darken color on hover, fitted */\n",
              "#sk-container-id-2 div.sk-label.fitted:hover label.sk-toggleable__label.fitted {\n",
              "  color: var(--sklearn-color-text);\n",
              "  background-color: var(--sklearn-color-fitted-level-2);\n",
              "}\n",
              "\n",
              "/* Estimator label */\n",
              "\n",
              "#sk-container-id-2 div.sk-label label {\n",
              "  font-family: monospace;\n",
              "  font-weight: bold;\n",
              "  display: inline-block;\n",
              "  line-height: 1.2em;\n",
              "}\n",
              "\n",
              "#sk-container-id-2 div.sk-label-container {\n",
              "  text-align: center;\n",
              "}\n",
              "\n",
              "/* Estimator-specific */\n",
              "#sk-container-id-2 div.sk-estimator {\n",
              "  font-family: monospace;\n",
              "  border: 1px dotted var(--sklearn-color-border-box);\n",
              "  border-radius: 0.25em;\n",
              "  box-sizing: border-box;\n",
              "  margin-bottom: 0.5em;\n",
              "  /* unfitted */\n",
              "  background-color: var(--sklearn-color-unfitted-level-0);\n",
              "}\n",
              "\n",
              "#sk-container-id-2 div.sk-estimator.fitted {\n",
              "  /* fitted */\n",
              "  background-color: var(--sklearn-color-fitted-level-0);\n",
              "}\n",
              "\n",
              "/* on hover */\n",
              "#sk-container-id-2 div.sk-estimator:hover {\n",
              "  /* unfitted */\n",
              "  background-color: var(--sklearn-color-unfitted-level-2);\n",
              "}\n",
              "\n",
              "#sk-container-id-2 div.sk-estimator.fitted:hover {\n",
              "  /* fitted */\n",
              "  background-color: var(--sklearn-color-fitted-level-2);\n",
              "}\n",
              "\n",
              "/* Specification for estimator info (e.g. \"i\" and \"?\") */\n",
              "\n",
              "/* Common style for \"i\" and \"?\" */\n",
              "\n",
              ".sk-estimator-doc-link,\n",
              "a:link.sk-estimator-doc-link,\n",
              "a:visited.sk-estimator-doc-link {\n",
              "  float: right;\n",
              "  font-size: smaller;\n",
              "  line-height: 1em;\n",
              "  font-family: monospace;\n",
              "  background-color: var(--sklearn-color-background);\n",
              "  border-radius: 1em;\n",
              "  height: 1em;\n",
              "  width: 1em;\n",
              "  text-decoration: none !important;\n",
              "  margin-left: 1ex;\n",
              "  /* unfitted */\n",
              "  border: var(--sklearn-color-unfitted-level-1) 1pt solid;\n",
              "  color: var(--sklearn-color-unfitted-level-1);\n",
              "}\n",
              "\n",
              ".sk-estimator-doc-link.fitted,\n",
              "a:link.sk-estimator-doc-link.fitted,\n",
              "a:visited.sk-estimator-doc-link.fitted {\n",
              "  /* fitted */\n",
              "  border: var(--sklearn-color-fitted-level-1) 1pt solid;\n",
              "  color: var(--sklearn-color-fitted-level-1);\n",
              "}\n",
              "\n",
              "/* On hover */\n",
              "div.sk-estimator:hover .sk-estimator-doc-link:hover,\n",
              ".sk-estimator-doc-link:hover,\n",
              "div.sk-label-container:hover .sk-estimator-doc-link:hover,\n",
              ".sk-estimator-doc-link:hover {\n",
              "  /* unfitted */\n",
              "  background-color: var(--sklearn-color-unfitted-level-3);\n",
              "  color: var(--sklearn-color-background);\n",
              "  text-decoration: none;\n",
              "}\n",
              "\n",
              "div.sk-estimator.fitted:hover .sk-estimator-doc-link.fitted:hover,\n",
              ".sk-estimator-doc-link.fitted:hover,\n",
              "div.sk-label-container:hover .sk-estimator-doc-link.fitted:hover,\n",
              ".sk-estimator-doc-link.fitted:hover {\n",
              "  /* fitted */\n",
              "  background-color: var(--sklearn-color-fitted-level-3);\n",
              "  color: var(--sklearn-color-background);\n",
              "  text-decoration: none;\n",
              "}\n",
              "\n",
              "/* Span, style for the box shown on hovering the info icon */\n",
              ".sk-estimator-doc-link span {\n",
              "  display: none;\n",
              "  z-index: 9999;\n",
              "  position: relative;\n",
              "  font-weight: normal;\n",
              "  right: .2ex;\n",
              "  padding: .5ex;\n",
              "  margin: .5ex;\n",
              "  width: min-content;\n",
              "  min-width: 20ex;\n",
              "  max-width: 50ex;\n",
              "  color: var(--sklearn-color-text);\n",
              "  box-shadow: 2pt 2pt 4pt #999;\n",
              "  /* unfitted */\n",
              "  background: var(--sklearn-color-unfitted-level-0);\n",
              "  border: .5pt solid var(--sklearn-color-unfitted-level-3);\n",
              "}\n",
              "\n",
              ".sk-estimator-doc-link.fitted span {\n",
              "  /* fitted */\n",
              "  background: var(--sklearn-color-fitted-level-0);\n",
              "  border: var(--sklearn-color-fitted-level-3);\n",
              "}\n",
              "\n",
              ".sk-estimator-doc-link:hover span {\n",
              "  display: block;\n",
              "}\n",
              "\n",
              "/* \"?\"-specific style due to the `<a>` HTML tag */\n",
              "\n",
              "#sk-container-id-2 a.estimator_doc_link {\n",
              "  float: right;\n",
              "  font-size: 1rem;\n",
              "  line-height: 1em;\n",
              "  font-family: monospace;\n",
              "  background-color: var(--sklearn-color-background);\n",
              "  border-radius: 1rem;\n",
              "  height: 1rem;\n",
              "  width: 1rem;\n",
              "  text-decoration: none;\n",
              "  /* unfitted */\n",
              "  color: var(--sklearn-color-unfitted-level-1);\n",
              "  border: var(--sklearn-color-unfitted-level-1) 1pt solid;\n",
              "}\n",
              "\n",
              "#sk-container-id-2 a.estimator_doc_link.fitted {\n",
              "  /* fitted */\n",
              "  border: var(--sklearn-color-fitted-level-1) 1pt solid;\n",
              "  color: var(--sklearn-color-fitted-level-1);\n",
              "}\n",
              "\n",
              "/* On hover */\n",
              "#sk-container-id-2 a.estimator_doc_link:hover {\n",
              "  /* unfitted */\n",
              "  background-color: var(--sklearn-color-unfitted-level-3);\n",
              "  color: var(--sklearn-color-background);\n",
              "  text-decoration: none;\n",
              "}\n",
              "\n",
              "#sk-container-id-2 a.estimator_doc_link.fitted:hover {\n",
              "  /* fitted */\n",
              "  background-color: var(--sklearn-color-fitted-level-3);\n",
              "}\n",
              "</style><div id=\"sk-container-id-2\" class=\"sk-top-container\"><div class=\"sk-text-repr-fallback\"><pre>StandardScaler()</pre><b>In a Jupyter environment, please rerun this cell to show the HTML representation or trust the notebook. <br />On GitHub, the HTML representation is unable to render, please try loading this page with nbviewer.org.</b></div><div class=\"sk-container\" hidden><div class=\"sk-item\"><div class=\"sk-estimator fitted sk-toggleable\"><input class=\"sk-toggleable__control sk-hidden--visually\" id=\"sk-estimator-id-2\" type=\"checkbox\" checked><label for=\"sk-estimator-id-2\" class=\"sk-toggleable__label fitted sk-toggleable__label-arrow fitted\">&nbsp;&nbsp;StandardScaler<a class=\"sk-estimator-doc-link fitted\" rel=\"noreferrer\" target=\"_blank\" href=\"https://scikit-learn.org/1.5/modules/generated/sklearn.preprocessing.StandardScaler.html\">?<span>Documentation for StandardScaler</span></a><span class=\"sk-estimator-doc-link fitted\">i<span>Fitted</span></span></label><div class=\"sk-toggleable__content fitted\"><pre>StandardScaler()</pre></div> </div></div></div></div>"
            ],
            "text/plain": [
              "StandardScaler()"
            ]
          },
          "execution_count": 74,
          "metadata": {},
          "output_type": "execute_result"
        }
      ],
      "source": [
        "scaler"
      ]
    },
    {
      "cell_type": "code",
      "execution_count": 75,
      "metadata": {
        "colab": {
          "base_uri": "https://localhost:8080/",
          "height": 74
        },
        "id": "Oc5vmEhqxg3G",
        "outputId": "28064acb-1e4f-4824-ece6-1a49da3aa8d4"
      },
      "outputs": [
        {
          "data": {
            "text/html": [
              "<style>#sk-container-id-3 {\n",
              "  /* Definition of color scheme common for light and dark mode */\n",
              "  --sklearn-color-text: black;\n",
              "  --sklearn-color-line: gray;\n",
              "  /* Definition of color scheme for unfitted estimators */\n",
              "  --sklearn-color-unfitted-level-0: #fff5e6;\n",
              "  --sklearn-color-unfitted-level-1: #f6e4d2;\n",
              "  --sklearn-color-unfitted-level-2: #ffe0b3;\n",
              "  --sklearn-color-unfitted-level-3: chocolate;\n",
              "  /* Definition of color scheme for fitted estimators */\n",
              "  --sklearn-color-fitted-level-0: #f0f8ff;\n",
              "  --sklearn-color-fitted-level-1: #d4ebff;\n",
              "  --sklearn-color-fitted-level-2: #b3dbfd;\n",
              "  --sklearn-color-fitted-level-3: cornflowerblue;\n",
              "\n",
              "  /* Specific color for light theme */\n",
              "  --sklearn-color-text-on-default-background: var(--sg-text-color, var(--theme-code-foreground, var(--jp-content-font-color1, black)));\n",
              "  --sklearn-color-background: var(--sg-background-color, var(--theme-background, var(--jp-layout-color0, white)));\n",
              "  --sklearn-color-border-box: var(--sg-text-color, var(--theme-code-foreground, var(--jp-content-font-color1, black)));\n",
              "  --sklearn-color-icon: #696969;\n",
              "\n",
              "  @media (prefers-color-scheme: dark) {\n",
              "    /* Redefinition of color scheme for dark theme */\n",
              "    --sklearn-color-text-on-default-background: var(--sg-text-color, var(--theme-code-foreground, var(--jp-content-font-color1, white)));\n",
              "    --sklearn-color-background: var(--sg-background-color, var(--theme-background, var(--jp-layout-color0, #111)));\n",
              "    --sklearn-color-border-box: var(--sg-text-color, var(--theme-code-foreground, var(--jp-content-font-color1, white)));\n",
              "    --sklearn-color-icon: #878787;\n",
              "  }\n",
              "}\n",
              "\n",
              "#sk-container-id-3 {\n",
              "  color: var(--sklearn-color-text);\n",
              "}\n",
              "\n",
              "#sk-container-id-3 pre {\n",
              "  padding: 0;\n",
              "}\n",
              "\n",
              "#sk-container-id-3 input.sk-hidden--visually {\n",
              "  border: 0;\n",
              "  clip: rect(1px 1px 1px 1px);\n",
              "  clip: rect(1px, 1px, 1px, 1px);\n",
              "  height: 1px;\n",
              "  margin: -1px;\n",
              "  overflow: hidden;\n",
              "  padding: 0;\n",
              "  position: absolute;\n",
              "  width: 1px;\n",
              "}\n",
              "\n",
              "#sk-container-id-3 div.sk-dashed-wrapped {\n",
              "  border: 1px dashed var(--sklearn-color-line);\n",
              "  margin: 0 0.4em 0.5em 0.4em;\n",
              "  box-sizing: border-box;\n",
              "  padding-bottom: 0.4em;\n",
              "  background-color: var(--sklearn-color-background);\n",
              "}\n",
              "\n",
              "#sk-container-id-3 div.sk-container {\n",
              "  /* jupyter's `normalize.less` sets `[hidden] { display: none; }`\n",
              "     but bootstrap.min.css set `[hidden] { display: none !important; }`\n",
              "     so we also need the `!important` here to be able to override the\n",
              "     default hidden behavior on the sphinx rendered scikit-learn.org.\n",
              "     See: https://github.com/scikit-learn/scikit-learn/issues/21755 */\n",
              "  display: inline-block !important;\n",
              "  position: relative;\n",
              "}\n",
              "\n",
              "#sk-container-id-3 div.sk-text-repr-fallback {\n",
              "  display: none;\n",
              "}\n",
              "\n",
              "div.sk-parallel-item,\n",
              "div.sk-serial,\n",
              "div.sk-item {\n",
              "  /* draw centered vertical line to link estimators */\n",
              "  background-image: linear-gradient(var(--sklearn-color-text-on-default-background), var(--sklearn-color-text-on-default-background));\n",
              "  background-size: 2px 100%;\n",
              "  background-repeat: no-repeat;\n",
              "  background-position: center center;\n",
              "}\n",
              "\n",
              "/* Parallel-specific style estimator block */\n",
              "\n",
              "#sk-container-id-3 div.sk-parallel-item::after {\n",
              "  content: \"\";\n",
              "  width: 100%;\n",
              "  border-bottom: 2px solid var(--sklearn-color-text-on-default-background);\n",
              "  flex-grow: 1;\n",
              "}\n",
              "\n",
              "#sk-container-id-3 div.sk-parallel {\n",
              "  display: flex;\n",
              "  align-items: stretch;\n",
              "  justify-content: center;\n",
              "  background-color: var(--sklearn-color-background);\n",
              "  position: relative;\n",
              "}\n",
              "\n",
              "#sk-container-id-3 div.sk-parallel-item {\n",
              "  display: flex;\n",
              "  flex-direction: column;\n",
              "}\n",
              "\n",
              "#sk-container-id-3 div.sk-parallel-item:first-child::after {\n",
              "  align-self: flex-end;\n",
              "  width: 50%;\n",
              "}\n",
              "\n",
              "#sk-container-id-3 div.sk-parallel-item:last-child::after {\n",
              "  align-self: flex-start;\n",
              "  width: 50%;\n",
              "}\n",
              "\n",
              "#sk-container-id-3 div.sk-parallel-item:only-child::after {\n",
              "  width: 0;\n",
              "}\n",
              "\n",
              "/* Serial-specific style estimator block */\n",
              "\n",
              "#sk-container-id-3 div.sk-serial {\n",
              "  display: flex;\n",
              "  flex-direction: column;\n",
              "  align-items: center;\n",
              "  background-color: var(--sklearn-color-background);\n",
              "  padding-right: 1em;\n",
              "  padding-left: 1em;\n",
              "}\n",
              "\n",
              "\n",
              "/* Toggleable style: style used for estimator/Pipeline/ColumnTransformer box that is\n",
              "clickable and can be expanded/collapsed.\n",
              "- Pipeline and ColumnTransformer use this feature and define the default style\n",
              "- Estimators will overwrite some part of the style using the `sk-estimator` class\n",
              "*/\n",
              "\n",
              "/* Pipeline and ColumnTransformer style (default) */\n",
              "\n",
              "#sk-container-id-3 div.sk-toggleable {\n",
              "  /* Default theme specific background. It is overwritten whether we have a\n",
              "  specific estimator or a Pipeline/ColumnTransformer */\n",
              "  background-color: var(--sklearn-color-background);\n",
              "}\n",
              "\n",
              "/* Toggleable label */\n",
              "#sk-container-id-3 label.sk-toggleable__label {\n",
              "  cursor: pointer;\n",
              "  display: block;\n",
              "  width: 100%;\n",
              "  margin-bottom: 0;\n",
              "  padding: 0.5em;\n",
              "  box-sizing: border-box;\n",
              "  text-align: center;\n",
              "}\n",
              "\n",
              "#sk-container-id-3 label.sk-toggleable__label-arrow:before {\n",
              "  /* Arrow on the left of the label */\n",
              "  content: \"▸\";\n",
              "  float: left;\n",
              "  margin-right: 0.25em;\n",
              "  color: var(--sklearn-color-icon);\n",
              "}\n",
              "\n",
              "#sk-container-id-3 label.sk-toggleable__label-arrow:hover:before {\n",
              "  color: var(--sklearn-color-text);\n",
              "}\n",
              "\n",
              "/* Toggleable content - dropdown */\n",
              "\n",
              "#sk-container-id-3 div.sk-toggleable__content {\n",
              "  max-height: 0;\n",
              "  max-width: 0;\n",
              "  overflow: hidden;\n",
              "  text-align: left;\n",
              "  /* unfitted */\n",
              "  background-color: var(--sklearn-color-unfitted-level-0);\n",
              "}\n",
              "\n",
              "#sk-container-id-3 div.sk-toggleable__content.fitted {\n",
              "  /* fitted */\n",
              "  background-color: var(--sklearn-color-fitted-level-0);\n",
              "}\n",
              "\n",
              "#sk-container-id-3 div.sk-toggleable__content pre {\n",
              "  margin: 0.2em;\n",
              "  border-radius: 0.25em;\n",
              "  color: var(--sklearn-color-text);\n",
              "  /* unfitted */\n",
              "  background-color: var(--sklearn-color-unfitted-level-0);\n",
              "}\n",
              "\n",
              "#sk-container-id-3 div.sk-toggleable__content.fitted pre {\n",
              "  /* unfitted */\n",
              "  background-color: var(--sklearn-color-fitted-level-0);\n",
              "}\n",
              "\n",
              "#sk-container-id-3 input.sk-toggleable__control:checked~div.sk-toggleable__content {\n",
              "  /* Expand drop-down */\n",
              "  max-height: 200px;\n",
              "  max-width: 100%;\n",
              "  overflow: auto;\n",
              "}\n",
              "\n",
              "#sk-container-id-3 input.sk-toggleable__control:checked~label.sk-toggleable__label-arrow:before {\n",
              "  content: \"▾\";\n",
              "}\n",
              "\n",
              "/* Pipeline/ColumnTransformer-specific style */\n",
              "\n",
              "#sk-container-id-3 div.sk-label input.sk-toggleable__control:checked~label.sk-toggleable__label {\n",
              "  color: var(--sklearn-color-text);\n",
              "  background-color: var(--sklearn-color-unfitted-level-2);\n",
              "}\n",
              "\n",
              "#sk-container-id-3 div.sk-label.fitted input.sk-toggleable__control:checked~label.sk-toggleable__label {\n",
              "  background-color: var(--sklearn-color-fitted-level-2);\n",
              "}\n",
              "\n",
              "/* Estimator-specific style */\n",
              "\n",
              "/* Colorize estimator box */\n",
              "#sk-container-id-3 div.sk-estimator input.sk-toggleable__control:checked~label.sk-toggleable__label {\n",
              "  /* unfitted */\n",
              "  background-color: var(--sklearn-color-unfitted-level-2);\n",
              "}\n",
              "\n",
              "#sk-container-id-3 div.sk-estimator.fitted input.sk-toggleable__control:checked~label.sk-toggleable__label {\n",
              "  /* fitted */\n",
              "  background-color: var(--sklearn-color-fitted-level-2);\n",
              "}\n",
              "\n",
              "#sk-container-id-3 div.sk-label label.sk-toggleable__label,\n",
              "#sk-container-id-3 div.sk-label label {\n",
              "  /* The background is the default theme color */\n",
              "  color: var(--sklearn-color-text-on-default-background);\n",
              "}\n",
              "\n",
              "/* On hover, darken the color of the background */\n",
              "#sk-container-id-3 div.sk-label:hover label.sk-toggleable__label {\n",
              "  color: var(--sklearn-color-text);\n",
              "  background-color: var(--sklearn-color-unfitted-level-2);\n",
              "}\n",
              "\n",
              "/* Label box, darken color on hover, fitted */\n",
              "#sk-container-id-3 div.sk-label.fitted:hover label.sk-toggleable__label.fitted {\n",
              "  color: var(--sklearn-color-text);\n",
              "  background-color: var(--sklearn-color-fitted-level-2);\n",
              "}\n",
              "\n",
              "/* Estimator label */\n",
              "\n",
              "#sk-container-id-3 div.sk-label label {\n",
              "  font-family: monospace;\n",
              "  font-weight: bold;\n",
              "  display: inline-block;\n",
              "  line-height: 1.2em;\n",
              "}\n",
              "\n",
              "#sk-container-id-3 div.sk-label-container {\n",
              "  text-align: center;\n",
              "}\n",
              "\n",
              "/* Estimator-specific */\n",
              "#sk-container-id-3 div.sk-estimator {\n",
              "  font-family: monospace;\n",
              "  border: 1px dotted var(--sklearn-color-border-box);\n",
              "  border-radius: 0.25em;\n",
              "  box-sizing: border-box;\n",
              "  margin-bottom: 0.5em;\n",
              "  /* unfitted */\n",
              "  background-color: var(--sklearn-color-unfitted-level-0);\n",
              "}\n",
              "\n",
              "#sk-container-id-3 div.sk-estimator.fitted {\n",
              "  /* fitted */\n",
              "  background-color: var(--sklearn-color-fitted-level-0);\n",
              "}\n",
              "\n",
              "/* on hover */\n",
              "#sk-container-id-3 div.sk-estimator:hover {\n",
              "  /* unfitted */\n",
              "  background-color: var(--sklearn-color-unfitted-level-2);\n",
              "}\n",
              "\n",
              "#sk-container-id-3 div.sk-estimator.fitted:hover {\n",
              "  /* fitted */\n",
              "  background-color: var(--sklearn-color-fitted-level-2);\n",
              "}\n",
              "\n",
              "/* Specification for estimator info (e.g. \"i\" and \"?\") */\n",
              "\n",
              "/* Common style for \"i\" and \"?\" */\n",
              "\n",
              ".sk-estimator-doc-link,\n",
              "a:link.sk-estimator-doc-link,\n",
              "a:visited.sk-estimator-doc-link {\n",
              "  float: right;\n",
              "  font-size: smaller;\n",
              "  line-height: 1em;\n",
              "  font-family: monospace;\n",
              "  background-color: var(--sklearn-color-background);\n",
              "  border-radius: 1em;\n",
              "  height: 1em;\n",
              "  width: 1em;\n",
              "  text-decoration: none !important;\n",
              "  margin-left: 1ex;\n",
              "  /* unfitted */\n",
              "  border: var(--sklearn-color-unfitted-level-1) 1pt solid;\n",
              "  color: var(--sklearn-color-unfitted-level-1);\n",
              "}\n",
              "\n",
              ".sk-estimator-doc-link.fitted,\n",
              "a:link.sk-estimator-doc-link.fitted,\n",
              "a:visited.sk-estimator-doc-link.fitted {\n",
              "  /* fitted */\n",
              "  border: var(--sklearn-color-fitted-level-1) 1pt solid;\n",
              "  color: var(--sklearn-color-fitted-level-1);\n",
              "}\n",
              "\n",
              "/* On hover */\n",
              "div.sk-estimator:hover .sk-estimator-doc-link:hover,\n",
              ".sk-estimator-doc-link:hover,\n",
              "div.sk-label-container:hover .sk-estimator-doc-link:hover,\n",
              ".sk-estimator-doc-link:hover {\n",
              "  /* unfitted */\n",
              "  background-color: var(--sklearn-color-unfitted-level-3);\n",
              "  color: var(--sklearn-color-background);\n",
              "  text-decoration: none;\n",
              "}\n",
              "\n",
              "div.sk-estimator.fitted:hover .sk-estimator-doc-link.fitted:hover,\n",
              ".sk-estimator-doc-link.fitted:hover,\n",
              "div.sk-label-container:hover .sk-estimator-doc-link.fitted:hover,\n",
              ".sk-estimator-doc-link.fitted:hover {\n",
              "  /* fitted */\n",
              "  background-color: var(--sklearn-color-fitted-level-3);\n",
              "  color: var(--sklearn-color-background);\n",
              "  text-decoration: none;\n",
              "}\n",
              "\n",
              "/* Span, style for the box shown on hovering the info icon */\n",
              ".sk-estimator-doc-link span {\n",
              "  display: none;\n",
              "  z-index: 9999;\n",
              "  position: relative;\n",
              "  font-weight: normal;\n",
              "  right: .2ex;\n",
              "  padding: .5ex;\n",
              "  margin: .5ex;\n",
              "  width: min-content;\n",
              "  min-width: 20ex;\n",
              "  max-width: 50ex;\n",
              "  color: var(--sklearn-color-text);\n",
              "  box-shadow: 2pt 2pt 4pt #999;\n",
              "  /* unfitted */\n",
              "  background: var(--sklearn-color-unfitted-level-0);\n",
              "  border: .5pt solid var(--sklearn-color-unfitted-level-3);\n",
              "}\n",
              "\n",
              ".sk-estimator-doc-link.fitted span {\n",
              "  /* fitted */\n",
              "  background: var(--sklearn-color-fitted-level-0);\n",
              "  border: var(--sklearn-color-fitted-level-3);\n",
              "}\n",
              "\n",
              ".sk-estimator-doc-link:hover span {\n",
              "  display: block;\n",
              "}\n",
              "\n",
              "/* \"?\"-specific style due to the `<a>` HTML tag */\n",
              "\n",
              "#sk-container-id-3 a.estimator_doc_link {\n",
              "  float: right;\n",
              "  font-size: 1rem;\n",
              "  line-height: 1em;\n",
              "  font-family: monospace;\n",
              "  background-color: var(--sklearn-color-background);\n",
              "  border-radius: 1rem;\n",
              "  height: 1rem;\n",
              "  width: 1rem;\n",
              "  text-decoration: none;\n",
              "  /* unfitted */\n",
              "  color: var(--sklearn-color-unfitted-level-1);\n",
              "  border: var(--sklearn-color-unfitted-level-1) 1pt solid;\n",
              "}\n",
              "\n",
              "#sk-container-id-3 a.estimator_doc_link.fitted {\n",
              "  /* fitted */\n",
              "  border: var(--sklearn-color-fitted-level-1) 1pt solid;\n",
              "  color: var(--sklearn-color-fitted-level-1);\n",
              "}\n",
              "\n",
              "/* On hover */\n",
              "#sk-container-id-3 a.estimator_doc_link:hover {\n",
              "  /* unfitted */\n",
              "  background-color: var(--sklearn-color-unfitted-level-3);\n",
              "  color: var(--sklearn-color-background);\n",
              "  text-decoration: none;\n",
              "}\n",
              "\n",
              "#sk-container-id-3 a.estimator_doc_link.fitted:hover {\n",
              "  /* fitted */\n",
              "  background-color: var(--sklearn-color-fitted-level-3);\n",
              "}\n",
              "</style><div id=\"sk-container-id-3\" class=\"sk-top-container\"><div class=\"sk-text-repr-fallback\"><pre>Ridge()</pre><b>In a Jupyter environment, please rerun this cell to show the HTML representation or trust the notebook. <br />On GitHub, the HTML representation is unable to render, please try loading this page with nbviewer.org.</b></div><div class=\"sk-container\" hidden><div class=\"sk-item\"><div class=\"sk-estimator fitted sk-toggleable\"><input class=\"sk-toggleable__control sk-hidden--visually\" id=\"sk-estimator-id-3\" type=\"checkbox\" checked><label for=\"sk-estimator-id-3\" class=\"sk-toggleable__label fitted sk-toggleable__label-arrow fitted\">&nbsp;&nbsp;Ridge<a class=\"sk-estimator-doc-link fitted\" rel=\"noreferrer\" target=\"_blank\" href=\"https://scikit-learn.org/1.5/modules/generated/sklearn.linear_model.Ridge.html\">?<span>Documentation for Ridge</span></a><span class=\"sk-estimator-doc-link fitted\">i<span>Fitted</span></span></label><div class=\"sk-toggleable__content fitted\"><pre>Ridge()</pre></div> </div></div></div></div>"
            ],
            "text/plain": [
              "Ridge()"
            ]
          },
          "execution_count": 75,
          "metadata": {},
          "output_type": "execute_result"
        }
      ],
      "source": [
        "ridgereg"
      ]
    },
    {
      "cell_type": "code",
      "execution_count": 76,
      "metadata": {
        "id": "S0DESCcSyAPU"
      },
      "outputs": [],
      "source": [
        "import pickle\n",
        "pickle.dump(scaler,open('scaler.pkl','wb'))\n",
        "pickle.dump(ridgereg,open('ridgereg.pkl','wb'))"
      ]
    },
    {
      "cell_type": "code",
      "execution_count": null,
      "metadata": {
        "id": "JHWJW7QhyPuI"
      },
      "outputs": [],
      "source": []
    }
  ],
  "metadata": {
    "colab": {
      "provenance": []
    },
    "kernelspec": {
      "display_name": "Python 3",
      "name": "python3"
    },
    "language_info": {
      "codemirror_mode": {
        "name": "ipython",
        "version": 3
      },
      "file_extension": ".py",
      "mimetype": "text/x-python",
      "name": "python",
      "nbconvert_exporter": "python",
      "pygments_lexer": "ipython3",
      "version": "3.11.2"
    }
  },
  "nbformat": 4,
  "nbformat_minor": 0
}
